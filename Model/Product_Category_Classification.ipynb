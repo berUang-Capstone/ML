{
  "cells": [
    {
      "cell_type": "code",
      "execution_count": 1,
      "metadata": {
        "colab": {
          "base_uri": "https://localhost:8080/"
        },
        "id": "JF8CWRUp9MsE",
        "outputId": "b6667bb0-3c97-40a0-ee5e-d28e0aa75f64"
      },
      "outputs": [
        {
          "output_type": "stream",
          "name": "stdout",
          "text": [
            "Requirement already satisfied: gensim in /usr/local/lib/python3.10/dist-packages (4.3.2)\n",
            "Requirement already satisfied: scikit-learn in /usr/local/lib/python3.10/dist-packages (1.2.2)\n",
            "Requirement already satisfied: numpy>=1.18.5 in /usr/local/lib/python3.10/dist-packages (from gensim) (1.25.2)\n",
            "Requirement already satisfied: scipy>=1.7.0 in /usr/local/lib/python3.10/dist-packages (from gensim) (1.11.4)\n",
            "Requirement already satisfied: smart-open>=1.8.1 in /usr/local/lib/python3.10/dist-packages (from gensim) (6.4.0)\n",
            "Requirement already satisfied: joblib>=1.1.1 in /usr/local/lib/python3.10/dist-packages (from scikit-learn) (1.4.2)\n",
            "Requirement already satisfied: threadpoolctl>=2.0.0 in /usr/local/lib/python3.10/dist-packages (from scikit-learn) (3.5.0)\n"
          ]
        }
      ],
      "source": [
        "!pip install gensim scikit-learn"
      ]
    },
    {
      "cell_type": "code",
      "execution_count": 2,
      "metadata": {
        "id": "2m-hKBwv9eXi"
      },
      "outputs": [],
      "source": [
        "import gensim\n",
        "from gensim.models import Word2Vec\n",
        "import numpy as np\n",
        "import pandas as pd\n",
        "import tensorflow as tf\n",
        "from tensorflow.keras.preprocessing.text import Tokenizer\n",
        "from tensorflow.keras.preprocessing.sequence import pad_sequences\n",
        "from tensorflow.keras.models import Sequential\n",
        "from tensorflow.keras.utils import to_categorical\n",
        "from sklearn.preprocessing import LabelEncoder\n",
        "from sklearn.model_selection import train_test_split\n",
        "import matplotlib.pyplot as plt\n",
        "import re"
      ]
    },
    {
      "cell_type": "code",
      "execution_count": 7,
      "metadata": {
        "id": "ZMtnLlTD9jro",
        "colab": {
          "base_uri": "https://localhost:8080/"
        },
        "outputId": "d6db87a0-1694-49f6-8850-e9ef65755a4a"
      },
      "outputs": [
        {
          "output_type": "stream",
          "name": "stdout",
          "text": [
            "--2024-06-10 01:36:34--  https://raw.githubusercontent.com/berUang-Capstone/ML/main/Dataset/Dataset.csv\n",
            "Resolving raw.githubusercontent.com (raw.githubusercontent.com)... 185.199.108.133, 185.199.109.133, 185.199.110.133, ...\n",
            "Connecting to raw.githubusercontent.com (raw.githubusercontent.com)|185.199.108.133|:443... connected.\n",
            "HTTP request sent, awaiting response... 200 OK\n",
            "Length: 167034 (163K) [text/plain]\n",
            "Saving to: ‘dataset_product.csv’\n",
            "\n",
            "\rdataset_product.csv   0%[                    ]       0  --.-KB/s               \rdataset_product.csv 100%[===================>] 163.12K  --.-KB/s    in 0.02s   \n",
            "\n",
            "2024-06-10 01:36:34 (7.05 MB/s) - ‘dataset_product.csv’ saved [167034/167034]\n",
            "\n"
          ]
        }
      ],
      "source": [
        "!wget -O dataset_product.csv 'https://raw.githubusercontent.com/berUang-Capstone/ML/main/Dataset/Dataset.csv'\n"
      ]
    },
    {
      "cell_type": "code",
      "source": [
        "# file_path = 'Dataset.csv'\n",
        "data = pd.read_csv('dataset_product.csv')"
      ],
      "metadata": {
        "id": "3iyEWrcJvA4h"
      },
      "execution_count": 8,
      "outputs": []
    },
    {
      "cell_type": "code",
      "execution_count": 9,
      "metadata": {
        "colab": {
          "base_uri": "https://localhost:8080/",
          "height": 206
        },
        "id": "PJfPb2ZsKd1n",
        "outputId": "0ce3054f-df97-4d34-c061-f6229db445b6"
      },
      "outputs": [
        {
          "output_type": "execute_result",
          "data": {
            "text/plain": [
              "  Nama Product Categories  Unnamed: 2  Unnamed: 3  Unnamed: 4  Unnamed: 5  \\\n",
              "0  Nasi Goreng       Food         NaN         NaN         NaN         NaN   \n",
              "1       Es Teh       Food         NaN         NaN         NaN         NaN   \n",
              "2        Bakso       Food         NaN         NaN         NaN         NaN   \n",
              "3     Mie Ayam       Food         NaN         NaN         NaN         NaN   \n",
              "4         Kopi       Food         NaN         NaN         NaN         NaN   \n",
              "\n",
              "   Unnamed: 6  Unnamed: 7  Unnamed: 8  Unnamed: 9 Unnamed: 10  \n",
              "0         NaN         NaN         NaN         NaN         NaN  \n",
              "1         NaN         NaN         NaN         NaN         NaN  \n",
              "2         NaN         NaN         NaN         NaN         NaN  \n",
              "3         NaN         NaN         NaN         NaN         NaN  \n",
              "4         NaN         NaN         NaN         NaN         NaN  "
            ],
            "text/html": [
              "\n",
              "  <div id=\"df-a10b5382-1e38-4dad-8cb9-6785d37e70f5\" class=\"colab-df-container\">\n",
              "    <div>\n",
              "<style scoped>\n",
              "    .dataframe tbody tr th:only-of-type {\n",
              "        vertical-align: middle;\n",
              "    }\n",
              "\n",
              "    .dataframe tbody tr th {\n",
              "        vertical-align: top;\n",
              "    }\n",
              "\n",
              "    .dataframe thead th {\n",
              "        text-align: right;\n",
              "    }\n",
              "</style>\n",
              "<table border=\"1\" class=\"dataframe\">\n",
              "  <thead>\n",
              "    <tr style=\"text-align: right;\">\n",
              "      <th></th>\n",
              "      <th>Nama Product</th>\n",
              "      <th>Categories</th>\n",
              "      <th>Unnamed: 2</th>\n",
              "      <th>Unnamed: 3</th>\n",
              "      <th>Unnamed: 4</th>\n",
              "      <th>Unnamed: 5</th>\n",
              "      <th>Unnamed: 6</th>\n",
              "      <th>Unnamed: 7</th>\n",
              "      <th>Unnamed: 8</th>\n",
              "      <th>Unnamed: 9</th>\n",
              "      <th>Unnamed: 10</th>\n",
              "    </tr>\n",
              "  </thead>\n",
              "  <tbody>\n",
              "    <tr>\n",
              "      <th>0</th>\n",
              "      <td>Nasi Goreng</td>\n",
              "      <td>Food</td>\n",
              "      <td>NaN</td>\n",
              "      <td>NaN</td>\n",
              "      <td>NaN</td>\n",
              "      <td>NaN</td>\n",
              "      <td>NaN</td>\n",
              "      <td>NaN</td>\n",
              "      <td>NaN</td>\n",
              "      <td>NaN</td>\n",
              "      <td>NaN</td>\n",
              "    </tr>\n",
              "    <tr>\n",
              "      <th>1</th>\n",
              "      <td>Es Teh</td>\n",
              "      <td>Food</td>\n",
              "      <td>NaN</td>\n",
              "      <td>NaN</td>\n",
              "      <td>NaN</td>\n",
              "      <td>NaN</td>\n",
              "      <td>NaN</td>\n",
              "      <td>NaN</td>\n",
              "      <td>NaN</td>\n",
              "      <td>NaN</td>\n",
              "      <td>NaN</td>\n",
              "    </tr>\n",
              "    <tr>\n",
              "      <th>2</th>\n",
              "      <td>Bakso</td>\n",
              "      <td>Food</td>\n",
              "      <td>NaN</td>\n",
              "      <td>NaN</td>\n",
              "      <td>NaN</td>\n",
              "      <td>NaN</td>\n",
              "      <td>NaN</td>\n",
              "      <td>NaN</td>\n",
              "      <td>NaN</td>\n",
              "      <td>NaN</td>\n",
              "      <td>NaN</td>\n",
              "    </tr>\n",
              "    <tr>\n",
              "      <th>3</th>\n",
              "      <td>Mie Ayam</td>\n",
              "      <td>Food</td>\n",
              "      <td>NaN</td>\n",
              "      <td>NaN</td>\n",
              "      <td>NaN</td>\n",
              "      <td>NaN</td>\n",
              "      <td>NaN</td>\n",
              "      <td>NaN</td>\n",
              "      <td>NaN</td>\n",
              "      <td>NaN</td>\n",
              "      <td>NaN</td>\n",
              "    </tr>\n",
              "    <tr>\n",
              "      <th>4</th>\n",
              "      <td>Kopi</td>\n",
              "      <td>Food</td>\n",
              "      <td>NaN</td>\n",
              "      <td>NaN</td>\n",
              "      <td>NaN</td>\n",
              "      <td>NaN</td>\n",
              "      <td>NaN</td>\n",
              "      <td>NaN</td>\n",
              "      <td>NaN</td>\n",
              "      <td>NaN</td>\n",
              "      <td>NaN</td>\n",
              "    </tr>\n",
              "  </tbody>\n",
              "</table>\n",
              "</div>\n",
              "    <div class=\"colab-df-buttons\">\n",
              "\n",
              "  <div class=\"colab-df-container\">\n",
              "    <button class=\"colab-df-convert\" onclick=\"convertToInteractive('df-a10b5382-1e38-4dad-8cb9-6785d37e70f5')\"\n",
              "            title=\"Convert this dataframe to an interactive table.\"\n",
              "            style=\"display:none;\">\n",
              "\n",
              "  <svg xmlns=\"http://www.w3.org/2000/svg\" height=\"24px\" viewBox=\"0 -960 960 960\">\n",
              "    <path d=\"M120-120v-720h720v720H120Zm60-500h600v-160H180v160Zm220 220h160v-160H400v160Zm0 220h160v-160H400v160ZM180-400h160v-160H180v160Zm440 0h160v-160H620v160ZM180-180h160v-160H180v160Zm440 0h160v-160H620v160Z\"/>\n",
              "  </svg>\n",
              "    </button>\n",
              "\n",
              "  <style>\n",
              "    .colab-df-container {\n",
              "      display:flex;\n",
              "      gap: 12px;\n",
              "    }\n",
              "\n",
              "    .colab-df-convert {\n",
              "      background-color: #E8F0FE;\n",
              "      border: none;\n",
              "      border-radius: 50%;\n",
              "      cursor: pointer;\n",
              "      display: none;\n",
              "      fill: #1967D2;\n",
              "      height: 32px;\n",
              "      padding: 0 0 0 0;\n",
              "      width: 32px;\n",
              "    }\n",
              "\n",
              "    .colab-df-convert:hover {\n",
              "      background-color: #E2EBFA;\n",
              "      box-shadow: 0px 1px 2px rgba(60, 64, 67, 0.3), 0px 1px 3px 1px rgba(60, 64, 67, 0.15);\n",
              "      fill: #174EA6;\n",
              "    }\n",
              "\n",
              "    .colab-df-buttons div {\n",
              "      margin-bottom: 4px;\n",
              "    }\n",
              "\n",
              "    [theme=dark] .colab-df-convert {\n",
              "      background-color: #3B4455;\n",
              "      fill: #D2E3FC;\n",
              "    }\n",
              "\n",
              "    [theme=dark] .colab-df-convert:hover {\n",
              "      background-color: #434B5C;\n",
              "      box-shadow: 0px 1px 3px 1px rgba(0, 0, 0, 0.15);\n",
              "      filter: drop-shadow(0px 1px 2px rgba(0, 0, 0, 0.3));\n",
              "      fill: #FFFFFF;\n",
              "    }\n",
              "  </style>\n",
              "\n",
              "    <script>\n",
              "      const buttonEl =\n",
              "        document.querySelector('#df-a10b5382-1e38-4dad-8cb9-6785d37e70f5 button.colab-df-convert');\n",
              "      buttonEl.style.display =\n",
              "        google.colab.kernel.accessAllowed ? 'block' : 'none';\n",
              "\n",
              "      async function convertToInteractive(key) {\n",
              "        const element = document.querySelector('#df-a10b5382-1e38-4dad-8cb9-6785d37e70f5');\n",
              "        const dataTable =\n",
              "          await google.colab.kernel.invokeFunction('convertToInteractive',\n",
              "                                                    [key], {});\n",
              "        if (!dataTable) return;\n",
              "\n",
              "        const docLinkHtml = 'Like what you see? Visit the ' +\n",
              "          '<a target=\"_blank\" href=https://colab.research.google.com/notebooks/data_table.ipynb>data table notebook</a>'\n",
              "          + ' to learn more about interactive tables.';\n",
              "        element.innerHTML = '';\n",
              "        dataTable['output_type'] = 'display_data';\n",
              "        await google.colab.output.renderOutput(dataTable, element);\n",
              "        const docLink = document.createElement('div');\n",
              "        docLink.innerHTML = docLinkHtml;\n",
              "        element.appendChild(docLink);\n",
              "      }\n",
              "    </script>\n",
              "  </div>\n",
              "\n",
              "\n",
              "<div id=\"df-3d7eeefd-a9ab-407b-b501-b7de273abb9c\">\n",
              "  <button class=\"colab-df-quickchart\" onclick=\"quickchart('df-3d7eeefd-a9ab-407b-b501-b7de273abb9c')\"\n",
              "            title=\"Suggest charts\"\n",
              "            style=\"display:none;\">\n",
              "\n",
              "<svg xmlns=\"http://www.w3.org/2000/svg\" height=\"24px\"viewBox=\"0 0 24 24\"\n",
              "     width=\"24px\">\n",
              "    <g>\n",
              "        <path d=\"M19 3H5c-1.1 0-2 .9-2 2v14c0 1.1.9 2 2 2h14c1.1 0 2-.9 2-2V5c0-1.1-.9-2-2-2zM9 17H7v-7h2v7zm4 0h-2V7h2v10zm4 0h-2v-4h2v4z\"/>\n",
              "    </g>\n",
              "</svg>\n",
              "  </button>\n",
              "\n",
              "<style>\n",
              "  .colab-df-quickchart {\n",
              "      --bg-color: #E8F0FE;\n",
              "      --fill-color: #1967D2;\n",
              "      --hover-bg-color: #E2EBFA;\n",
              "      --hover-fill-color: #174EA6;\n",
              "      --disabled-fill-color: #AAA;\n",
              "      --disabled-bg-color: #DDD;\n",
              "  }\n",
              "\n",
              "  [theme=dark] .colab-df-quickchart {\n",
              "      --bg-color: #3B4455;\n",
              "      --fill-color: #D2E3FC;\n",
              "      --hover-bg-color: #434B5C;\n",
              "      --hover-fill-color: #FFFFFF;\n",
              "      --disabled-bg-color: #3B4455;\n",
              "      --disabled-fill-color: #666;\n",
              "  }\n",
              "\n",
              "  .colab-df-quickchart {\n",
              "    background-color: var(--bg-color);\n",
              "    border: none;\n",
              "    border-radius: 50%;\n",
              "    cursor: pointer;\n",
              "    display: none;\n",
              "    fill: var(--fill-color);\n",
              "    height: 32px;\n",
              "    padding: 0;\n",
              "    width: 32px;\n",
              "  }\n",
              "\n",
              "  .colab-df-quickchart:hover {\n",
              "    background-color: var(--hover-bg-color);\n",
              "    box-shadow: 0 1px 2px rgba(60, 64, 67, 0.3), 0 1px 3px 1px rgba(60, 64, 67, 0.15);\n",
              "    fill: var(--button-hover-fill-color);\n",
              "  }\n",
              "\n",
              "  .colab-df-quickchart-complete:disabled,\n",
              "  .colab-df-quickchart-complete:disabled:hover {\n",
              "    background-color: var(--disabled-bg-color);\n",
              "    fill: var(--disabled-fill-color);\n",
              "    box-shadow: none;\n",
              "  }\n",
              "\n",
              "  .colab-df-spinner {\n",
              "    border: 2px solid var(--fill-color);\n",
              "    border-color: transparent;\n",
              "    border-bottom-color: var(--fill-color);\n",
              "    animation:\n",
              "      spin 1s steps(1) infinite;\n",
              "  }\n",
              "\n",
              "  @keyframes spin {\n",
              "    0% {\n",
              "      border-color: transparent;\n",
              "      border-bottom-color: var(--fill-color);\n",
              "      border-left-color: var(--fill-color);\n",
              "    }\n",
              "    20% {\n",
              "      border-color: transparent;\n",
              "      border-left-color: var(--fill-color);\n",
              "      border-top-color: var(--fill-color);\n",
              "    }\n",
              "    30% {\n",
              "      border-color: transparent;\n",
              "      border-left-color: var(--fill-color);\n",
              "      border-top-color: var(--fill-color);\n",
              "      border-right-color: var(--fill-color);\n",
              "    }\n",
              "    40% {\n",
              "      border-color: transparent;\n",
              "      border-right-color: var(--fill-color);\n",
              "      border-top-color: var(--fill-color);\n",
              "    }\n",
              "    60% {\n",
              "      border-color: transparent;\n",
              "      border-right-color: var(--fill-color);\n",
              "    }\n",
              "    80% {\n",
              "      border-color: transparent;\n",
              "      border-right-color: var(--fill-color);\n",
              "      border-bottom-color: var(--fill-color);\n",
              "    }\n",
              "    90% {\n",
              "      border-color: transparent;\n",
              "      border-bottom-color: var(--fill-color);\n",
              "    }\n",
              "  }\n",
              "</style>\n",
              "\n",
              "  <script>\n",
              "    async function quickchart(key) {\n",
              "      const quickchartButtonEl =\n",
              "        document.querySelector('#' + key + ' button');\n",
              "      quickchartButtonEl.disabled = true;  // To prevent multiple clicks.\n",
              "      quickchartButtonEl.classList.add('colab-df-spinner');\n",
              "      try {\n",
              "        const charts = await google.colab.kernel.invokeFunction(\n",
              "            'suggestCharts', [key], {});\n",
              "      } catch (error) {\n",
              "        console.error('Error during call to suggestCharts:', error);\n",
              "      }\n",
              "      quickchartButtonEl.classList.remove('colab-df-spinner');\n",
              "      quickchartButtonEl.classList.add('colab-df-quickchart-complete');\n",
              "    }\n",
              "    (() => {\n",
              "      let quickchartButtonEl =\n",
              "        document.querySelector('#df-3d7eeefd-a9ab-407b-b501-b7de273abb9c button');\n",
              "      quickchartButtonEl.style.display =\n",
              "        google.colab.kernel.accessAllowed ? 'block' : 'none';\n",
              "    })();\n",
              "  </script>\n",
              "</div>\n",
              "    </div>\n",
              "  </div>\n"
            ],
            "application/vnd.google.colaboratory.intrinsic+json": {
              "type": "dataframe",
              "variable_name": "data",
              "summary": "{\n  \"name\": \"data\",\n  \"rows\": 5000,\n  \"fields\": [\n    {\n      \"column\": \"Nama Product\",\n      \"properties\": {\n        \"dtype\": \"string\",\n        \"num_unique_values\": 4229,\n        \"samples\": [\n          \"Pembaca QR\",\n          \"Terminal Mandalika - Lombok, Nusa Tenggara Barat\",\n          \"Belanja Praktis\"\n        ],\n        \"semantic_type\": \"\",\n        \"description\": \"\"\n      }\n    },\n    {\n      \"column\": \"Categories\",\n      \"properties\": {\n        \"dtype\": \"category\",\n        \"num_unique_values\": 3,\n        \"samples\": [\n          \"Food\",\n          \"Transportasi\",\n          \"Belanja\"\n        ],\n        \"semantic_type\": \"\",\n        \"description\": \"\"\n      }\n    },\n    {\n      \"column\": \"Unnamed: 2\",\n      \"properties\": {\n        \"dtype\": \"number\",\n        \"std\": null,\n        \"min\": null,\n        \"max\": null,\n        \"num_unique_values\": 0,\n        \"samples\": [],\n        \"semantic_type\": \"\",\n        \"description\": \"\"\n      }\n    },\n    {\n      \"column\": \"Unnamed: 3\",\n      \"properties\": {\n        \"dtype\": \"number\",\n        \"std\": null,\n        \"min\": null,\n        \"max\": null,\n        \"num_unique_values\": 0,\n        \"samples\": [],\n        \"semantic_type\": \"\",\n        \"description\": \"\"\n      }\n    },\n    {\n      \"column\": \"Unnamed: 4\",\n      \"properties\": {\n        \"dtype\": \"number\",\n        \"std\": null,\n        \"min\": null,\n        \"max\": null,\n        \"num_unique_values\": 0,\n        \"samples\": [],\n        \"semantic_type\": \"\",\n        \"description\": \"\"\n      }\n    },\n    {\n      \"column\": \"Unnamed: 5\",\n      \"properties\": {\n        \"dtype\": \"number\",\n        \"std\": null,\n        \"min\": null,\n        \"max\": null,\n        \"num_unique_values\": 0,\n        \"samples\": [],\n        \"semantic_type\": \"\",\n        \"description\": \"\"\n      }\n    },\n    {\n      \"column\": \"Unnamed: 6\",\n      \"properties\": {\n        \"dtype\": \"number\",\n        \"std\": null,\n        \"min\": null,\n        \"max\": null,\n        \"num_unique_values\": 0,\n        \"samples\": [],\n        \"semantic_type\": \"\",\n        \"description\": \"\"\n      }\n    },\n    {\n      \"column\": \"Unnamed: 7\",\n      \"properties\": {\n        \"dtype\": \"number\",\n        \"std\": null,\n        \"min\": null,\n        \"max\": null,\n        \"num_unique_values\": 0,\n        \"samples\": [],\n        \"semantic_type\": \"\",\n        \"description\": \"\"\n      }\n    },\n    {\n      \"column\": \"Unnamed: 8\",\n      \"properties\": {\n        \"dtype\": \"number\",\n        \"std\": null,\n        \"min\": null,\n        \"max\": null,\n        \"num_unique_values\": 0,\n        \"samples\": [],\n        \"semantic_type\": \"\",\n        \"description\": \"\"\n      }\n    },\n    {\n      \"column\": \"Unnamed: 9\",\n      \"properties\": {\n        \"dtype\": \"number\",\n        \"std\": null,\n        \"min\": null,\n        \"max\": null,\n        \"num_unique_values\": 0,\n        \"samples\": [],\n        \"semantic_type\": \"\",\n        \"description\": \"\"\n      }\n    },\n    {\n      \"column\": \"Unnamed: 10\",\n      \"properties\": {\n        \"dtype\": \"category\",\n        \"num_unique_values\": 1,\n        \"samples\": [],\n        \"semantic_type\": \"\",\n        \"description\": \"\"\n      }\n    }\n  ]\n}"
            }
          },
          "metadata": {},
          "execution_count": 9
        }
      ],
      "source": [
        "data.head()"
      ]
    },
    {
      "cell_type": "code",
      "source": [
        "data.columns"
      ],
      "metadata": {
        "colab": {
          "base_uri": "https://localhost:8080/"
        },
        "id": "y7bnbFV4x4qx",
        "outputId": "1c0bae79-936d-43e2-f66c-00c49fa5c8a4"
      },
      "execution_count": 6,
      "outputs": [
        {
          "output_type": "execute_result",
          "data": {
            "text/plain": [
              "Index(['Nama Product', 'Categories', 'Unnamed: 2', 'Unnamed: 3', 'Unnamed: 4',\n",
              "       'Unnamed: 5', 'Unnamed: 6', 'Unnamed: 7', 'Unnamed: 8', 'Unnamed: 9',\n",
              "       'Unnamed: 10'],\n",
              "      dtype='object')"
            ]
          },
          "metadata": {},
          "execution_count": 6
        }
      ]
    },
    {
      "cell_type": "code",
      "source": [
        "data.drop(columns=['Unnamed: 2', 'Unnamed: 3', 'Unnamed: 4',\n",
        "       'Unnamed: 5', 'Unnamed: 6', 'Unnamed: 7', 'Unnamed: 8', 'Unnamed: 9',\n",
        "       'Unnamed: 10'], inplace=True)"
      ],
      "metadata": {
        "id": "Mwfj1HYFx4IN"
      },
      "execution_count": 10,
      "outputs": []
    },
    {
      "cell_type": "code",
      "source": [
        "data.columns"
      ],
      "metadata": {
        "colab": {
          "base_uri": "https://localhost:8080/"
        },
        "id": "rgoVS77PyHWH",
        "outputId": "dc400106-b673-4ca6-a305-0dc435274d8c"
      },
      "execution_count": 11,
      "outputs": [
        {
          "output_type": "execute_result",
          "data": {
            "text/plain": [
              "Index(['Nama Product', 'Categories'], dtype='object')"
            ]
          },
          "metadata": {},
          "execution_count": 11
        }
      ]
    },
    {
      "cell_type": "code",
      "source": [
        "duplicated_rows = data[data.duplicated()]\n",
        "\n",
        "# Menampilkan duplikasi\n",
        "print(duplicated_rows)"
      ],
      "metadata": {
        "colab": {
          "base_uri": "https://localhost:8080/"
        },
        "id": "IaCc8L_CxmdT",
        "outputId": "a8bf4679-543a-4f9b-e8f1-235aaad150dc"
      },
      "execution_count": 12,
      "outputs": [
        {
          "output_type": "stream",
          "name": "stdout",
          "text": [
            "                 Nama Product Categories\n",
            "335               Lampu pintu    Belanja\n",
            "373                   Lasagna       Food\n",
            "389                    Nastar       Food\n",
            "390                 Kastengel       Food\n",
            "394                   Kerupuk       Food\n",
            "...                       ...        ...\n",
            "4917        Sate Khas Senayan       Food\n",
            "4919  Soto Betawi Haji Husein       Food\n",
            "4930     Ayam Bakar Wong Solo       Food\n",
            "4945       Pallubasa Serigala       Food\n",
            "4968  Nasi Goreng Kebon Sirih       Food\n",
            "\n",
            "[692 rows x 2 columns]\n"
          ]
        }
      ]
    },
    {
      "cell_type": "code",
      "source": [
        "data = data.drop_duplicates()"
      ],
      "metadata": {
        "id": "U11pnMs1yepU"
      },
      "execution_count": 13,
      "outputs": []
    },
    {
      "cell_type": "code",
      "source": [
        "category_counts = data['Categories'].value_counts()\n",
        "print(category_counts)"
      ],
      "metadata": {
        "colab": {
          "base_uri": "https://localhost:8080/"
        },
        "id": "1nLrIgw9y5vv",
        "outputId": "7d0bbcd4-b941-49ec-b609-b265f2abf80f"
      },
      "execution_count": 14,
      "outputs": [
        {
          "output_type": "stream",
          "name": "stdout",
          "text": [
            "Categories\n",
            "Belanja         1833\n",
            "Food            1319\n",
            "Transportasi    1156\n",
            "Name: count, dtype: int64\n"
          ]
        }
      ]
    },
    {
      "cell_type": "code",
      "source": [
        "belanja = data[data['Categories'] == \"Belanja\"].head(1156)\n",
        "food = data[data['Categories'] == \"Food\"].head(1156)\n",
        "trans = data[data['Categories'] == \"Transportasi\"]\n",
        "\n",
        "data = pd.concat([belanja, food, trans], ignore_index=True)\n",
        "data"
      ],
      "metadata": {
        "colab": {
          "base_uri": "https://localhost:8080/",
          "height": 423
        },
        "id": "IgkrLzBBy7Hg",
        "outputId": "69ea1cb4-b2e7-41e9-cfb8-997b52d54eae"
      },
      "execution_count": 42,
      "outputs": [
        {
          "output_type": "execute_result",
          "data": {
            "text/plain": [
              "              Nama Product    Categories\n",
              "0          Kamera belakang       Belanja\n",
              "1         Kamera dashboard       Belanja\n",
              "2                Car cover       Belanja\n",
              "3              Cover motor       Belanja\n",
              "4              Sabun mobil       Belanja\n",
              "...                    ...           ...\n",
              "3463     Expedia Indonesia  Transportasi\n",
              "3464       Klook Indonesia  Transportasi\n",
              "3465              Nusatrip  Transportasi\n",
              "3466  Skyscanner Indonesia  Transportasi\n",
              "3467        Wego Indonesia  Transportasi\n",
              "\n",
              "[3468 rows x 2 columns]"
            ],
            "text/html": [
              "\n",
              "  <div id=\"df-cd83aafc-a98f-4df7-822f-381d30f2f92b\" class=\"colab-df-container\">\n",
              "    <div>\n",
              "<style scoped>\n",
              "    .dataframe tbody tr th:only-of-type {\n",
              "        vertical-align: middle;\n",
              "    }\n",
              "\n",
              "    .dataframe tbody tr th {\n",
              "        vertical-align: top;\n",
              "    }\n",
              "\n",
              "    .dataframe thead th {\n",
              "        text-align: right;\n",
              "    }\n",
              "</style>\n",
              "<table border=\"1\" class=\"dataframe\">\n",
              "  <thead>\n",
              "    <tr style=\"text-align: right;\">\n",
              "      <th></th>\n",
              "      <th>Nama Product</th>\n",
              "      <th>Categories</th>\n",
              "    </tr>\n",
              "  </thead>\n",
              "  <tbody>\n",
              "    <tr>\n",
              "      <th>0</th>\n",
              "      <td>Kamera belakang</td>\n",
              "      <td>Belanja</td>\n",
              "    </tr>\n",
              "    <tr>\n",
              "      <th>1</th>\n",
              "      <td>Kamera dashboard</td>\n",
              "      <td>Belanja</td>\n",
              "    </tr>\n",
              "    <tr>\n",
              "      <th>2</th>\n",
              "      <td>Car cover</td>\n",
              "      <td>Belanja</td>\n",
              "    </tr>\n",
              "    <tr>\n",
              "      <th>3</th>\n",
              "      <td>Cover motor</td>\n",
              "      <td>Belanja</td>\n",
              "    </tr>\n",
              "    <tr>\n",
              "      <th>4</th>\n",
              "      <td>Sabun mobil</td>\n",
              "      <td>Belanja</td>\n",
              "    </tr>\n",
              "    <tr>\n",
              "      <th>...</th>\n",
              "      <td>...</td>\n",
              "      <td>...</td>\n",
              "    </tr>\n",
              "    <tr>\n",
              "      <th>3463</th>\n",
              "      <td>Expedia Indonesia</td>\n",
              "      <td>Transportasi</td>\n",
              "    </tr>\n",
              "    <tr>\n",
              "      <th>3464</th>\n",
              "      <td>Klook Indonesia</td>\n",
              "      <td>Transportasi</td>\n",
              "    </tr>\n",
              "    <tr>\n",
              "      <th>3465</th>\n",
              "      <td>Nusatrip</td>\n",
              "      <td>Transportasi</td>\n",
              "    </tr>\n",
              "    <tr>\n",
              "      <th>3466</th>\n",
              "      <td>Skyscanner Indonesia</td>\n",
              "      <td>Transportasi</td>\n",
              "    </tr>\n",
              "    <tr>\n",
              "      <th>3467</th>\n",
              "      <td>Wego Indonesia</td>\n",
              "      <td>Transportasi</td>\n",
              "    </tr>\n",
              "  </tbody>\n",
              "</table>\n",
              "<p>3468 rows × 2 columns</p>\n",
              "</div>\n",
              "    <div class=\"colab-df-buttons\">\n",
              "\n",
              "  <div class=\"colab-df-container\">\n",
              "    <button class=\"colab-df-convert\" onclick=\"convertToInteractive('df-cd83aafc-a98f-4df7-822f-381d30f2f92b')\"\n",
              "            title=\"Convert this dataframe to an interactive table.\"\n",
              "            style=\"display:none;\">\n",
              "\n",
              "  <svg xmlns=\"http://www.w3.org/2000/svg\" height=\"24px\" viewBox=\"0 -960 960 960\">\n",
              "    <path d=\"M120-120v-720h720v720H120Zm60-500h600v-160H180v160Zm220 220h160v-160H400v160Zm0 220h160v-160H400v160ZM180-400h160v-160H180v160Zm440 0h160v-160H620v160ZM180-180h160v-160H180v160Zm440 0h160v-160H620v160Z\"/>\n",
              "  </svg>\n",
              "    </button>\n",
              "\n",
              "  <style>\n",
              "    .colab-df-container {\n",
              "      display:flex;\n",
              "      gap: 12px;\n",
              "    }\n",
              "\n",
              "    .colab-df-convert {\n",
              "      background-color: #E8F0FE;\n",
              "      border: none;\n",
              "      border-radius: 50%;\n",
              "      cursor: pointer;\n",
              "      display: none;\n",
              "      fill: #1967D2;\n",
              "      height: 32px;\n",
              "      padding: 0 0 0 0;\n",
              "      width: 32px;\n",
              "    }\n",
              "\n",
              "    .colab-df-convert:hover {\n",
              "      background-color: #E2EBFA;\n",
              "      box-shadow: 0px 1px 2px rgba(60, 64, 67, 0.3), 0px 1px 3px 1px rgba(60, 64, 67, 0.15);\n",
              "      fill: #174EA6;\n",
              "    }\n",
              "\n",
              "    .colab-df-buttons div {\n",
              "      margin-bottom: 4px;\n",
              "    }\n",
              "\n",
              "    [theme=dark] .colab-df-convert {\n",
              "      background-color: #3B4455;\n",
              "      fill: #D2E3FC;\n",
              "    }\n",
              "\n",
              "    [theme=dark] .colab-df-convert:hover {\n",
              "      background-color: #434B5C;\n",
              "      box-shadow: 0px 1px 3px 1px rgba(0, 0, 0, 0.15);\n",
              "      filter: drop-shadow(0px 1px 2px rgba(0, 0, 0, 0.3));\n",
              "      fill: #FFFFFF;\n",
              "    }\n",
              "  </style>\n",
              "\n",
              "    <script>\n",
              "      const buttonEl =\n",
              "        document.querySelector('#df-cd83aafc-a98f-4df7-822f-381d30f2f92b button.colab-df-convert');\n",
              "      buttonEl.style.display =\n",
              "        google.colab.kernel.accessAllowed ? 'block' : 'none';\n",
              "\n",
              "      async function convertToInteractive(key) {\n",
              "        const element = document.querySelector('#df-cd83aafc-a98f-4df7-822f-381d30f2f92b');\n",
              "        const dataTable =\n",
              "          await google.colab.kernel.invokeFunction('convertToInteractive',\n",
              "                                                    [key], {});\n",
              "        if (!dataTable) return;\n",
              "\n",
              "        const docLinkHtml = 'Like what you see? Visit the ' +\n",
              "          '<a target=\"_blank\" href=https://colab.research.google.com/notebooks/data_table.ipynb>data table notebook</a>'\n",
              "          + ' to learn more about interactive tables.';\n",
              "        element.innerHTML = '';\n",
              "        dataTable['output_type'] = 'display_data';\n",
              "        await google.colab.output.renderOutput(dataTable, element);\n",
              "        const docLink = document.createElement('div');\n",
              "        docLink.innerHTML = docLinkHtml;\n",
              "        element.appendChild(docLink);\n",
              "      }\n",
              "    </script>\n",
              "  </div>\n",
              "\n",
              "\n",
              "<div id=\"df-e7de3996-7b88-45a8-b61b-05e2e081352b\">\n",
              "  <button class=\"colab-df-quickchart\" onclick=\"quickchart('df-e7de3996-7b88-45a8-b61b-05e2e081352b')\"\n",
              "            title=\"Suggest charts\"\n",
              "            style=\"display:none;\">\n",
              "\n",
              "<svg xmlns=\"http://www.w3.org/2000/svg\" height=\"24px\"viewBox=\"0 0 24 24\"\n",
              "     width=\"24px\">\n",
              "    <g>\n",
              "        <path d=\"M19 3H5c-1.1 0-2 .9-2 2v14c0 1.1.9 2 2 2h14c1.1 0 2-.9 2-2V5c0-1.1-.9-2-2-2zM9 17H7v-7h2v7zm4 0h-2V7h2v10zm4 0h-2v-4h2v4z\"/>\n",
              "    </g>\n",
              "</svg>\n",
              "  </button>\n",
              "\n",
              "<style>\n",
              "  .colab-df-quickchart {\n",
              "      --bg-color: #E8F0FE;\n",
              "      --fill-color: #1967D2;\n",
              "      --hover-bg-color: #E2EBFA;\n",
              "      --hover-fill-color: #174EA6;\n",
              "      --disabled-fill-color: #AAA;\n",
              "      --disabled-bg-color: #DDD;\n",
              "  }\n",
              "\n",
              "  [theme=dark] .colab-df-quickchart {\n",
              "      --bg-color: #3B4455;\n",
              "      --fill-color: #D2E3FC;\n",
              "      --hover-bg-color: #434B5C;\n",
              "      --hover-fill-color: #FFFFFF;\n",
              "      --disabled-bg-color: #3B4455;\n",
              "      --disabled-fill-color: #666;\n",
              "  }\n",
              "\n",
              "  .colab-df-quickchart {\n",
              "    background-color: var(--bg-color);\n",
              "    border: none;\n",
              "    border-radius: 50%;\n",
              "    cursor: pointer;\n",
              "    display: none;\n",
              "    fill: var(--fill-color);\n",
              "    height: 32px;\n",
              "    padding: 0;\n",
              "    width: 32px;\n",
              "  }\n",
              "\n",
              "  .colab-df-quickchart:hover {\n",
              "    background-color: var(--hover-bg-color);\n",
              "    box-shadow: 0 1px 2px rgba(60, 64, 67, 0.3), 0 1px 3px 1px rgba(60, 64, 67, 0.15);\n",
              "    fill: var(--button-hover-fill-color);\n",
              "  }\n",
              "\n",
              "  .colab-df-quickchart-complete:disabled,\n",
              "  .colab-df-quickchart-complete:disabled:hover {\n",
              "    background-color: var(--disabled-bg-color);\n",
              "    fill: var(--disabled-fill-color);\n",
              "    box-shadow: none;\n",
              "  }\n",
              "\n",
              "  .colab-df-spinner {\n",
              "    border: 2px solid var(--fill-color);\n",
              "    border-color: transparent;\n",
              "    border-bottom-color: var(--fill-color);\n",
              "    animation:\n",
              "      spin 1s steps(1) infinite;\n",
              "  }\n",
              "\n",
              "  @keyframes spin {\n",
              "    0% {\n",
              "      border-color: transparent;\n",
              "      border-bottom-color: var(--fill-color);\n",
              "      border-left-color: var(--fill-color);\n",
              "    }\n",
              "    20% {\n",
              "      border-color: transparent;\n",
              "      border-left-color: var(--fill-color);\n",
              "      border-top-color: var(--fill-color);\n",
              "    }\n",
              "    30% {\n",
              "      border-color: transparent;\n",
              "      border-left-color: var(--fill-color);\n",
              "      border-top-color: var(--fill-color);\n",
              "      border-right-color: var(--fill-color);\n",
              "    }\n",
              "    40% {\n",
              "      border-color: transparent;\n",
              "      border-right-color: var(--fill-color);\n",
              "      border-top-color: var(--fill-color);\n",
              "    }\n",
              "    60% {\n",
              "      border-color: transparent;\n",
              "      border-right-color: var(--fill-color);\n",
              "    }\n",
              "    80% {\n",
              "      border-color: transparent;\n",
              "      border-right-color: var(--fill-color);\n",
              "      border-bottom-color: var(--fill-color);\n",
              "    }\n",
              "    90% {\n",
              "      border-color: transparent;\n",
              "      border-bottom-color: var(--fill-color);\n",
              "    }\n",
              "  }\n",
              "</style>\n",
              "\n",
              "  <script>\n",
              "    async function quickchart(key) {\n",
              "      const quickchartButtonEl =\n",
              "        document.querySelector('#' + key + ' button');\n",
              "      quickchartButtonEl.disabled = true;  // To prevent multiple clicks.\n",
              "      quickchartButtonEl.classList.add('colab-df-spinner');\n",
              "      try {\n",
              "        const charts = await google.colab.kernel.invokeFunction(\n",
              "            'suggestCharts', [key], {});\n",
              "      } catch (error) {\n",
              "        console.error('Error during call to suggestCharts:', error);\n",
              "      }\n",
              "      quickchartButtonEl.classList.remove('colab-df-spinner');\n",
              "      quickchartButtonEl.classList.add('colab-df-quickchart-complete');\n",
              "    }\n",
              "    (() => {\n",
              "      let quickchartButtonEl =\n",
              "        document.querySelector('#df-e7de3996-7b88-45a8-b61b-05e2e081352b button');\n",
              "      quickchartButtonEl.style.display =\n",
              "        google.colab.kernel.accessAllowed ? 'block' : 'none';\n",
              "    })();\n",
              "  </script>\n",
              "</div>\n",
              "    </div>\n",
              "  </div>\n"
            ],
            "application/vnd.google.colaboratory.intrinsic+json": {
              "type": "dataframe",
              "variable_name": "data",
              "summary": "{\n  \"name\": \"data\",\n  \"rows\": 3468,\n  \"fields\": [\n    {\n      \"column\": \"Nama Product\",\n      \"properties\": {\n        \"dtype\": \"string\",\n        \"num_unique_values\": 3467,\n        \"samples\": [\n          \"Nasi uduk madura\",\n          \"Nomor belanja\",\n          \"Pilih voucher\"\n        ],\n        \"semantic_type\": \"\",\n        \"description\": \"\"\n      }\n    },\n    {\n      \"column\": \"Categories\",\n      \"properties\": {\n        \"dtype\": \"category\",\n        \"num_unique_values\": 3,\n        \"samples\": [\n          \"Belanja\",\n          \"Food\",\n          \"Transportasi\"\n        ],\n        \"semantic_type\": \"\",\n        \"description\": \"\"\n      }\n    }\n  ]\n}"
            }
          },
          "metadata": {},
          "execution_count": 42
        }
      ]
    },
    {
      "cell_type": "code",
      "source": [
        "category_counts = data['Categories'].value_counts()\n",
        "print(category_counts)"
      ],
      "metadata": {
        "colab": {
          "base_uri": "https://localhost:8080/"
        },
        "id": "OE1_80nK0vKi",
        "outputId": "a8634028-d450-4d8d-f49f-7783e7ff1248"
      },
      "execution_count": 43,
      "outputs": [
        {
          "output_type": "stream",
          "name": "stdout",
          "text": [
            "Categories\n",
            "Belanja         1156\n",
            "Food            1156\n",
            "Transportasi    1156\n",
            "Name: count, dtype: int64\n"
          ]
        }
      ]
    },
    {
      "cell_type": "code",
      "source": [
        "filtered_df = data[data['Nama Product'].str.contains(\"Promo tiket pesawat Traveloka\", case=False, na=False)]\n",
        "filtered_df"
      ],
      "metadata": {
        "colab": {
          "base_uri": "https://localhost:8080/",
          "height": 81
        },
        "id": "wOxIEQmx0DHQ",
        "outputId": "0ab854cb-5c0d-472c-a6e4-af7f4cdfd1b7"
      },
      "execution_count": 44,
      "outputs": [
        {
          "output_type": "execute_result",
          "data": {
            "text/plain": [
              "                       Nama Product    Categories\n",
              "2875  Promo tiket pesawat Traveloka  Transportasi"
            ],
            "text/html": [
              "\n",
              "  <div id=\"df-9db6887e-3364-4b4c-846c-4c7c2ffbb7f1\" class=\"colab-df-container\">\n",
              "    <div>\n",
              "<style scoped>\n",
              "    .dataframe tbody tr th:only-of-type {\n",
              "        vertical-align: middle;\n",
              "    }\n",
              "\n",
              "    .dataframe tbody tr th {\n",
              "        vertical-align: top;\n",
              "    }\n",
              "\n",
              "    .dataframe thead th {\n",
              "        text-align: right;\n",
              "    }\n",
              "</style>\n",
              "<table border=\"1\" class=\"dataframe\">\n",
              "  <thead>\n",
              "    <tr style=\"text-align: right;\">\n",
              "      <th></th>\n",
              "      <th>Nama Product</th>\n",
              "      <th>Categories</th>\n",
              "    </tr>\n",
              "  </thead>\n",
              "  <tbody>\n",
              "    <tr>\n",
              "      <th>2875</th>\n",
              "      <td>Promo tiket pesawat Traveloka</td>\n",
              "      <td>Transportasi</td>\n",
              "    </tr>\n",
              "  </tbody>\n",
              "</table>\n",
              "</div>\n",
              "    <div class=\"colab-df-buttons\">\n",
              "\n",
              "  <div class=\"colab-df-container\">\n",
              "    <button class=\"colab-df-convert\" onclick=\"convertToInteractive('df-9db6887e-3364-4b4c-846c-4c7c2ffbb7f1')\"\n",
              "            title=\"Convert this dataframe to an interactive table.\"\n",
              "            style=\"display:none;\">\n",
              "\n",
              "  <svg xmlns=\"http://www.w3.org/2000/svg\" height=\"24px\" viewBox=\"0 -960 960 960\">\n",
              "    <path d=\"M120-120v-720h720v720H120Zm60-500h600v-160H180v160Zm220 220h160v-160H400v160Zm0 220h160v-160H400v160ZM180-400h160v-160H180v160Zm440 0h160v-160H620v160ZM180-180h160v-160H180v160Zm440 0h160v-160H620v160Z\"/>\n",
              "  </svg>\n",
              "    </button>\n",
              "\n",
              "  <style>\n",
              "    .colab-df-container {\n",
              "      display:flex;\n",
              "      gap: 12px;\n",
              "    }\n",
              "\n",
              "    .colab-df-convert {\n",
              "      background-color: #E8F0FE;\n",
              "      border: none;\n",
              "      border-radius: 50%;\n",
              "      cursor: pointer;\n",
              "      display: none;\n",
              "      fill: #1967D2;\n",
              "      height: 32px;\n",
              "      padding: 0 0 0 0;\n",
              "      width: 32px;\n",
              "    }\n",
              "\n",
              "    .colab-df-convert:hover {\n",
              "      background-color: #E2EBFA;\n",
              "      box-shadow: 0px 1px 2px rgba(60, 64, 67, 0.3), 0px 1px 3px 1px rgba(60, 64, 67, 0.15);\n",
              "      fill: #174EA6;\n",
              "    }\n",
              "\n",
              "    .colab-df-buttons div {\n",
              "      margin-bottom: 4px;\n",
              "    }\n",
              "\n",
              "    [theme=dark] .colab-df-convert {\n",
              "      background-color: #3B4455;\n",
              "      fill: #D2E3FC;\n",
              "    }\n",
              "\n",
              "    [theme=dark] .colab-df-convert:hover {\n",
              "      background-color: #434B5C;\n",
              "      box-shadow: 0px 1px 3px 1px rgba(0, 0, 0, 0.15);\n",
              "      filter: drop-shadow(0px 1px 2px rgba(0, 0, 0, 0.3));\n",
              "      fill: #FFFFFF;\n",
              "    }\n",
              "  </style>\n",
              "\n",
              "    <script>\n",
              "      const buttonEl =\n",
              "        document.querySelector('#df-9db6887e-3364-4b4c-846c-4c7c2ffbb7f1 button.colab-df-convert');\n",
              "      buttonEl.style.display =\n",
              "        google.colab.kernel.accessAllowed ? 'block' : 'none';\n",
              "\n",
              "      async function convertToInteractive(key) {\n",
              "        const element = document.querySelector('#df-9db6887e-3364-4b4c-846c-4c7c2ffbb7f1');\n",
              "        const dataTable =\n",
              "          await google.colab.kernel.invokeFunction('convertToInteractive',\n",
              "                                                    [key], {});\n",
              "        if (!dataTable) return;\n",
              "\n",
              "        const docLinkHtml = 'Like what you see? Visit the ' +\n",
              "          '<a target=\"_blank\" href=https://colab.research.google.com/notebooks/data_table.ipynb>data table notebook</a>'\n",
              "          + ' to learn more about interactive tables.';\n",
              "        element.innerHTML = '';\n",
              "        dataTable['output_type'] = 'display_data';\n",
              "        await google.colab.output.renderOutput(dataTable, element);\n",
              "        const docLink = document.createElement('div');\n",
              "        docLink.innerHTML = docLinkHtml;\n",
              "        element.appendChild(docLink);\n",
              "      }\n",
              "    </script>\n",
              "  </div>\n",
              "\n",
              "    </div>\n",
              "  </div>\n"
            ],
            "application/vnd.google.colaboratory.intrinsic+json": {
              "type": "dataframe",
              "variable_name": "filtered_df",
              "summary": "{\n  \"name\": \"filtered_df\",\n  \"rows\": 1,\n  \"fields\": [\n    {\n      \"column\": \"Nama Product\",\n      \"properties\": {\n        \"dtype\": \"string\",\n        \"num_unique_values\": 1,\n        \"samples\": [\n          \"Promo tiket pesawat Traveloka\"\n        ],\n        \"semantic_type\": \"\",\n        \"description\": \"\"\n      }\n    },\n    {\n      \"column\": \"Categories\",\n      \"properties\": {\n        \"dtype\": \"string\",\n        \"num_unique_values\": 1,\n        \"samples\": [\n          \"Transportasi\"\n        ],\n        \"semantic_type\": \"\",\n        \"description\": \"\"\n      }\n    }\n  ]\n}"
            }
          },
          "metadata": {},
          "execution_count": 44
        }
      ]
    },
    {
      "cell_type": "code",
      "source": [
        "def clean_product_name(product_name):\n",
        "    return re.sub(r'[()\\-,.]', '', product_name)  # Membersihkan data menggunakan regex\n",
        "\n",
        "# Mengaplikasikan fungsi clean_product_name ke setiap elemen dalam kolom 'Nama Product'\n",
        "data['Nama Product'] = [clean_product_name(product_name) for product_name in data['Nama Product']]"
      ],
      "metadata": {
        "id": "LznCYCXpB5oq"
      },
      "execution_count": 45,
      "outputs": []
    },
    {
      "cell_type": "code",
      "source": [
        "data['Nama Product'].tail(1000)"
      ],
      "metadata": {
        "colab": {
          "base_uri": "https://localhost:8080/"
        },
        "id": "YwESxuqeD9x2",
        "outputId": "632a8d16-2405-40d5-c72c-56acaaa924ac"
      },
      "execution_count": 46,
      "outputs": [
        {
          "output_type": "execute_result",
          "data": {
            "text/plain": [
              "2468    Harga tiket Pesawat internasional\n",
              "2469             Lokasi parkir di Bandara\n",
              "2470                    Biaya antar Gojek\n",
              "2471                     Layanan Grab car\n",
              "2472               Diskon Gocar bulan ini\n",
              "                      ...                \n",
              "3463                    Expedia Indonesia\n",
              "3464                      Klook Indonesia\n",
              "3465                             Nusatrip\n",
              "3466                 Skyscanner Indonesia\n",
              "3467                       Wego Indonesia\n",
              "Name: Nama Product, Length: 1000, dtype: object"
            ]
          },
          "metadata": {},
          "execution_count": 46
        }
      ]
    },
    {
      "cell_type": "code",
      "execution_count": 47,
      "metadata": {
        "id": "3Rc85wHPKf9p"
      },
      "outputs": [],
      "source": [
        "vocab = data['Nama Product']\n",
        "vocab = [text.lower() for text in vocab]"
      ]
    },
    {
      "cell_type": "code",
      "source": [
        "labels = data['Categories']\n",
        "label_encoder = LabelEncoder()\n",
        "integer_encoded = label_encoder.fit_transform(labels)\n",
        "one_hot_labels = to_categorical(integer_encoded, num_classes=3)\n",
        "one_hot_labels"
      ],
      "metadata": {
        "colab": {
          "base_uri": "https://localhost:8080/"
        },
        "id": "ZVvlI5jHYGiL",
        "outputId": "7fe44be4-62a6-4b14-b9b1-dd5a4632f0fa"
      },
      "execution_count": 48,
      "outputs": [
        {
          "output_type": "execute_result",
          "data": {
            "text/plain": [
              "array([[1., 0., 0.],\n",
              "       [1., 0., 0.],\n",
              "       [1., 0., 0.],\n",
              "       ...,\n",
              "       [0., 0., 1.],\n",
              "       [0., 0., 1.],\n",
              "       [0., 0., 1.]], dtype=float32)"
            ]
          },
          "metadata": {},
          "execution_count": 48
        }
      ]
    },
    {
      "cell_type": "code",
      "source": [
        "vocab_size = 500\n",
        "max_length = data['Nama Product'].str.split().str.len().max()\n",
        "embedding_dim = 16\n",
        "trunc_type='post'\n",
        "oov_tok = \"<OOV>\""
      ],
      "metadata": {
        "id": "bonumb6GXCnL"
      },
      "execution_count": 49,
      "outputs": []
    },
    {
      "cell_type": "code",
      "execution_count": 50,
      "metadata": {
        "colab": {
          "base_uri": "https://localhost:8080/"
        },
        "id": "e2Mx9IiqLLjs",
        "outputId": "d6845295-d008-4f98-8650-0f87731c36c3"
      },
      "outputs": [
        {
          "output_type": "stream",
          "name": "stdout",
          "text": [
            "{'<OOV>': 1, 'es': 2, 'tiket': 3, 'soto': 4, 'stasiun': 5, 'bandara': 6, 'krim': 7, 'kmp': 8, 'buah': 9, 'pembayaran': 10, 'teh': 11, 'sayur': 12, 'kereta': 13, 'tahu': 14, 'layanan': 15, 'lampu': 16, 'nasi': 17, 'terminal': 18, 'diskon': 19, 'pesawat': 20, 'promo': 21, 'gocar': 22, 'online': 23, 'biaya': 24, 'grab': 25, 'pelabuhan': 26, 'nomor': 27, 'harga': 28, 'gojek': 29, 'maxim': 30, 'saus': 31, 'taxi': 32, 'kacang': 33, 'tarif': 34, 'lontong': 35, 'belanja': 36, 'kue': 37, 'traveloka': 38, 'langganan': 39, 'air': 40, 'bis': 41, 'rute': 42, 'transaksi': 43, 'susu': 44, 'pembelian': 45, 'lemon': 46, 'daun': 47, 'daging': 48, 'jadwal': 49, 'nusantara': 50, 'pengiriman': 51, 'bus': 52, 'kai': 53, 'ayam': 54, 'bayam': 55, 'kode': 56, 'waktu': 57, 'tagihan': 58, 'busway': 59, 'jarak': 60, 'kartu': 61, 'hijau': 62, 'api': 63, 'lrt': 64, 'pelanggan': 65, 'pesanan': 66, 'fasilitas': 67, 'krl': 68, 'mrt': 69, 'parkir': 70, 'hemat': 71, 'bank': 72, 'premium': 73, 'produk': 74, 'pemesanan': 75, 'pedas': 76, 'perjalanan': 77, 'nama': 78, 'goreng': 79, 'merah': 80, 'keberangkatan': 81, 'sulawesi': 82, 'cicilan': 83, 'paket': 84, 'antar': 85, 'tenggara': 86, 'di': 87, 'kopi': 88, 'kuning': 89, 'lokasi': 90, 'malam': 91, 'mobil': 92, 'digital': 93, 'payment': 94, 'harian': 95, 'jeruk': 96, 'bahtera': 97, 'barat': 98, 'motor': 99, 'jauh': 100, 'cepat': 101, 'selatan': 102, 'utara': 103, 'timur': 104, 'led': 105, 'transfer': 106, 'poin': 107, 'member': 108, 'saldo': 109, 'internet': 110, 'kuota': 111, 'keju': 112, 'jakarta': 113, 'nusa': 114, 'alamat': 115, 'spesial': 116, 'mingguan': 117, 'listrik': 118, 'pulsa': 119, 'bulanan': 120, 'manis': 121, 'jawa': 122, 'penjemputan': 123, 'kalimantan': 124, 'helm': 125, 'gratis': 126, 'bayar': 127, 'informasi': 128, 'sale': 129, 'ekspres': 130, 'ikan': 131, 'netflix': 132, 'spotify': 133, 'tanjung': 134, 'sabuk': 135, 'papua': 136, 'dekat': 137, 'voucher': 138, 'khusus': 139, 'notifikasi': 140, 'keripik': 141, 'sambal': 142, 'apel': 143, 'medan': 144, 'surabaya': 145, 'sumatera': 146, 'tengah': 147, 'riau': 148, 'pembersih': 149, 'kursi': 150, 'barang': 151, 'estimasi': 152, 'hari': 153, 'vip': 154, 'rekening': 155, 'detail': 156, 'lokal': 157, 'mie': 158, 'padang': 159, 'pisang': 160, 'kekinian': 161, 'telur': 162, 'semarang': 163, 'hitam': 164, 'tunggu': 165, 'jaya': 166, 'trans': 167, 'ii': 168, 'indonesia': 169, 'maluku': 170, 'kepulauan': 171, 'pelindung': 172, 'tanggal': 173, 'kredit': 174, 'konfirmasi': 175, 'qr': 176, 'eksklusif': 177, 'jenis': 178, 'jahe': 179, 'cina': 180, 'putih': 181, 'kendaraan': 182, 'tambahan': 183, 'promosi': 184, 'cashback': 185, 'bunga': 186, 'kirim': 187, 'pesan': 188, 'besar': 189, 'discount': 190, 'aman': 191, 'terbaik': 192, 'tujuan': 193, 'laporan': 194, 'tempe': 195, 'roti': 196, 'singkong': 197, 'bolu': 198, 'selai': 199, 'mangga': 200, 'labu': 201, 'solo': 202, 'bandung': 203, 'jus': 204, 'penerbangan': 205, 'kota': 206, 'jemput': 207, 'ke': 208, 'pengemudi': 209, 'argo': 210, 'makassar': 211, 'tempat': 212, 'total': 213, 'jumlah': 214, 'resi': 215, 'telepon': 216, 'uang': 217, 'hadiah': 218, 'id': 219, 'ewallet': 220, 'code': 221, 'banking': 222, 'tanpa': 223, 'elektronik': 224, 'invoice': 225, 'stock': 226, 'murah': 227, 'pilih': 228, 'nominal': 229, 'reguler': 230, 'martabak': 231, 'yogurt': 232, 'cokelat': 233, 'kambing': 234, 'bali': 235, 'pepes': 236, 'kelapa': 237, 'komuter': 238, 'dharma': 239, 'lampung': 240, 'kamera': 241, 'dashboard': 242, 'cover': 243, 'angin': 244, 'jok': 245, 'mesin': 246, 'box': 247, 'kulit': 248, 'top': 249, 'tas': 250, 'kasir': 251, 'debit': 252, 'penawaran': 253, 'loyalitas': 254, 'daftar': 255, 'special': 256, 'keranjang': 257, 'status': 258, 'bantuan': 259, 'bonus': 260, 'raya': 261, 'ekonomi': 262, 'gift': 263, 'akhir': 264, 'loyalty': 265, 'ini': 266, 'merchant': 267, 'order': 268, 'baru': 269, 'bakar': 270, 'tea': 271, 'alpukat': 272, 'kentang': 273, 'tepung': 274, 'lapis': 275, 'bubuk': 276, 'stroberi': 277, 'nanas': 278, 'kecap': 279, 'bawang': 280, 'tanah': 281, 'kedelai': 282, 'anggur': 283, 'pepaya': 284, 'nangka': 285, 'belanda': 286, 'brazil': 287, 'yogyakarta': 288, 'burung': 289, 'ambon': 290, 'wedang': 291, 'internasional': 292, 'driver': 293, 'checkin': 294, 'kelas': 295, 'wilis': 296, 'tegal': 297, 'iii': 298, 'jatra': 299, 'penutup': 300, 'plat': 301, 'sistem': 302, 'sepatu': 303, 'tangan': 304, 'full': 305, 'bar': 306, 'potongan': 307, 'kupon': 308, 'metode': 309, 'tunai': 310, 'pengembalian': 311, 'ketentuan': 312, 'program': 313, 'anggota': 314, 'lebih': 315, 'ongkos': 316, 'email': 317, 'verifikasi': 318, 'otp': 319, 'gagal': 320, 'asuransi': 321, 'service': 322, 'langsung': 323, 'deal': 324, 'card': 325, 'penukaran': 326, 'cash': 327, 'mobile': 328, 'ringan': 329, 'dana': 330, 'point': 331, 'ongkir': 332, 'bukti': 333, 'instan': 334, 'shopping': 335, 'bulan': 336, 'customer': 337, 'tercepat': 338, 'penerima': 339, 'up': 340, 'token': 341, 'pengingat': 342, 'via': 343, 'kategori': 344, 'uduk': 345, 'kerupuk': 346, 'udang': 347, 'cheese': 348, 'cake': 349, 'ketan': 350, 'kiwi': 351, 'teriyaki': 352, 'sapi': 353, 'bebek': 354, 'lidah': 355, 'kampung': 356, 'almond': 357, 'melon': 358, 'semangka': 359, 'sirsak': 360, 'nipis': 361, 'liwet': 362, 'pecel': 363, 'jagung': 364, 'lombok': 365, 'lamongan': 366, 'aceh': 367, 'gulai': 368, 'sop': 369, 'oolong': 370, 'minuman': 371, 'terdekat': 372, 'fitur': 373, 'wisata': 374, 'hotel': 375, 'utama': 376, 'merak': 377, 'i': 378, 'sultan': 379, 'palembang': 380, 'batam': 381, 'gorontalo': 382, 'banyuwangi': 383, 'baubau': 384, 'pengharum': 385, 'ban': 386, 'bagasi': 387, 'tangki': 388, 'filter': 389, 'strip': 390, 'aksesoris': 391, 'rem': 392, 'gps': 393, 'reflektif': 394, 'hiu': 395, 'jaket': 396, 'sarung': 397, 'kunci': 398, 'pintu': 399, 'face': 400, 'flash': 401, 'barcode': 402, 'item': 403, 'struk': 404, 'beli': 405, 'tukar': 406, 'komplain': 407, 'angsuran': 408, 'bebas': 409, 'sekarang': 410, 'scan': 411, 'favorit': 412, 'sukses': 413, 'packing': 414, 'center': 415, 'kontak': 416, 'kebijakan': 417, 'privasi': 418, 'ulang': 419, 'best': 420, 'of': 421, 'free': 422, 'delivery': 423, 'virtual': 424, 'atm': 425, 'services': 426, 'jaringan': 427, 'qris': 428, 'diproses': 429, 'super': 430, 'terjangkau': 431, 'deskripsi': 432, 'ekstra': 433, 'fast': 434, 'dengan': 435, 'pengirim': 436, 'mutasi': 437, 'jatuh': 438, 'tempo': 439, 'rincian': 440, 'akun': 441, 'pusat': 442, 'isi': 443, 'terbaru': 444, 'sate': 445, 'caramel': 446, 'drink': 447, 'gula': 448, 'rice': 449, 'bowl': 450, 'burger': 451, 'aci': 452, 'balado': 453, 'ijo': 454, 'cendol': 455, 'campur': 456, 'kukus': 457, 'putu': 458, 'klepon': 459, 'fruit': 460, 'tart': 461, 'putri': 462, 'beras': 463, 'mi': 464, 'tawar': 465, 'cream': 466, 'madu': 467, 'tomat': 468, 'tiram': 469, 'asin': 470, 'botol': 471, 'kuda': 472, 'segar': 473, 'tuna': 474, 'kakap': 475, 'gurame': 476, 'buntut': 477, 'potong': 478, 'oncom': 479, 'jambu': 480, 'belimbing': 481, 'timun': 482, 'suri': 483, 'bulat': 484, 'kangkung': 485, 'buncis': 486, 'panjang': 487, 'jepang': 488, 'swiss': 489, 'rawon': 490, 'sunda': 491, 'teri': 492, 'betawi': 493, 'pekalongan': 494, 'bogor': 495, 'leci': 496, 'rosella': 497, 'mangkok': 498, 'cubit': 499, 'bubur': 500, 'organik': 501, 'domestik': 502, 'km': 503, 'garuda': 504, 'pagi': 505, 'kedatangan': 506, 'kutojaya': 507, 'mas': 508, 'balai': 509, 'parahyangan': 510, 'rucitra': 511, 'agung': 512, 'denpasar': 513, 'pontianak': 514, 'banjarmasin': 515, 'balikpapan': 516, 'biak': 517, 'jayapura': 518, 'samarinda': 519, 'tarakan': 520, 'palu': 521, 'ternate': 522, 'malang': 523, 'muara': 524, 'sorong': 525, 'kebumen': 526, 'banten': 527, 'belakang': 528, 'car': 529, 'sabun': 530, 'kaca': 531, 'daya': 532, 'bensin': 533, 'lipat': 534, 'ac': 535, 'kipas': 536, 'kabut': 537, 'kaki': 538, 'mata': 539, 'kucing': 540, 'hazard': 541, 'outlet': 542, 'visor': 543, 'monitor': 544, 'kepala': 545, 'tisu': 546, 'hias': 547, 'interior': 548, 'hujan': 549, 'tahan': 550, 'anti': 551, 'celana': 552, 'selimut': 553, 'roda': 554, 'outdoor': 555, 'balap': 556, 'custom': 557, 'dekorasi': 558, 'halogen': 559, 'proyektor': 560, 'eye': 561, 'fleksibel': 562, 'kolong': 563, 'reflektor': 564, 'sorot': 565, 'tanda': 566, 'dim': 567, 'kembali': 568, 'toko': 569, 'nota': 570, 'faktur': 571, 'edc': 572, 'pembeli': 573, 'satu': 574, 'retur': 575, 'syarat': 576, 'saran': 577, 'price': 578, 'tersedia': 579, 'terbatas': 580, 'habis': 581, 'datang': 582, 'lagi': 583, 'manual': 584, 'platform': 585, 'aplikasi': 586, 'ecommerce': 587, 'checkout': 588, 'refund': 589, 'tracking': 590, 'lacak': 591, 'diterima': 592, 'jaminan': 593, 'perlindungan': 594, 'call': 595, 'umum': 596, 'pribadi': 597, 'data': 598, 'tahun': 599, 'clearance': 600, 'obral': 601, 'midnight': 602, 'the': 603, 'day': 604, 'keluarga': 605, 'silver': 606, 'redeem': 607, 'cod': 608, 'on': 609, 'account': 610, 'dp': 611, 'financial': 612, 'bersama': 613, 'bca': 614, 'mandiri': 615, 'bni': 616, 'prima': 617, 'quick': 618, 'pembaca': 619, 'smart': 620, 'secure': 621, 'otentikasi': 622, 'password': 623, 'pin': 624, 'number': 625, 'keamanan': 626, '3d': 627, 'pekan': 628, 'donasi': 629, 'dukung': 630, 'umkm': 631, 'happy': 632, 'istimewa': 633, 'rewards': 634, 'ready': 635, 'return': 636, 'cerdas': 637, 'big': 638, 'terpercaya': 639, 'double': 640, 'deals': 641, 'mainan': 642, 'selesai': 643, 'pilihan': 644, 'berhasil': 645, 'asal': 646, 'keterangan': 647, 'riwayat': 648, 'otomatis': 649, 'otorisasi': 650, 'validasi': 651, 'penyedia': 652, 'kami': 653, 'tahunan': 654, 'rekap': 655, 'perbankan': 656, 'app': 657, 'pemberitahuan': 658, 'catatan': 659, 'ulasan': 660, 'rating': 661, 'populer': 662, 'dan': 663, 'policy': 664, 'bakso': 665, 'kopiko': 666, 'bima': 667, 'luwak': 668, 'batik': 669, 'babi': 670, 'rendang': 671, 'krupuk': 672, 'gadogado': 673, 'seblak': 674, 'sosis': 675, 'gulung': 676, 'coffee': 677, 'aren': 678, 'milo': 679, 'churros': 680, 'pizza': 681, 'sushi': 682, 'kimchi': 683, 'spaghetti': 684, 'dawet': 685, 'donat': 686, 'puding': 687, 'sus': 688, 'salju': 689, 'cookies': 690, 'garam': 691, 'basah': 692, 'kering': 693, 'biskuit': 694, 'wafer': 695, 'kripik': 696, 'mentega': 697, 'barbeque': 698, 'rusa': 699, 'domba': 700, 'kelinci': 701, 'kerang': 702, 'kepiting': 703, 'salmon': 704, 'sarden': 705, 'bandeng': 706, 'lele': 707, 'patin': 708, 'tongkol': 709, 'sotong': 710, 'ceker': 711, 'broiler': 712, 'puyuh': 713, 'pindang': 714, 'polong': 715, 'kenari': 716, 'pistachio': 717, 'macadamia': 718, 'pecan': 719, 'durian': 720, 'rambutan': 721, 'naga': 722, 'pir': 723, 'siam': 724, 'tin': 725, 'kersen': 726, 'markisa': 727, 'mini': 728, 'srikaya': 729, 'mandalika': 730, 'terong': 731, 'kapri': 732, 'tutug': 733, 'gudeg': 734, 'opor': 735, 'cikur': 736, 'empal': 737, 'madura': 738, 'kikil': 739, 'lodeh': 740, 'tangerang': 741, 'asem': 742, 'sumsum': 743, 'iga': 744, 'mujair': 745, 'bawal': 746, 'kerapu': 747, 'gejrot': 748, 'sumedang': 749, 'lada': 750, 'teler': 751, 'doger': 752, 'selendang': 753, 'mayang': 754, 'goyobod': 755, 'sekoteng': 756, 'kopyor': 757, 'muda': 758, 'buaya': 759, 'tape': 760, 'sorbet': 761, 'gelato': 762, 'stick': 763, 'milkshake': 764, 'split': 765, 'kayu': 766, 'mete': 767, 'taro': 768, 'pandan': 769, 'ondeonde': 770, 'serabi': 771, 'bika': 772, 'legit': 773, 'getuk': 774, 'jenang': 775, 'dodol': 776, 'rengginang': 777, 'lemper': 778, 'wajik': 779, 'pukis': 780, 'kembang': 781, 'pastel': 782, 'risoles': 783, 'lumpia': 784, 'tarik': 785, 'poci': 786, 'celup': 787, 'tubruk': 788, 'jati': 789, 'loli': 790, 'smoothie': 791, 'arabika': 792, 'robusta': 793, 'brew': 794, 'bajigur': 795, 'oat': 796, 'herbal': 797, 'kapal': 798, 'penumpang': 799, 'soekarnohatta': 800, 'lion': 801, 'per': 802, 'class': 803, 'lengkap': 804, 'lounge': 805, 'tempuh': 806, 'reservasi': 807, 'transit': 808, 'meeting': 809, 'dasar': 810, 'area': 811, 'hiburan': 812, 'anggrek': 813, 'lawu': 814, 'sindoro': 815, 'yogya': 816, 'jayakarta': 817, 'kaligung': 818, 'mataram': 819, 'mutiara': 820, 'sawunggalih': 821, 'senja': 822, 'tawang': 823, 'gajah': 824, 'jaka': 825, 'sembrani': 826, 'serayu': 827, 'sriwijaya': 828, 'ciremai': 829, 'madiun': 830, 'siantar': 831, 'priok': 832, 'pangrango': 833, 'siliwangi': 834, 'blambangan': 835, 'rangkasbitung': 836, 'munic': 837, 'iv': 838, 'v': 839, 'kirana': 840, 'batu': 841, 'komodo': 842, 'gilimanuk': 843, 'gunung': 844, 'bukit': 845, 'tidar': 846, 'hasanuddin': 847, 'upg': 848, 'plm': 849, 'bandar': 850, 'kupang': 851, 'natuna': 852, 'wamena': 853, 'cilacap': 854, 'saumlaki': 855, 'saleh': 856, 'lsw': 857, 'lhokseumawe': 858, 'pasar': 859, 'sudirman': 860, 'purwokerto': 861, 'blitar': 862, 'jember': 863, 'serang': 864, 'po': 865, 'lorena': 866, 'sumber': 867, 'tirtonadi': 868, 'purabaya': 869, 'bungurasih': 870, 'pinang': 871, 'bintan': 872, 'karimun': 873, 'parepare': 874, 'manokwari': 875, 'nabire': 876, 'fakfak': 877, 'maumere': 878, 'ende': 879, 'bitung': 880, 'dumai': 881, 'wax': 882, 'bayi': 883, 'pengisi': 884, 'usb': 885, 'pompa': 886, 'velg': 887, 'roof': 888, 'rack': 889, 'tali': 890, 'pengikat': 891, 'oli': 892, 'udara': 893, 'gorden': 894, 'penyedot': 895, 'debu': 896, 'peredam': 897, 'suara': 898, 'kap': 899, 'fender': 900, 'grille': 901, 'pijakan': 902, 'footstep': 903, 'rak': 904, 'cadangan': 905, 'knalpot': 906, 'soket': 907, 'pemantik': 908, 'power': 909, 'penghangat': 910, 'penyejuk': 911, 'talang': 912, 'sun': 913, 'stir': 914, 'ortopedi': 915, 'pengukur': 916, 'suhu': 917, 'penyemprot': 918, 'audio': 919, 'speaker': 920, 'subwoofer': 921, 'amplifier': 922, 'equalizer': 923, 'sandaran': 924, 'dvd': 925, 'player': 926, 'tv': 927, 'tuner': 928, 'bluetooth': 929, 'receiver': 930, 'penyangga': 931, 'ponsel': 932, 'dudukan': 933, 'tablet': 934, 'holder': 935, 'mundur': 936, 'depan': 937, 'dvr': 938, 'organizer': 939, 'minum': 940, 'cooler': 941, 'kotak': 942, 'penyimpanan': 943, 'stroller': 944, 'jaring': 945, 'pengaman': 946, 'payung': 947, 'pita': 948, 'antena': 949, 'sirip': 950, 'pemanas': 951, 'kabin': 952, 'penghilang': 953, 'bau': 954, 'noda': 955, 'pengkilap': 956, 'deodoran': 957, 'freshener': 958, 'aroma': 959, 'terapi': 960, 'karpet': 961, 'pengering': 962, 'kit': 963, 'poles': 964, 'eksterior': 965, 'balaclava': 966, 'kacamata': 967, 'pakaian': 968, 'jas': 969, 'bot': 970, 'lutut': 971, 'siku': 972, 'kaos': 973, 'leher': 974, 'garasi': 975, 'pagar': 976, 'alarm': 977, 'setir': 978, 'spion': 979, 'bumper': 980, 'bodi': 981, 'half': 982, 'open': 983, 'modular': 984, 'trail': 985, 'cross': 986, 'windshield': 987, 'deflector': 988, 'side': 989, 'punggung': 990, 'selempang': 991, 'tank': 992, 'pad': 993, 'stiker': 994, 'striping': 995, 'cat': 996, 'semprot': 997, 'body': 998, 'paint': 999, 'vinyl': 1000, 'wrap': 1001, 'xenon': 1002, 'hid': 1003, 'laser': 1004, 'neon': 1005, 'uv': 1006, 'daytime': 1007, 'running': 1008, 'light': 1009, 'malaikat': 1010, 'demon': 1011, 'angel': 1012, 'mobilitas': 1013, 'sein': 1014, 'fog': 1015, 'rally': 1016, 'spot': 1017, 'pilar': 1018, 'bawah': 1019, 'ruang': 1020, 'atap': 1021, 'baca': 1022, 'ambient': 1023, 'strobe': 1024, 'sirine': 1025, 'polisi': 1026, 'ambulance': 1027, 'darurat': 1028, 'rotator': 1029, 'indikator': 1030, 'indicator': 1031, 'sensor': 1032, 'gerak': 1033, 'subtotal': 1034, 'cabang': 1035, 'pajak': 1036, 'ppn': 1037, 'kuantitas': 1038, 'unit': 1039, 'emoney': 1040, 'staf': 1041, 'pegawai': 1042, 'shift': 1043, 'pembungkus': 1044, 'kantong': 1045, 'plastik': 1046, 'garansi': 1047, 'kritik': 1048, 'registrasi': 1049, 'akumulasi': 1050, 'tenor': 1051, 'opsi': 1052, 'kurir': 1053, 'pickup': 1054, 'ambil': 1055, 'preorder': 1056, 'stok': 1057, 'ketersediaan': 1058, 'restock': 1059, 'indent': 1060, 'nanti': 1061, 'terima': 1062, 'kasih': 1063, 'sampai': 1064, 'jumpa': 1065, 'selamat': 1066, 'silakan': 1067, 'pengguna': 1068, 'username': 1069, 'ereceipt': 1070, 'offline': 1071, 'marketplace': 1072, 'website': 1073, 'cart': 1074, 'wishlist': 1075, 'simpan': 1076, 'proses': 1077, 'batal': 1078, 'dikirim': 1079, 'pengemasan': 1080, 'kompensasi': 1081, 'pemakaian': 1082, 'pemasangan': 1083, 'perawatan': 1084, 'purna': 1085, 'jual': 1086, 'chat': 1087, 'faq': 1088, 'pertanyaan': 1089, 'penggunaan': 1090, 'persetujuan': 1091, 'lisensi': 1092, 'pembaruan': 1093, 'aktivasi': 1094, 'reward': 1095, 'event': 1096, 'anniversary': 1097, 'banyak': 1098, 'limited': 1099, 'offer': 1100, 'today’s': 1101, 'kombo': 1102, 'bundling': 1103, 'gold': 1104, 'platinum': 1105, 'coupon': 1106, 'with': 1107, 'purchase': 1108, 'kembalian': 1109, 'receh': 1110, 'koin': 1111, 'pecahan': 1112, 'gateway': 1113, 'mbanking': 1114, 'setor': 1115, 'tap': 1116, 'nfc': 1117, 'paylater': 1118, 'terjadwal': 1119, 'down': 1120, 'agunan': 1121, 'pembiayaan': 1122, 'keuangan': 1123, 'paypal': 1124, 'transferwise': 1125, 'wise': 1126, 'remit': 1127, 'remittance': 1128, 'remitansi': 1129, 'ebanking': 1130, 'withdrawal': 1131, 'penarikan': 1132, 'dompet': 1133, 'wallet': 1134, 'ovo': 1135, 'gopay': 1136, 'linkaja': 1137, 'shopeepay': 1138, 'flip': 1139, 'escrow': 1140, 'rekber': 1141, 'konsumen': 1142, 'bri': 1143, 'syariah': 1144, 'link': 1145, 'response': 1146, 'machine': 1147, 'pos': 1148, 'register': 1149, 'hitung': 1150, 'calculator': 1151, 'perhitungan': 1152, 'pemindai': 1153, 'scanner': 1154, 'system': 1155, 'money': 1156, 'currency': 1157, 'cryptocurrency': 1158, 'bitcoin': 1159, 'ethereum': 1160, 'altcoin': 1161, 'blockchain': 1162, 'teknologi': 1163, 'technology': 1164, 'fintech': 1165, 'inovasi': 1166, 'nontunai': 1167, 'noncash': 1168, 'electronic': 1169, 'funds': 1170, 'pintar': 1171, 'network': 1172, 'authentication': 1173, 'verification': 1174, 'onetime': 1175, 'sekali': 1176, 'pakai': 1177, 'personal': 1178, 'identification': 1179, 'identifikasi': 1180, 'security': 1181, 'seller': 1182, 'branded': 1183, '0': 1184, 'mudah': 1185, 'exclusive': 1186, 'extravaganza': 1187, 'ganjilgenap': 1188, '1': 1189, 'hour': 1190, 'fantastis': 1191, 'hasil': 1192, 'gilagilaan': 1193, 'maksimal': 1194, 'insentif': 1195, 'prabayar': 1196, 'supermarket': 1197, 'kemasan': 1198, 'parcel': 1199, 'siap': 1200, 'terkirim': 1201, 'sampel': 1202, 'serbu': 1203, 'setoran': 1204, 'bag': 1205, 'spree': 1206, 'edition': 1207, 'surprise': 1208, 'weekend': 1209, 'ada': 1210, 'praktis': 1211, 'seru': 1212, 'yuk': 1213, 'benefit': 1214, 'berhadiah': 1215, 'berhemat': 1216, 'besarbesaran': 1217, 'buka': 1218, 'tutup': 1219, 'buruan': 1220, 'nol': 1221, 'care': 1222, 'easy': 1223, 'shipping': 1224, 'great': 1225, 'gila': 1226, 'untuk': 1227, 'high': 1228, 'limit': 1229, 'list': 1230, 'anak': 1231, 'edukasi': 1232, 'membantu': 1233, 'benefits': 1234, 'nilai': 1235, 'store': 1236, 'out': 1237, 'pencarian': 1238, 'kilat': 1239, 'nasional': 1240, 'ya': 1241, 'pengirimannya': 1242, 'pengumpulan': 1243, 'terbuka': 1244, 'ribet': 1245, 'plafon': 1246, 'plong': 1247, 'berbelanja': 1248, 'awal': 1249, 'referensi': 1250, 'admin': 1251, 'pending': 1252, 'pinjaman': 1253, 'cimb': 1254, 'niaga': 1255, 'mega': 1256, 'permata': 1257, 'panin': 1258, 'danamon': 1259, 'jago': 1260, 'sinarmas': 1261, 'bukopin': 1262, 'shopee': 1263, 'brimo': 1264, \"livin'\": 1265, 'by': 1266, 'mybca': 1267, 'lihat': 1268, 'terpotong': 1269, 'masuk': 1270, 'keluar': 1271, 'batas': 1272, 'hubungi': 1273, 'evoucher': 1274, 'points': 1275, 'autentikasi': 1276, 'etagihan': 1277, 'efaktur': 1278, 'einvoice': 1279, 'phone': 1280, 'tambah': 1281, 'pengurangan': 1282, 'berulang': 1283, 'debet': 1284, 'satuan': 1285, 'dibatalkan': 1286, 'penjual': 1287, 'kwitansi': 1288, 'review': 1289, 'harbolnas': 1290, 'terlaris': 1291, 'warranty': 1292, 'pengalaman': 1293, 'testimoni': 1294, 'resolusi': 1295, 'pengaduan': 1296, 'keinginan': 1297, 'cappucino': 1298, 'indomie': 1299, 'silverqueen': 1300, 'tolak': 1301, 'kuku': 1302, 'wangi': 1303, 'permen': 1304, 'paseo': 1305, 'guling': 1306, 'machiato': 1307, 'croffle': 1308, 'crispy': 1309, 'nugget': 1310, 'corndog': 1311, 'balok': 1312, 'lumer': 1313, 'dessert': 1314, 'toast': 1315, 'dalgona': 1316, 'thai': 1317, 'brown': 1318, 'sugar': 1319, 'boba': 1320, 'chizu': 1321, 'avocado': 1322, 'kepal': 1323, 'kocok': 1324, 'takoyaki': 1325, 'cilok': 1326, 'cimol': 1327, 'bakpao': 1328, 'mentai': 1329, 'onigiri': 1330, 'ramen': 1331, 'fried': 1332, 'tteokbokki': 1333, 'korean': 1334, 'garlic': 1335, 'bread': 1336, 'hotteok': 1337, 'aglio': 1338, 'olio': 1339, 'mac': 1340, 'and': 1341, 'lasagna': 1342, 'sum': 1343, 'siomay': 1344, 'batagor': 1345, 'baso': 1346, 'macemmacem': 1347, 'popcorn': 1348, 'oyen': 1349, 'mango': 1350, 'sticky': 1351, 'dadar': 1352, 'lumpur': 1353, 'pancake': 1354, 'waffle': 1355, 'crepe': 1356, 'tiramisu': 1357, 'vla': 1358, 'nastar': 1359, 'kastengel': 1360, 'cornflake': 1361, 'chocolate': 1362, 'chip': 1363, 'red': 1364, 'velvet': 1365, 'black': 1366, 'forest': 1367, 'minyak': 1368, 'terigu': 1369, 'maizena': 1370, 'tapioka': 1371, 'fettucine': 1372, 'fusilli': 1373, 'penne': 1374, 'rotini': 1375, 'gandum': 1376, 'hotdog': 1377, 'croissant': 1378, 'bagel': 1379, 'muffin': 1380, 'brownies': 1381, 'cupcake': 1382, 'ubi': 1383, 'cair': 1384, 'kental': 1385, 'margarin': 1386, 'whipped': 1387, 'batang': 1388, 'chips': 1389, 'blueberry': 1390, 'karamel': 1391, 'mayones': 1392, 'inggris': 1393, 'ulek': 1394, 'terasi': 1395, 'matah': 1396, 'korek': 1397, 'kaleng': 1398, 'cumicumi': 1399, 'lobster': 1400, 'tenggiri': 1401, 'mackerel': 1402, 'sayap': 1403, 'dada': 1404, 'paha': 1405, 'mede': 1406, 'pinus': 1407, 'sereal': 1408, 'granola': 1409, 'muesli': 1410, 'oatmeal': 1411, 'cornflakes': 1412, 'snack': 1413, 'energy': 1414, 'protein': 1415, 'salak': 1416, 'kelengkeng': 1417, 'cempedak': 1418, 'sawo': 1419, 'manggis': 1420, 'duku': 1421, 'matoa': 1422, 'zaitun': 1423, 'ceri': 1424, 'plum': 1425, 'delima': 1426, 'kurma': 1427, 'blewah': 1428, 'murbei': 1429, 'arbei': 1430, 'jamblang': 1431, 'kecapi': 1432, 'kapulasan': 1433, 'kemang': 1434, 'kerendang': 1435, 'ketela': 1436, 'kundur': 1437, 'menteng': 1438, 'rambai': 1439, 'terung': 1440, 'peras': 1441, 'cui': 1442, 'impor': 1443, 'california': 1444, 'australia': 1445, 'india': 1446, 'itali': 1447, 'kapur': 1448, 'mediterania': 1449, 'perancis': 1450, 'yuzu': 1451, 'kecil': 1452, 'kombinasi': 1453, 'sawi': 1454, 'selada': 1455, 'kol': 1456, 'kubis': 1457, 'wortel': 1458, 'lobak': 1459, 'ketimun': 1460, 'pare': 1461, 'darat': 1462, 'brasil': 1463, 'tim': 1464, 'langgi': 1465, 'gandul': 1466, 'jinggo': 1467, 'tumpeng': 1468, 'betutu': 1469, 'woku': 1470, 'bakmoy': 1471, 'bogana': 1472, 'brongkos': 1473, 'gentong': 1474, 'gepuk': 1475, 'pete': 1476, 'seafood': 1477, 'mawut': 1478, 'kalong': 1479, 'kebuli': 1480, 'krawu': 1481, 'lemak': 1482, 'lengko': 1483, 'jamur': 1484, 'ponggol': 1485, 'ramas': 1486, 'rempah': 1487, 'tempong': 1488, 'timbel': 1489, 'ulam': 1490, 'urap': 1491, 'cap': 1492, 'gomeh': 1493, 'kari': 1494, 'semur': 1495, 'tumis': 1496, 'rebung': 1497, 'tauco': 1498, 'jantung': 1499, 'tolo': 1500, 'babat': 1501, 'kudus': 1502, 'banjar': 1503, 'ambengan': 1504, 'sulung': 1505, 'tasik': 1506, 'tauto': 1507, 'sokaraja': 1508, 'pacitan': 1509, 'sumenep': 1510, 'tawangmangu': 1511, 'garut': 1512, 'garang': 1513, 'kuali': 1514, 'sotoan': 1515, 'toge': 1516, 'seger': 1517, 'kwali': 1518, 'jeroan': 1519, 'usus': 1520, 'hati': 1521, 'paru': 1522, 'tulang': 1523, 'rusuk': 1524, 'balungan': 1525, 'gading': 1526, 'karak': 1527, 'lodho': 1528, 'nila': 1529, 'ketam': 1530, 'cumi': 1531, 'jengkol': 1532, 'cingur': 1533, 'kerbau': 1534, 'itik': 1535, 'kalkun': 1536, 'angsa': 1537, 'merpati': 1538, 'dara': 1539, 'pipit': 1540, 'perkutut': 1541, 'ketoprak': 1542, 'tek': 1543, 'bacem': 1544, 'petis': 1545, 'fantasi': 1546, 'pong': 1547, 'cabai': 1548, 'asam': 1549, 'cincau': 1550, 'lilin': 1551, 'podeng': 1552, 'sarang': 1553, 'pelangi': 1554, 'biji': 1555, 'kedondong': 1556, 'tapai': 1557, 'kolangkaling': 1558, 'sundae': 1559, 'cone': 1560, 'cup': 1561, 'sandwich': 1562, 'roll': 1563, 'topping': 1564, 'float': 1565, 'parfait': 1566, 'banana': 1567, 'rainbow': 1568, 'vanilla': 1569, 'matcha': 1570, 'hazelnut': 1571, 'rum': 1572, 'toffee': 1573, 'butterscotch': 1574, 'nougat': 1575, 'peppermint': 1576, 'wingko': 1577, 'cucur': 1578, 'ku': 1579, 'apem': 1580, 'bugis': 1581, 'pancong': 1582, 'terang': 1583, 'kamir': 1584, 'goyang': 1585, 'sagon': 1586, 'soes': 1587, 'panas': 1588, 'telang': 1589, 'serai': 1590, 'kunyit': 1591, 'temulawak': 1592, 'salam': 1593, 'kelor': 1594, 'mint': 1595, 'pegagan': 1596, 'katuk': 1597, 'bidara': 1598, 'sukun': 1599, 'sirih': 1600, 'kemangi': 1601, 'beluntas': 1602, 'waru': 1603, 'shopefood': 1604, 'grabfood': 1605, 'gofood': 1606, 'mcd': 1607, 'starbucks': 1608, 'chatime': 1609, 'oti': 1610, 'olive': 1611, 'rocket': 1612, 'chicken': 1613, 'tomoro': 1614, 'kebab': 1615, 'penyet': 1616, 'steak': 1617, 'rujak': 1618, 'ricarica': 1619, 'taliwang': 1620, 'dendeng': 1621, 'sup': 1622, 'tomyam': 1623, 'sashimi': 1624, 'tempura': 1625, 'udon': 1626, 'yakiniku': 1627, 'katsu': 1628, 'okonomiyaki': 1629, 'gyoza': 1630, 'edamame': 1631, 'yakitori': 1632, 'mochi': 1633, 'kimbap': 1634, 'bibimbap': 1635, 'bulgogi': 1636, 'jjajangmyeon': 1637, 'jjamppong': 1638, 'samgyetang': 1639, 'dakgalbi': 1640, 'kfc': 1641, 'a': 1642, 'w': 1643, 'dunkin': 1644, 'donuts': 1645, 'krispy': 1646, 'kreme': 1647, 'breadtalk': 1648, 'jco': 1649, 'rotiboy': 1650, 'sour': 1651, 'sally': 1652, 'yogurtland': 1653, 'koi': 1654, 'xing': 1655, 'fu': 1656, 'tang': 1657, 'ichitan': 1658, 'sosro': 1659, 'ultra': 1660, 'milk': 1661, 'bear': 1662, 'brand': 1663, 'good': 1664, 'nescafe': 1665, 'bengbeng': 1666, 'queen': 1667, 'cadbury': 1668, 'kitkat': 1669, 'chitato': 1670, 'lays': 1671, 'pringles': 1672, 'cheetos': 1673, 'supermi': 1674, 'sarimi': 1675, 'pop': 1676, 'lemonilo': 1677, 'sedaap': 1678, 'gaga': 1679, 'abc': 1680, 'fitbar': 1681, 'soyjoy': 1682, 'energen': 1683, 'oatbits': 1684, 'roma': 1685, 'khong': 1686, 'guan': 1687, 'marie': 1688, 'regal': 1689, 'nabati': 1690, 'tango': 1691, 'pocky': 1692, 'wafello': 1693, 'mendoan': 1694, 'bakwan': 1695, 'telor': 1696, 'cane': 1697, 'crepes': 1698, 'danish': 1699, 'pretzel': 1700, 'bakpia': 1701, 'pia': 1702, 'legong': 1703, 'panggang': 1704, 'ape': 1705, 'pepe': 1706, 'talam': 1707, 'cenil': 1708, 'kolak': 1709, 'angsle': 1710, 'ronde': 1711, 'melati': 1712, 'serut': 1713, 'soda': 1714, 'gembira': 1715, 'mambo': 1716, 'gabus': 1717, 'berenergi': 1718, 'mineral': 1719, 'vanila': 1720, 'murni': 1721, 'bubble': 1722, 'vietnam': 1723, 'espresso': 1724, 'latte': 1725, 'macchiato': 1726, 'affogato': 1727, 'mocha': 1728, 'flat': 1729, 'white': 1730, 'americano': 1731, 'cold': 1732, 'nitro': 1733, 'frappe': 1734, 'sereh': 1735, 'chamomile': 1736, 'saffron': 1737, 'serbat': 1738, 'bandrek': 1739, 'uwuh': 1740, 'secang': 1741, 'fermentasi': 1742, 'kefir': 1743, 'kombucha': 1744, 'ginseng': 1745, 'acai': 1746, 'pudding': 1747, 'salad': 1748, 'wafel': 1749, 'agaragar': 1750, 'jelly': 1751, 'emping': 1752, 'rempeyek': 1753, 'cheddar': 1754, 'mozzarella': 1755, 'parmesan': 1756, 'edam': 1757, 'gouda': 1758, 'brie': 1759, 'camembert': 1760, 'feta': 1761, 'ricotta': 1762, 'plain': 1763, 'rasa': 1764, 'puter': 1765, 'evaporasi': 1766, 'uht': 1767, 'pasteurisasi': 1768, 'skim': 1769, 'low': 1770, 'fat': 1771, 'laktosa': 1772, 'liberika': 1773, 'ekselsa': 1774, 'sepeda': 1775, 'skuter': 1776, 'truk': 1777, 'taksi': 1778, 'becak': 1779, 'bajaj': 1780, 'ojek': 1781, 'navigasi': 1782, 'tracker': 1783, 'standby': 1784, 'supir': 1785, 'masinis': 1786, 'pilot': 1787, 'gerbong': 1788, 'dari': 1789, 'bluebird': 1790, 'booking': 1791, 'pariwisata': 1792, 'uber': 1793, 'akap': 1794, 'express': 1795, 'termurah': 1796, 'first': 1797, 'provinsi': 1798, 'business': 1799, 'unggulan': 1800, 'ekonomis': 1801, 'pengantaran': 1802, 'titik': 1803, 'maskapai': 1804, 'tepat': 1805, 'peta': 1806, 'peron': 1807, 'jam': 1808, 'dinamis': 1809, 'arah': 1810, 'destinasi': 1811, 'perkiraan': 1812, 'jalur': 1813, 'boarding': 1814, 'penilaian': 1815, 'armada': 1816, 'tiba': 1817, 'referal': 1818, 'akses': 1819, 'alternatif': 1820, 'bioskop': 1821, 'konser': 1822, 'restoran': 1823, 'sewa': 1824, 'bisnis': 1825, 'eksekutif': 1826, 'pelajar': 1827, 'koridor': 1828, 'halte': 1829, 'integrasi': 1830, 'koneksi': 1831, 'bromo': 1832, 'dwipangga': 1833, 'muria': 1834, 'brantas': 1835, 'cirebon': 1836, 'fajar': 1837, 'gajayana': 1838, 'gumarang': 1839, 'harina': 1840, 'jayabaya': 1841, 'kahuripan': 1842, 'kamandaka': 1843, 'kertajaya': 1844, 'krakatau': 1845, 'lodaya': 1846, 'majapahit': 1847, 'malabar': 1848, 'pasundan': 1849, 'progo': 1850, 'ranggajati': 1851, 'singasari': 1852, 'sritanjung': 1853, 'taksaka': 1854, 'alun': 1855, 'bahari': 1856, 'turangga': 1857, 'wijayakusuma': 1858, 'bogowonto': 1859, 'wong': 1860, 'matarmaja': 1861, 'kertanegara': 1862, 'kamandanu': 1863, 'tingkir': 1864, 'anjasmoro': 1865, 'dharmawangsa': 1866, 'mada': 1867, 'cikuray': 1868, 'jatiluhur': 1869, 'walahar': 1870, 'gaya': 1871, 'purwojaya': 1872, 'arum': 1873, 'rajabasa': 1874, 'ambarawa': 1875, 'tarub': 1876, 'banyubiru': 1877, 'joglosemarkerto': 1878, 'sibinuang': 1879, 'sribilah': 1880, 'cikurai': 1881, 'kalijaga': 1882, 'jayanegara': 1883, 'mahesa': 1884, 'singosari': 1885, 'sulam': 1886, 'kotabekasi': 1887, 'balapanyogyakarta': 1888, 'prambanan': 1889, 'prameks': 1890, 'jabodetabek': 1891, 'railbus': 1892, 'batara': 1893, 'kresna': 1894, 'legundi': 1895, 'penida': 1896, 'abadi': 1897, 'portlink': 1898, 'tanbaruni': 1899, 'pulo': 1900, 'telo': 1901, 'sebuku': 1902, 'surya': 1903, 'amanah': 1904, 'raja': 1905, 'basa': 1906, 'madani': 1907, 'sembilang': 1908, 'burang': 1909, 'mandi': 1910, 'kartika': 1911, 'vi': 1912, 'vii': 1913, 'viii': 1914, 'ix': 1915, 'x': 1916, 'xi': 1917, 'xii': 1918, 'xiii': 1919, 'xiv': 1920, 'xv': 1921, 'jalesveva': 1922, 'jayamahe': 1923, 'lumbalumba': 1924, 'barakuda': 1925, 'bawean': 1926, 'enggano': 1927, 'kumala': 1928, 'balibo': 1929, 'balinuraga': 1930, 'barito': 1931, 'pantokrator': 1932, 'swarna': 1933, 'titian': 1934, 'muhibah': 1935, 'labobar': 1936, 'dempo': 1937, 'kelimutu': 1938, 'leuser': 1939, 'awu': 1940, 'sirimau': 1941, 'lambelu': 1942, 'lawit': 1943, 'sinabung': 1944, 'tatamailau': 1945, 'dorolonda': 1946, 'egon': 1947, 'binaiya': 1948, 'tilongkabila': 1949, 'dobonsolo': 1950, 'sangiang': 1951, 'umsini': 1952, 'siguntang': 1953, '55': 1954, '56': 1955, '57': 1956, '58': 1957, '59': 1958, '60': 1959, '61': 1960, '62': 1961, '63': 1962, '64': 1963, '65': 1964, 'citilink': 1965, 'nam': 1966, 'airasia': 1967, 'jet': 1968, 'wings': 1969, 'trigana': 1970, 'susi': 1971, 'pelita': 1972, 'transnusa': 1973, 'xpress': 1974, 'kalstar': 1975, 'aviation': 1976, 'deraya': 1977, 'travira': 1978, 'cgk': 1979, 'halim': 1980, 'perdanakusuma': 1981, 'hlp': 1982, 'ngurah': 1983, 'rai': 1984, 'dps': 1985, 'juanda': 1986, 'sub': 1987, 'kualanamu': 1988, 'kno': 1989, 'adisutjipto': 1990, 'jog': 1991, 'adi': 1992, 'soemarmo': 1993, 'soc': 1994, 'ahmad': 1995, 'yani': 1996, 'srg': 1997, 'husein': 1998, 'sastranegara': 1999, 'bdo': 2000, 'sam': 2001, 'ratulangi': 2002, 'mdc': 2003, 'manado': 2004, 'minangkabau': 2005, 'pdg': 2006, 'mahmud': 2007, 'badaruddin': 2008, 'supadio': 2009, 'pnk': 2010, 'syamsudin': 2011, 'noor': 2012, 'bdj': 2013, 'sepinggan': 2014, 'bpn': 2015, 'syarif': 2016, 'kasim': 2017, 'pku': 2018, 'pekanbaru': 2019, 'pattimura': 2020, 'amq': 2021, 'frans': 2022, 'kaisiepo': 2023, 'bik': 2024, 'sentani': 2025, 'djj': 2026, 'mopah': 2027, 'mkq': 2028, 'merauke': 2029, 'radin': 2030, 'inten': 2031, 'tkg': 2032, 'el': 2033, 'tari': 2034, 'koe': 2035, 'lbj': 2036, 'labuan': 2037, 'bajo': 2038, 'tjilik': 2039, 'riwut': 2040, 'pky': 2041, 'palangkaraya': 2042, 'hang': 2043, 'nadim': 2044, 'bth': 2045, 'raden': 2046, 'sadjad': 2047, 'mwk': 2048, 'aji': 2049, 'pangeran': 2050, 'tumenggung': 2051, 'pranoto': 2052, 'aap': 2053, 'wmx': 2054, 'syukuran': 2055, 'aminuddin': 2056, 'amir': 2057, 'luw': 2058, 'luwuk': 2059, 'juwata': 2060, 'trk': 2061, 'djalaluddin': 2062, 'gto': 2063, 'blimbingsari': 2064, 'bwx': 2065, 'dewadaru': 2066, 'kwb': 2067, 'karimunjawa': 2068, 'tunggul': 2069, 'wulung': 2070, 'cxp': 2071, 'wiriadinata': 2072, 'tsy': 2073, 'tasikmalaya': 2074, 'haluoleo': 2075, 'kdi': 2076, 'kendari': 2077, 'sis': 2078, 'aljufrie': 2079, 'plw': 2080, 'betoambari': 2081, 'buw': 2082, 'matahora': 2083, 'wni': 2084, 'wakatobi': 2085, 'babullah': 2086, 'tte': 2087, 'mathilda': 2088, 'batlayeri': 2089, 'sau': 2090, 'abdul': 2091, 'rachman': 2092, 'mlg': 2093, 'rembele': 2094, 'txe': 2095, 'takengon': 2096, 'teuku': 2097, 'cut': 2098, 'ali': 2099, 'malikus': 2100, 'haji': 2101, 'muhammad': 2102, 'sidik': 2103, 'hms': 2104, 'teweh': 2105, 'dominique': 2106, 'edward': 2107, 'osok': 2108, 'soq': 2109, 'gambir': 2110, 'gmr': 2111, 'jakk': 2112, 'senen': 2113, 'pse': 2114, 'jatinegara': 2115, 'jng': 2116, 'manggarai': 2117, 'mri': 2118, 'abang': 2119, 'thb': 2120, 'sdm': 2121, 'palmerah': 2122, 'cikini': 2123, 'cki': 2124, 'tebet': 2125, 'tbt': 2126, 'bd': 2127, 'kiaracondong': 2128, 'kac': 2129, 'cimahi': 2130, 'cmi': 2131, 'cicalengka': 2132, 'ccl': 2133, 'cibatu': 2134, 'cb': 2135, 'purwakarta': 2136, 'pwk': 2137, 'bekasi': 2138, 'bks': 2139, 'cikarang': 2140, 'ckr': 2141, 'karawang': 2142, 'kw': 2143, 'cikampek': 2144, 'ckp': 2145, 'smt': 2146, 'poncol': 2147, 'smc': 2148, 'tg': 2149, 'pk': 2150, 'cepu': 2151, 'cu': 2152, 'pwt': 2153, 'kutoarjo': 2154, 'kta': 2155, 'cp': 2156, 'kroya': 2157, 'kya': 2158, 'yk': 2159, 'lempuyangan': 2160, 'lpn': 2161, 'wates': 2162, 'wt': 2163, 'maguwo': 2164, 'mgw': 2165, 'tugu': 2166, 'ykt': 2167, 'gubeng': 2168, 'sgu': 2169, 'turi': 2170, 'sbi': 2171, 'ml': 2172, 'bl': 2173, 'jr': 2174, 'bw': 2175, 'mojokerto': 2176, 'mr': 2177, 'mn': 2178, 'bojonegoro': 2179, 'bj': 2180, 'kediri': 2181, 'kd': 2182, 'mdn': 2183, 'binjai': 2184, 'bij': 2185, 'tebing': 2186, 'tinggi': 2187, 'tbi': 2188, 'pematang': 2189, 'pts': 2190, 'tnb': 2191, 'kertapati': 2192, 'kpt': 2193, 'prabumulih': 2194, 'pbm': 2195, 'enim': 2196, 'me': 2197, 'lahat': 2198, 'lht': 2199, 'lubuklinggau': 2200, 'llg': 2201, 'karang': 2202, 'tnk': 2203, 'kotabumi': 2204, 'kt': 2205, 'rejosari': 2206, 'rjs': 2207, 'umpu': 2208, 'blu': 2209, 'martapura': 2210, 'mtp': 2211, 'pd': 2212, 'pariaman': 2213, 'prm': 2214, 'lubuk': 2215, 'alung': 2216, 'lba': 2217, 'solok': 2218, 'slk': 2219, 'sawahlunto': 2220, 'swl': 2221, 'rk': 2222, 'sr': 2223, 'cilegon': 2224, 'clg': 2225, 'mer': 2226, 'tng': 2227, 'primajasa': 2228, 'rosalia': 2229, 'indah': 2230, 'haryanto': 2231, 'sinar': 2232, 'maju': 2233, 'lancar': 2234, 'agra': 2235, 'als': 2236, 'lintas': 2237, 'damri': 2238, 'kramat': 2239, 'djati': 2240, 'mira': 2241, 'harta': 2242, 'harapan': 2243, 'handoyo': 2244, 'pahala': 2245, 'kencana': 2246, 'safari': 2247, 'satriamas': 2248, 'kurnia': 2249, 'putera': 2250, 'mulya': 2251, 'san': 2252, 'budiman': 2253, 'eka': 2254, 'alam': 2255, 'karina': 2256, 'malino': 2257, 'putra': 2258, 'npm': 2259, 'naikilah': 2260, 'perusahaan': 2261, 'minang': 2262, 'ramayana': 2263, 'sugeng': 2264, 'rahayu': 2265, 'santoso': 2266, 'kencono': 2267, 'dedy': 2268, 'blue': 2269, 'bird': 2270, 'for': 2271, 'transjakarta': 2272, 'mayasari': 2273, 'bakti': 2274, 'jogja': 2275, 'pakuan': 2276, 'metro': 2277, 'musi': 2278, 'mamminasata': 2279, 'perum': 2280, 'ppd': 2281, 'bhinneka': 2282, 'sangkuriang': 2283, 'maharani': 2284, 'pulogebang': 2285, 'lebak': 2286, 'bulus': 2287, 'kalideres': 2288, 'blok': 2289, 'm': 2290, 'terboyo': 2291, 'giwangan': 2292, 'arjosari': 2293, 'ubung': 2294, 'mengwi': 2295, 'leuwipanjang': 2296, 'cicaheum': 2297, 'baranangsiang': 2298, 'pakupatan': 2299, 'bulupitu': 2300, 'wangon': 2301, 'banyumas': 2302, 'bawen': 2303, 'mangkang': 2304, 'umbulharjo': 2305, 'patria': 2306, 'sukowati': 2307, 'sragen': 2308, 'giri': 2309, 'adipura': 2310, 'wonogiri': 2311, 'kertonegoro': 2312, 'ngawi': 2313, 'tambak': 2314, 'osowilangun': 2315, 'wilangan': 2316, 'nganjuk': 2317, 'sidoarjo': 2318, 'umbulsari': 2319, 'tawangalun': 2320, 'aal': 2321, 'angkatan': 2322, 'laut': 2323, 'menganti': 2324, 'gresik': 2325, 'bunder': 2326, 'magelang': 2327, 'dr': 2328, 'moh': 2329, 'wazir': 2330, 'lumajang': 2331, 'joyoboyo': 2332, 'petuwo': 2333, 'toraja': 2334, 'mallengkeri': 2335, 'simpang': 2336, 'baris': 2337, 'amplas': 2338, 'bakauheni': 2339, 'ketapang': 2340, 'lembar': 2341, 'kayangan': 2342, 'sekupang': 2343, 'sri': 2344, 'pura': 2345, 'boom': 2346, 'kijang': 2347, 'selat': 2348, 'lampa': 2349, 'angke': 2350, 'tenau': 2351, 'waingapu': 2352, 'sumba': 2353, 'namlea': 2354, 'buru': 2355, 'tobelo': 2356, 'halmahera': 2357, 'buton': 2358, 'sikakap': 2359, 'mentawai': 2360, 'tual': 2361, 'perak': 2362, 'belawan': 2363, 'emas': 2364, 'benoa': 2365, 'ampar': 2366, 'tiketcom': 2367, 'pegipegi': 2368, 'agoda': 2369, 'bookingcom': 2370, 'airy': 2371, 'tripcom': 2372, 'blibli': 2373, 'travel': 2374, 'mister': 2375, 'aladin': 2376, 'expedia': 2377, 'klook': 2378, 'nusatrip': 2379, 'skyscanner': 2380, 'wego': 2381}\n",
            "[[241, 1], [241, 242], [1, 243], [243, 99], [1, 92], [1, 99], [1], [149, 1], [385, 92], [385, 99], [150, 1], [1, 1, 1], [1, 386], [149, 1], [149, 242], [387], [1, 1], [1, 1], [388, 1], [389, 1], [389, 1], [389, 1], [150, 1], [1, 92], [1, 1, 92], [1, 92], [1, 244, 92], [300, 245], [1, 1], [1, 246], [1], [1], [301, 27], [16, 1], [105, 390], [391, 242], [1, 1], [1], [1, 125], [125, 1], [300, 1], [16, 392], [16, 301, 27], [1, 1], [16, 1], [1, 1], [1, 1], [1, 245], [1, 1], [1, 40], [1, 1], [300, 1], [150, 1], [1, 1], [1, 40], [243, 242], [302, 1], [1], [1], [1], [1], [1, 1], [1, 1], [1, 1], [1, 1], [1, 1], [1, 1], [1, 1], [1, 393], [241, 1], [241, 1], [1], [172, 245, 1], [1], [212, 1], [212, 1], [1, 247], [1, 1], [1, 92], [1, 1], [212, 1], [212, 303], [16, 1], [390, 394], [1, 394], [1, 1, 395], [149, 1], [1, 1], [1, 1], [149, 1], [1, 386], [1, 92], [40, 1], [385, 242], [1, 1], [149, 248], [149, 245], [149, 1], [1, 1], [149, 16], [1, 1], [391, 1], [391, 1], [1], [1, 99], [1, 1], [1, 1], [303, 99], [303, 1], [172, 1], [172, 1], [396, 248], [396, 1, 244], [396, 1, 40], [1, 99], [1, 99], [1, 248], [397, 304, 248], [397, 304, 1, 40], [397, 304, 1, 244], [172, 1], [1, 99], [1, 92], [1, 1], [1, 70], [1, 70], [241, 70], [302, 398], [398, 1], [398, 1], [172, 399], [172, 1], [172, 1], [172, 1], [243, 92, 1], [243, 99, 1], [125, 305, 400], [125, 1, 400], [125, 1, 400], [125, 1], [125, 1], [125, 1], [125, 1], [125, 1], [1, 125], [1], [1, 244], [247, 99], [1, 247], [249, 247], [250, 388], [250, 245], [250, 1], [250, 1], [1, 1], [300, 388], [1, 99], [1, 394], [1, 99], [1, 1], [1, 1], [1, 1], [301, 27, 1], [16, 105], [16, 1], [16, 1], [16, 1], [16, 1], [16, 1], [16, 1], [16, 1, 1], [16, 105, 1], [1, 1, 1], [16, 1, 1], [16, 1, 1], [16, 1, 1], [16, 105, 390], [16, 1], [16, 1], [16, 399], [16, 1], [16, 1], [16, 1], [16, 1, 105], [16, 392, 105], [16, 392, 183], [16, 1, 105], [1], [16, 1], [16, 1, 105], [16, 1, 105], [16, 1], [16, 100], [16, 137], [16, 1, 183], [16, 1], [16, 1], [16, 306, 105], [16, 1], [16, 1, 399], [16, 1, 246], [16, 1, 92], [16, 387], [16, 1], [16, 1, 105], [16, 1, 105], [16, 1], [16, 1], [16, 1], [16, 1], [16, 1], [16, 1], [16, 401], [16, 1], [16, 1], [16, 1], [105, 1], [16, 1], [16, 1], [16, 60, 100], [16, 60, 137], [16, 1], [213], [19], [28], [214], [1], [1], [251], [10], [173], [57], [402], [78, 151], [56, 151], [403], [404], [215], [1], [1], [115], [216], [1], [1], [1], [1], [74], [1], [1], [307], [138], [308], [43], [309, 10], [61, 174], [61, 252], [217, 310], [1], [106], [246, 1], [72], [1], [65], [1], [1], [1], [15], [1], [250, 36], [1, 1], [184], [253], [405, 1, 126, 1], [126], [1], [1], [406, 151], [311, 217], [312], [1], [312, 15], [15, 65], [407], [1], [1], [313], [254], [107], [218], [314], [108], [61, 314], [1], [255], [27, 314], [1, 107], [19, 108], [71], [36, 71], [71, 315], [21], [185], [307, 28], [256, 1], [28, 116], [83], [408], [10, 83], [1], [186], [409, 186], [1, 10], [51], [1], [316, 187], [152, 57], [1], [1, 87, 1], [1], [1], [1], [1], [1], [1], [1], [1], [75], [188, 410], [127, 1], [175], [1, 1], [1, 1], [1, 1], [1, 36], [1, 1, 1], [27, 404], [56, 43], [1], [1], [219, 65], [27, 216], [317], [61], [252], [174], [220], [109], [1], [93], [1, 304], [318], [56, 319], [411, 176], [176, 221], [1], [23], [1], [1], [1], [1], [1], [15, 23], [36, 23], [1], [1], [257], [1], [412], [1], [1], [127], [175, 10], [1], [413], [320], [1], [1], [311], [215, 51], [1], [1], [258], [1], [1], [1], [414], [321], [1], [1], [1], [1], [1], [1], [322], [15, 1, 1], [259], [1], [1, 415], [416], [1], [1, 1], [417], [418], [1], [1], [1], [312, 418], [128, 1], [1], [1], [1], [258, 108], [107, 1], [260], [218, 323], [1], [184, 116], [313, 254], [1], [419, 1], [153, 116], [153, 261], [19, 153, 261], [129], [1, 129], [1], [307, 189], [71, 315, 1], [21, 189], [401, 129], [1, 129], [1, 1], [256, 324], [420, 324], [324, 421, 1, 1], [1, 256], [28, 21], [190], [307, 323], [84, 71], [84, 1], [84, 1], [84, 116], [84, 1], [84, 73], [84, 262], [84, 1], [84, 1], [84, 1], [84, 154], [263, 325], [61, 218], [61, 19], [1, 221], [56, 21], [326, 107], [1], [422, 263], [260, 403], [263, 1, 1], [256, 263], [217, 1], [1], [1], [217, 1], [214, 213], [127, 87, 212], [1], [327, 1, 423], [94, 1], [424, 1], [106, 72], [1], [110, 222], [425], [1, 310], [328, 94], [10, 328], [1], [1], [1], [10, 1], [83, 329], [1], [1, 94], [223, 1], [174, 223, 1], [1], [15, 1], [1, 426], [1], [1], [1], [1], [1], [51, 217], [15, 1], [1], [72, 106], [327, 1], [1, 310], [1, 93], [93, 1], [1], [1], [1], [1], [330], [1], [155, 1], [1], [1], [10, 191], [43, 191], [1, 1], [1], [1], [1], [1], [72, 1], [427, 425], [425, 1], [1], [427, 1], [94, 1], [428], [1, 1, 221], [1, 1], [246, 251], [1], [331, 421, 129], [302, 251], [251, 93], [327, 1], [246, 1], [1], [1], [1], [1], [1, 402], [1, 176], [56, 176], [10, 176], [176, 94], [93, 94], [23, 94], [10, 23], [302, 10], [94, 1], [217, 224], [224, 1], [93, 1], [1], [1], [1], [1], [1], [1], [1, 1], [1], [1], [10, 1], [1, 94], [1, 1, 106], [106, 330, 224], [10, 224], [94, 325], [61, 10], [1, 325], [61, 1], [94, 1], [427, 10], [1, 94], [1], [1], [56, 1], [56, 318], [1, 221], [319], [1, 1], [1, 1, 1], [1], [1, 1, 1], [27, 1, 1], [1, 221], [56, 1], [1, 1], [61, 1], [264, 1], [409, 332], [405, 315, 71], [420, 1], [1], [333, 10], [83, 1], [83, 186, 329], [83, 1], [83, 223, 186], [255, 36], [190, 129], [1], [1, 1], [1], [1], [1], [126, 1], [1, 1], [28, 19], [28, 1], [1, 411], [71, 189], [71, 1], [71, 1], [28, 108], [1], [225], [61, 36], [61, 265], [61, 1], [61, 1], [1], [257, 36], [56, 74], [175, 66], [308, 19], [15, 1, 415], [15, 101], [15, 139], [15, 192], [265, 313], [27, 66], [1, 36], [1, 189], [316, 187, 126], [1], [84, 19], [1], [10, 93], [10, 334], [10, 61], [10, 424], [253, 177], [253, 1], [253, 116], [51, 126], [66, 23], [66, 1], [66, 1], [66, 1], [66, 429], [331, 1], [313, 314], [21, 264, 1], [21, 117], [21, 116], [184, 177], [1, 129], [1, 226], [1], [1], [1, 65], [411, 402], [1, 28], [322, 415], [1, 310], [335, 1], [335, 1], [256, 1], [226, 1], [404, 224], [430, 129], [1, 263], [58], [173, 36], [43, 101], [43, 320], [43, 413], [406, 218], [406, 107], [138, 36], [1, 129], [1, 19], [264, 336], [408, 329], [151, 19], [409, 83], [36, 191], [36, 1], [36, 101], [36, 227], [36, 1], [36, 1], [36, 1], [36, 192], [36, 1], [1, 108], [1], [1], [1], [1, 190], [1, 129], [1, 1], [333, 36], [333, 43], [186, 329], [1, 405], [185, 117], [185, 116], [83, 191], [83, 72], [83, 186, 1], [83, 101], [83, 220], [83, 1], [83, 431], [83, 223, 61], [83, 1], [337, 1], [337, 322], [255, 74], [255, 43], [432, 74], [156, 66], [19, 264, 1], [19, 72], [19, 189], [19, 185], [19, 153, 266], [19, 1], [19, 61], [19, 39], [19, 254], [19, 65], [19, 1], [190, 189], [190, 108], [1, 65], [1, 185], [1, 19], [1, 74, 157], [1, 157], [1, 94], [433, 19], [177, 108], [177, 21], [433, 71], [433, 107], [434, 1], [434, 94], [434, 1], [412, 65], [422, 423], [422, 138], [305, 94], [126, 332], [126, 414], [126, 74], [1, 1], [1, 335], [28, 420, 324], [28, 71], [28, 227], [28, 21, 116], [28, 116, 108], [28, 431], [71, 1], [71, 111], [71, 316], [71, 1, 1], [1, 190], [225, 224], [1, 51], [61, 36, 23], [61, 108, 177], [61, 65], [251, 1], [257, 19], [187, 66], [187, 215], [56, 337], [56, 225], [56, 21, 108], [407, 65], [175, 36], [175, 187], [111, 36], [39, 19], [323, 19], [315, 71], [1, 36], [1, 36], [15, 36], [15, 187, 101], [265, 260], [265, 325], [265, 1], [1, 1], [1, 1], [1, 1], [108, 1], [108, 190], [108, 1], [267], [1, 1], [1, 43], [27, 36], [140], [140, 36], [23, 335], [23, 1], [23, 138], [332, 126], [268], [268, 1], [268, 258], [1, 421, 226], [414, 126], [84, 36], [84, 21], [10, 36], [10, 435, 107], [10, 305], [10, 21], [10, 109], [45, 74], [1, 74], [326, 308], [326, 138], [51, 191], [51, 101], [51, 71], [51, 334], [51, 1], [51, 157], [51, 227], [51, 1], [51, 338], [51, 192], [51, 1], [51, 419], [51, 154], [51, 57], [51, 1], [1], [1, 107], [326, 218], [66, 1], [66, 1], [66, 419], [66, 154], [188, 151], [188, 101], [188, 334], [188, 1], [188, 323], [188, 223, 1], [66, 269], [1, 10], [1, 74], [228, 36], [228, 403], [228, 84], [228, 21], [228, 192], [228, 138], [1, 36], [1, 36], [1, 1], [43, 1], [109, 264], [109, 1], [27, 1], [173, 43], [57, 43], [219, 43], [27, 155], [78, 339], [78, 436], [27, 155, 193], [27, 155, 1], [1], [214, 106], [72, 339], [72, 436], [24, 1], [24, 106], [1, 43], [156, 43], [258, 43], [176, 221], [10, 1], [10, 320], [10, 429], [10, 1], [78, 267], [115, 267], [216, 267], [317, 175], [156, 10], [115, 317], [27, 65], [21, 185], [56, 184], [56, 19], [27, 43], [140, 43], [10, 58], [58, 118], [58, 40], [58, 110], [58, 216], [45, 119], [45, 84, 1], [10, 408], [10, 61, 174], [10, 1], [1, 1], [72, 1], [72, 1], [72, 1], [72, 1], [72, 1], [72, 1], [72, 1], [330], [1], [1, 93], [1], [1, 1, 1], [1], [1, 328, 222], [328, 222], [249, 340, 109], [437, 155], [1, 43], [1, 109], [109, 1], [109, 1], [174, 1], [252, 1], [438, 439], [173, 438, 439], [10, 1], [1, 43], [1, 43], [215, 93], [341], [56, 341], [318, 319], [27, 225], [214, 58], [229, 106], [175, 249, 340], [140, 413], [140, 320], [24, 15], [1, 57], [173, 106], [57, 106], [173, 10], [57, 10], [317], [115, 51], [309, 106], [1, 15], [78, 1, 15], [440, 43], [440, 10], [128, 155], [128, 109], [156, 441], [416, 15], [1, 1], [442, 259], [259, 65], [194, 43], [194, 58], [10, 120], [10, 117], [10, 95], [10, 1], [1, 43], [432, 43], [178, 43], [178, 10], [155, 193], [155, 1], [78, 155], [78, 72], [214, 229], [229, 10], [27, 424, 1], [27, 219, 65], [56, 10], [138, 19], [138, 184], [1], [93, 138], [218, 107], [260, 107], [213, 107], [109, 107], [1, 1], [107, 254], [260, 254], [21, 139], [21, 72], [21, 267], [1, 319], [1], [1], [341, 43], [27, 341], [27, 318], [215, 10], [225, 93], [58, 93], [1], [1], [1, 93], [1], [156, 1], [437, 441], [437, 93], [1, 43], [1, 10], [440, 58], [194, 120], [194, 95], [194, 117], [194, 1], [156, 194], [128, 43], [128, 441], [15, 72], [222, 426], [93, 222], [1, 222], [1, 1], [1, 1], [220, 1], [249, 340, 220], [443, 109, 220], [1, 109], [1, 109], [229, 252], [229, 174], [10, 230], [10, 1], [140, 10], [140, 106], [140, 249, 340], [140, 1], [140, 174], [1, 43], [1, 58], [342, 10], [342, 58], [342, 43], [342, 438, 439], [229, 58], [127, 410], [127, 1], [127, 1], [127, 23], [127, 343, 72], [127, 343, 220], [10, 343, 176], [127, 343, 428], [10, 428], [268, 219], [225, 219], [27, 66], [27, 58], [173, 45], [57, 45], [78, 74], [432, 74], [214, 151], [28, 1], [28, 213], [56, 21], [24, 51], [316, 187], [213, 10], [309, 10], [106, 72], [61, 174], [61, 252], [127, 87, 212], [327, 1, 423, 1], [258, 66], [429], [1], [1], [115, 51], [78, 339], [27, 216, 339], [27, 215], [152, 51], [173, 51], [78, 436], [1, 1], [1, 1], [156, 74], [156, 66], [175, 10], [333, 10], [1], [1, 74], [1, 74], [1, 74], [21, 401, 129], [21, 1], [21, 19], [36, 71], [126, 332], [253, 116], [74, 1], [74, 444], [74, 1], [344, 74], [56, 151], [219, 151], [226], [226, 1], [1, 226], [1], [51, 101], [51, 130], [1, 66], [27, 1], [15, 65], [337, 322], [442, 259], [416, 1], [1, 1, 312], [417, 418], [417, 311], [311, 330], [1, 151], [1, 1], [1, 1], [259, 65], [1, 36], [1], [27, 407], [1], [15, 1], [21, 185], [36, 410], [36, 23], [257, 36], [255, 1], [36, 191], [1, 43], [17, 79], [2, 11], [1], [158, 54], [88], [44], [2, 96], [1], [158, 79], [1], [1], [1], [1, 244], [1, 1], [179, 1], [1, 1], [88, 1], [1, 1], [1], [17, 345], [54, 79], [1, 1], [445], [1], [4], [231], [195], [14], [346], [1, 347], [1], [17, 89], [17, 159], [2, 11, 121], [446, 1], [1], [14, 1], [1], [160, 1], [1], [1, 1], [37, 1, 1], [1, 247], [196, 270, 161], [1, 161], [1, 1], [1, 271], [1, 1, 1], [348, 271], [1, 447], [1, 1], [88, 44, 448, 1], [2, 7, 79], [2, 1, 1], [2, 7, 272, 1], [1], [1], [1], [1], [1, 161], [231, 121, 161], [231, 162, 161], [1, 158], [449, 450], [1, 1], [1], [1], [1, 1, 449], [1], [1, 1, 1], [1], [451, 161], [1, 1, 1], [1, 1, 348], [1], [1, 1], [1], [1], [1, 452], [1, 1], [141, 197, 453], [141, 273, 76], [141, 1], [1, 446], [1, 112], [160, 454], [455], [2, 1], [2, 456], [2, 1], [1, 1, 449], [198, 457, 161], [37, 458], [459], [1, 1], [37, 1], [1], [1], [1], [1, 161], [459, 349], [1], [1, 161], [460, 461], [348, 461], [1, 1], [1], [462, 1], [1], [1, 1], [1, 1, 1], [1, 1, 349], [1, 1, 349], [463], [448], [1], [1, 79], [162], [274, 1], [274, 1], [274, 463], [274, 1], [274, 350], [464, 334], [464, 162], [464, 1], [1], [1], [1], [1], [1], [37, 1], [37, 1], [196, 465], [196, 1], [196, 451], [196, 1], [1], [1], [1], [1], [1], [1], [37, 275], [37, 198], [37, 1], [462, 1], [1], [1], [1, 273], [1, 197], [141, 160], [141, 1], [141, 195], [141, 14], [44, 1], [44, 276], [44, 1, 121], [232], [112], [1], [1], [7], [2, 7], [1, 466], [233, 1], [233, 276], [233, 1], [199, 233], [199, 33], [199, 277], [199, 278], [199, 1], [199, 351], [199, 96], [467], [1], [31, 468], [31, 142], [31, 469], [31, 352], [31, 1], [1], [279, 121], [279, 470], [279, 1], [279, 131], [142, 471], [142, 1], [142, 1], [142, 280], [142, 1], [142, 62], [142, 1], [48, 353], [48, 54], [48, 234], [48, 1], [48, 354], [48, 1], [48, 1], [48, 1], [48, 472], [131, 473], [131, 470], [131, 1], [347], [1], [1], [1], [1], [1], [474], [1], [1], [475], [476], [1], [1], [1], [1], [1], [1], [477, 353], [355, 353], [1, 54], [1, 54], [1, 54], [1, 54], [1, 54], [54, 356], [54, 1], [54, 478], [162, 54], [162, 354], [162, 1], [162, 470], [162, 1], [479], [33, 281], [33, 62], [33, 80], [33, 282], [33, 1], [33, 1], [33, 357], [33, 1], [33, 1], [33, 1], [33, 1], [33, 1], [1], [1], [1], [1], [1], [1, 306], [1, 306], [1, 306], [9, 143], [9, 96], [9, 160], [9, 200], [9, 283], [9, 277], [9, 351], [9, 278], [9, 284], [9, 358], [9, 359], [9, 1], [9, 1], [9, 1], [9, 1], [9, 480], [9, 1], [9, 272], [9, 360], [9, 285], [9, 1], [9, 1], [9, 1], [9, 1], [9, 1], [9, 1], [9, 1], [9, 1], [9, 1], [9, 1], [9, 201], [9, 201, 1], [9, 1], [9, 1], [9, 1], [9, 1], [9, 1], [9, 1], [9, 481], [9, 1], [9, 1], [9, 1], [9, 1], [9, 1], [9, 1], [9, 1], [9, 1], [9, 1], [9, 285, 1], [9, 1], [9, 1], [9, 1, 286], [9, 482, 483], [9, 468], [9, 358, 89], [9, 1, 62], [9, 96, 235], [9, 96, 46], [9, 96, 361], [9, 96, 1], [9, 46, 1], [9, 46, 157], [9, 46, 1], [9, 46, 1], [9, 46, 1], [9, 46, 1], [9, 46, 287], [9, 46, 1], [9, 46, 1], [9, 46, 1], [9, 46, 1], [9, 46, 1], [9, 46, 1], [9, 46, 121], [9, 46, 1], [9, 46, 180], [9, 46, 80], [9, 46, 484], [9, 46, 189], [9, 46, 1], [9, 46, 62], [9, 46, 89], [9, 46, 1], [12, 55], [12, 485], [12, 1], [12, 1], [12, 1], [12, 1], [12, 1], [12, 468], [12, 273], [12, 1], [12, 1], [12, 201], [12, 1], [12, 1], [12, 486], [12, 33, 487], [12, 33, 80], [12, 33, 1], [12, 33, 282], [12, 33, 62], [12, 33, 281], [12, 485, 1], [12, 485, 40], [12, 55, 62], [12, 55, 80], [12, 55, 287], [12, 55, 488], [12, 55, 180], [12, 55, 286], [12, 55, 180, 181], [12, 55, 180, 62], [12, 55, 488, 80], [12, 55, 180, 80], [12, 55, 1, 80], [12, 55, 489, 80], [12, 55, 286, 80], [12, 55, 287, 62], [12, 55, 489, 62], [12, 55, 286, 62], [12, 55, 180, 89], [12, 55, 489, 89], [12, 55, 286, 89], [12, 55, 287, 89], [12, 55, 80, 89], [12, 55, 62, 89], [12, 55, 89, 180], [12, 55, 89, 488], [12, 55, 89, 287], [17, 79], [17, 345], [17, 89], [17, 362], [17, 456], [17, 1], [17, 1], [17, 363], [17, 490], [17, 1], [17, 1], [17, 1], [17, 1, 479], [17, 1], [17, 270], [17, 1], [17, 1], [17, 54, 1], [17, 54, 1], [17, 1], [17, 1], [17, 1], [17, 1], [17, 1, 479], [17, 1, 1], [17, 1, 1], [17, 79, 1], [17, 79, 234], [17, 79, 1], [17, 79, 122], [17, 79, 356], [17, 79, 1], [17, 364], [17, 1], [17, 1], [17, 1], [17, 1], [17, 1], [17, 362, 491], [17, 362, 202], [17, 362, 365], [17, 159], [17, 236], [17, 236, 1], [17, 236, 492], [17, 236, 131], [17, 236, 54], [17, 1], [17, 1], [17, 1], [17, 492, 144], [17, 1], [17, 1], [17, 1], [17, 1], [17, 345, 493], [17, 345, 1], [17, 1], [35, 12], [35, 1, 1], [35, 1], [35, 1], [35, 363], [35, 1], [35, 1], [35, 1], [35, 158], [35, 445], [35, 144], [35, 14], [35, 1], [35, 159], [35, 1], [35, 12, 201], [35, 12, 284], [35, 12, 33, 487], [35, 12, 285], [35, 12, 1], [35, 12, 47, 197], [35, 12, 1], [35, 12, 14, 195], [35, 12, 1], [35, 12, 486], [35, 12, 201, 1], [35, 12, 364], [35, 12, 1, 160], [35, 12, 47, 284], [35, 12, 33, 1], [35, 12, 33, 282], [35, 12, 33, 281], [35, 12, 33, 80], [35, 12, 195], [35, 12, 14], [35, 12, 201, 89], [35, 12, 201, 181], [35, 12, 33, 1], [35, 12, 33, 486], [35, 12, 33, 1], [4, 54], [4, 48], [4, 1], [4, 1], [4, 158], [4, 493], [4, 1], [4, 366], [4, 1], [4, 159], [4, 144], [4, 1], [4, 1], [4, 1], [4, 203], [4, 1], [4, 1], [4, 1], [4, 163], [4, 494], [4, 1], [4, 145], [4, 1], [4, 367], [4, 1], [4, 1], [4, 495], [4, 288], [4, 1], [4, 1, 1], [4, 1], [4, 197], [4, 1], [4, 14], [4, 195], [4, 1], [4, 1], [4, 1], [4, 363], [4, 1], [4, 1], [4, 1], [4, 1], [4, 1], [4, 1], [4, 1], [4, 248], [4, 355], [4, 477], [4, 1], [4, 1], [4, 1], [4, 490], [4, 1], [4, 1], [4, 1], [4, 1], [4, 1], [4, 1], [4, 476], [4, 1], [4, 475], [4, 1], [4, 1], [4, 1], [4, 474], [4, 1], [4, 492], [4, 1], [4, 1], [4, 395], [4, 1], [4, 1], [4, 1], [4, 347], [4, 1], [4, 1], [4, 1], [4, 1], [4, 1], [4, 1], [4, 48, 234], [4, 48, 353], [4, 48, 1], [4, 48, 1], [4, 48, 1], [4, 48, 472], [4, 48, 54, 356], [4, 48, 54, 1], [4, 48, 289], [4, 48, 1], [4, 48, 1], [4, 48, 354], [4, 48, 1], [4, 48, 1], [4, 48, 1], [4, 48, 1], [4, 48, 289, 1], [4, 48, 289, 1], [4, 48, 289, 1], [1], [1], [14, 1], [14, 162], [14, 1], [14, 1], [14, 79], [14, 1], [14, 443], [14, 1], [14, 484], [14, 452], [14, 1], [14, 1], [14, 76], [14, 1, 1], [14, 31, 469], [14, 31, 159], [14, 31, 1, 121], [14, 31, 279], [14, 31, 1, 164], [14, 31, 1], [14, 31, 469, 76], [14, 31, 142], [14, 31, 352], [14, 31, 352, 76], [14, 31, 1], [14, 31, 1, 164, 76], [14, 31, 280, 181], [14, 31, 280, 181, 76], [14, 31, 280, 80], [14, 31, 280, 80, 76], [14, 31, 46], [14, 31, 46, 76], [14, 31, 96], [14, 31, 96, 76], [14, 31, 96, 361], [14, 31, 96, 361, 76], [14, 31, 200], [14, 31, 200, 76], [14, 31, 278], [14, 31, 278, 76], [14, 31, 351], [14, 31, 351, 76], [14, 31, 143], [14, 31, 143, 76], [14, 31, 143, 62], [14, 31, 143, 62, 76], [14, 31, 143, 80], [14, 31, 143, 80, 76], [14, 31, 143, 89], [14, 31, 143, 89, 76], [14, 31, 283], [14, 31, 283, 76], [14, 31, 283, 62], [14, 31, 283, 62, 76], [14, 31], [2, 455], [2, 1], [2, 1], [2, 456], [2, 1], [2, 9], [2, 160, 454], [2, 1, 1], [2, 1], [2, 1], [2, 33, 80], [2, 1], [2, 1], [2, 482, 483], [2, 237, 1], [2, 355, 1], [2, 1], [2, 1], [2, 1, 289], [2, 1], [2, 364], [2, 360], [2, 272], [2, 200], [2, 480, 1], [2, 359], [2, 358], [2, 496], [2, 96], [2, 46], [2, 1], [2, 481], [2, 278], [2, 277], [2, 284], [2, 1], [2, 9, 1], [2, 497], [2, 1], [2, 1, 350], [2, 1, 197], [2, 160], [2, 1], [2, 7, 79], [2, 7, 478], [2, 7, 1], [2, 7, 1], [2, 7, 1], [2, 7, 1], [2, 7, 1], [2, 7, 1], [2, 7, 1], [2, 7, 1], [2, 7, 498], [2, 7, 1], [2, 7, 1], [2, 7, 1], [2, 7, 1], [2, 7, 1, 1], [2, 7, 460, 1], [2, 7, 1], [2, 7, 233], [2, 7, 1], [2, 7, 277], [2, 7, 1], [2, 7, 33, 80], [2, 7, 237], [2, 7, 272], [2, 7, 1], [2, 7, 200], [2, 7, 359], [2, 7, 358], [2, 7, 360], [2, 7, 496], [2, 7, 160], [2, 7, 285], [2, 7, 88], [2, 7, 11, 62], [2, 7, 179], [2, 7, 1, 121], [2, 7, 448, 1], [2, 7, 33, 281], [2, 7, 33, 62], [2, 7, 33, 1], [2, 7, 33, 357], [2, 7, 33, 1], [2, 7, 33, 1], [2, 7, 33, 1], [2, 7, 33, 1], [2, 7, 33, 1], [2, 7, 1], [2, 7, 446], [2, 7, 1], [2, 7, 1], [2, 7, 1], [2, 7, 232], [2, 7, 112], [2, 7, 467], [2, 7, 1], [2, 7, 1], [2, 7, 1], [2, 7, 350, 164], [2, 7, 459], [2, 7, 1], [2, 7, 1], [2, 7, 1, 290], [2, 7, 275, 1], [2, 7, 1], [2, 7, 1], [2, 7, 1], [2, 7, 1], [2, 7, 1], [2, 7, 1], [2, 7, 1], [2, 7, 458], [2, 7, 37, 1], [2, 7, 37, 257], [2, 7, 37, 1], [2, 7, 37, 1], [2, 7, 37, 1], [2, 7, 37, 498], [2, 7, 37, 275], [2, 7, 37, 499], [2, 7, 37, 1], [2, 7, 37, 1], [2, 7, 198, 457], [2, 7, 231, 121], [2, 7, 1, 336], [2, 7, 37, 1], [2, 7, 37, 1, 1], [2, 7, 37, 1], [2, 7, 37, 1], [2, 7, 37, 1], [2, 7, 37, 1], [2, 7, 37, 1], [2, 7, 37, 1], [2, 7, 37, 1], [2, 7, 37, 1, 202], [11, 121], [11, 465], [11, 62], [11, 1], [11, 1], [11, 471], [11, 1], [11, 1], [11, 2], [11, 1], [11, 44], [11, 46], [11, 497], [11, 186, 1], [11, 1], [11, 179], [11, 1, 121], [11, 1], [11, 1], [11, 47, 1, 180], [11, 47, 360], [11, 47, 1], [11, 47, 1], [11, 47, 1], [11, 47, 1], [11, 47, 1], [11, 47, 1], [11, 47, 197], [11, 47, 1], [11, 47, 1], [11, 47, 200], [11, 47, 1], [11, 47, 284], [11, 47, 481], [11, 47, 96], [11, 47, 1], [11, 47, 1], [11, 47, 1], [11, 47, 1], [11, 47, 60], [11, 47, 1], [11, 47, 1, 303], [1], [1], [1], [1], [1], [1], [1], [1], [1, 1], [1], [451], [1], [1], [368], [369, 477], [54, 1], [354, 79], [1], [273, 79], [2, 1], [11, 121], [2, 88], [11, 1], [2, 9], [204, 272], [204, 200], [204, 96], [204, 480], [204, 143], [35], [363], [54, 270], [131, 270], [14, 79], [195, 79], [142], [12, 1], [1], [1, 54], [4, 493], [4, 54], [4, 366], [369, 54], [369, 1], [490], [1], [54, 1], [54, 1], [131, 476], [236, 131], [445, 159], [1, 159], [1, 453], [368, 54], [368, 234], [368, 131], [1, 131], [1, 1], [1], [1], [1], [1], [1], [352], [1], [1], [1], [1], [1], [1], [1], [1], [1], [1], [1], [1], [1], [1], [1], [1, 1], [1, 1], [1, 1], [1], [1], [1], [1, 1], [1], [1, 1], [1, 1, 1], [1], [11, 1], [11, 471, 1], [1, 1], [1, 1], [1], [1, 1], [1], [1], [1, 1], [1], [1], [1], [1], [1], [1], [1], [1], [1], [1, 158], [1], [158, 1], [158, 1], [158, 1], [1], [1], [1], [1], [1, 1], [1, 1], [1, 1], [1], [1], [1], [1, 430], [1], [1, 453], [14, 1], [14, 484], [14, 1], [14, 443], [195, 1], [1], [1], [1], [1], [231, 121], [231, 1], [196, 270], [196, 1], [1], [2, 7], [1], [1], [349], [1], [1], [1], [1, 1], [198], [198, 457], [198, 1], [37, 499], [37, 1], [37, 1], [1], [458], [275, 1], [37, 275], [37, 1], [1, 290], [37, 1], [37, 498], [1], [1], [1], [1], [1], [1], [1, 350, 164], [1, 1], [1], [1], [1], [291, 179], [291, 1], [11, 62], [11, 370], [11, 164], [11, 1], [2, 11, 465], [2, 96, 361], [2, 237, 1], [2, 482, 483], [2, 355, 1], [2, 33, 80], [2, 1], [2, 160, 454], [2, 1], [2, 1, 1], [2, 455], [2, 1], [2, 1], [2, 1, 1], [2, 496], [2, 359], [2, 33, 62], [2, 364], [2, 1], [2, 1], [2, 1], [371, 1], [40, 1], [40, 181], [40, 237], [44, 179], [44, 282], [44, 233], [44, 277], [44, 1], [44, 33], [44, 1], [232, 447], [1], [1], [1, 271], [460, 271], [46, 271], [88, 164], [88, 44], [88, 1], [88, 1], [88, 1], [88, 1], [1], [1], [1], [1], [1], [1, 1], [1], [1, 1], [1, 1], [1], [11, 1], [11, 179], [11, 1], [11, 497], [11, 46], [11, 467], [11, 1], [11, 1], [11, 1], [11, 1], [1, 179], [1], [1], [291, 1], [291, 1], [291, 1], [44, 234], [44, 357], [44, 1], [44, 463], [44, 1], [371, 1], [1], [1], [11, 1], [11, 62, 276], [11, 164, 276], [11, 181], [11, 370, 276], [11, 62, 47], [11, 164, 47], [11, 181, 47], [11, 370, 47], [371, 179], [11, 1], [11, 47, 1], [11, 1, 1], [371, 473], [204, 473], [204, 1], [1, 450], [1, 450], [1, 9], [9, 478], [1, 9], [369, 9], [37, 461], [37, 499], [1], [1], [1], [141, 273], [141, 197], [141, 9], [1], [1], [1], [1], [346, 347], [346, 131], [346, 452], [44, 282], [44, 357], [44, 1], [44, 33, 62], [44, 234], [44, 472], [112, 1], [112, 1], [112, 1], [112, 1], [112, 1], [112, 1], [112, 1], [112, 1], [112, 1], [112, 466, 348], [232, 1], [232, 1, 9], [232, 447], [2, 1], [2, 1], [1], [44, 1], [44, 1], [44, 1], [44, 1], [44, 305, 466], [44, 1, 1], [44, 223, 1], [88, 1], [88, 1], [88, 1], [88, 1], [88, 1], [11, 164], [11, 370], [11, 181], [92], [99], [1], [1], [52], [1], [1], [13], [1], [20], [1], [1], [1], [1], [386], [393], [1], [393, 1], [150, 1], [90, 123, 29], [90, 123, 25], [90, 123, 22], [90, 123, 30], [90, 5, 13, 372], [90, 18, 41, 372], [90, 32, 1], [90, 6, 292], [49, 81, 13], [49, 81, 41], [49, 205, 20], [27, 66, 29], [27, 66, 25], [27, 66, 22], [27, 66, 30], [3, 13, 63], [3, 52, 85, 206], [3, 20, 1], [3, 20, 292], [24, 77, 29], [24, 77, 25], [24, 77, 22], [24, 77, 30], [24, 3, 13, 63], [24, 3, 52], [24, 3, 20], [24, 70, 6], [19, 29], [19, 25], [19, 22], [19, 30], [19, 3, 13, 63], [19, 3, 52], [19, 3, 20], [19, 70, 6], [57, 165, 29], [57, 165, 25], [57, 165, 22], [57, 165, 30], [57, 165, 13, 63], [57, 165, 52], [57, 165, 32], [57, 165, 205], [78, 293, 29], [78, 293, 25], [78, 293, 22], [78, 293, 30], [78, 1, 52], [78, 1, 13], [78, 1, 20], [27, 182, 29], [27, 182, 25], [27, 182, 22], [27, 182, 30], [27, 182, 52], [27, 1, 13], [27, 150, 20], [27, 18, 6], [5, 81], [5, 193], [18, 81, 52], [18, 193, 52], [6, 81], [6, 193], [115, 123, 29], [115, 123, 25], [115, 123, 22], [115, 123, 30], [115, 5, 13], [115, 18, 52], [115, 6], [15, 85, 207, 29], [15, 85, 207, 25], [15, 85, 207, 22], [15, 85, 207, 30], [15, 85, 207, 5], [15, 85, 207, 18, 52], [15, 85, 207, 6], [34, 60, 137, 29], [34, 60, 137, 25], [34, 60, 137, 22], [34, 60, 137, 30], [34, 60, 137, 13, 63], [34, 60, 137, 52], [34, 60, 137, 32], [34, 60, 137, 20], [34, 60, 100, 29], [34, 60, 100, 25], [34, 60, 100, 22], [34, 60, 100, 30], [34, 60, 100, 13, 63], [34, 60, 100, 52], [34, 60, 100, 32], [34, 60, 100, 20], [90, 193, 25], [75, 22, 23], [81, 1, 5], [49, 13, 444], [3, 41, 227], [34, 32, 157], [205, 20, 1], [18, 6, 1], [152, 28, 29], [19, 25, 336, 266], [77, 191, 435, 22], [21, 30, 444], [3, 13, 262], [49, 81, 41], [34, 32, 1], [3, 20, 1, 40], [294, 87, 6], [24, 29, 1, 1], [42, 338, 25], [15, 22, 154], [28, 21, 30], [5, 81, 113], [49, 13, 63, 157], [28, 3, 41, 91], [1, 32, 23], [3, 20, 1], [49, 81, 87, 6], [28, 77, 29], [42, 25, 338], [21, 22, 71], [34, 30, 431], [3, 13, 101], [3, 41, 1], [28, 32, 1], [3, 20, 21], [15, 87, 6], [28, 29, 208, 6], [42, 25, 208, 5], [373, 22], [21, 116, 30], [49, 13, 85, 206], [3, 41, 1], [34, 32, 95], [28, 3, 20, 292], [90, 70, 87, 6], [24, 85, 29], [15, 25, 1], [19, 22, 336, 266], [21, 30, 139], [3, 13, 227], [28, 3, 41, 60, 100], [34, 32, 6], [3, 20, 262], [15, 294, 6], [90, 293, 29], [28, 25, 208, 6], [42, 22, 192], [21, 30, 95], [3, 13, 1], [28, 3, 41], [34, 32, 91], [3, 20, 73], [67, 87, 6], [28, 85, 29], [42, 25, 208, 6], [15, 22, 227], [21, 30, 117], [3, 13, 91], [28, 3, 41, 1], [28, 3, 20, 184], [15, 101, 87, 6], [42, 25, 95], [19, 22, 23], [21, 139, 30], [49, 13, 157], [28, 3, 41, 374], [34, 32, 230], [28, 3, 20, 1, 1], [15, 154, 87, 6], [24, 123, 29], [42, 25, 192], [15, 177, 22], [21, 71, 30], [3, 13, 85, 1], [28, 3, 41, 262], [3, 20, 1, 1], [67, 1, 87, 6], [24, 29, 91, 153], [28, 25, 1, 1], [42, 338, 22], [21, 120, 30], [49, 13, 1], [28, 3, 41, 91, 153], [34, 32, 139], [3, 20, 292], [15, 387, 87, 6], [28, 29, 21], [42, 25, 71], [19, 22, 154], [21, 117, 30], [28, 3, 41, 73], [34, 32, 73], [28, 3, 20, 1], [15, 1, 87, 6], [24, 29, 230], [42, 25, 208, 442, 206], [373, 1, 22], [21, 177, 30], [28, 3, 41, 95], [34, 32, 91, 153], [3, 20, 157], [67, 70, 87, 6], [152, 24, 29], [42, 25, 412], [15, 22, 139], [21, 95, 30], [3, 13, 85, 206], [28, 3, 41, 117], [34, 32, 1], [28, 3, 20, 230], [15, 294, 101, 87, 6], [42, 25, 1], [19, 139, 22], [3, 13, 60, 100], [3, 20, 184], [67, 1, 6], [28, 29, 95], [21, 30, 192], [3, 13, 1], [15, 154, 6], [24, 29, 91], [42, 25, 101], [373, 116, 22], [67, 73, 87, 6], [42, 25, 208, 206], [67, 70, 6], [19, 22, 120], [15, 1, 6], [15, 294, 101, 6], [19, 22, 139], [67, 73, 6], [90, 123], [90, 1], [34, 77, 22], [213, 24, 30], [57, 1, 29], [24, 183, 25], [21, 19, 22], [308, 19, 30], [1, 123, 5], [3, 13, 63], [34, 32, 23], [27, 205, 20], [57, 81, 6], [90, 85, 29], [27, 216, 209, 25], [152, 24, 22], [24, 75, 30], [56, 21, 29], [42, 77, 25], [78, 209, 22], [57, 1, 30], [295, 13, 63], [27, 32], [56, 1, 20], [18, 81, 6], [24, 183, 29], [128, 209, 25], [15, 139, 22], [19, 65, 30], [3, 13, 157], [67, 41], [27, 301, 32], [1, 205, 20], [24, 70, 6], [1, 209, 29], [152, 1, 25], [178, 182, 22], [123, 1, 57, 30], [5, 1], [150, 13], [34, 41, 60, 100], [178, 15, 32], [27, 150, 20], [18, 1, 6], [90, 1, 331, 29], [178, 92, 25], [56, 21, 22], [34, 1, 30], [1, 5], [1, 13], [42, 41], [24, 165, 32], [1, 81, 20], [67, 6], [28, 152, 29], [344, 15, 22], [34, 1, 30], [1, 5], [28, 3, 13], [178, 41], [209, 32], [1, 20], [18, 6], [1, 24, 29], [128, 182, 25], [373, 183, 22], [10, 30], [1, 5], [49, 13], [34, 41, 230], [309, 10, 32], [57, 1, 20], [1, 70, 6], [21, 29, 153, 266], [1, 209, 25], [178, 15, 22], [56, 21, 30], [5, 13, 372], [344, 3, 13], [1, 32], [56, 205, 20], [24, 183, 6], [1, 209, 25], [34, 139, 22], [19, 120, 30], [128, 5], [178, 150, 41], [77, 32], [27, 3, 20], [1, 294, 6], [15, 65, 29], [152, 57, 1, 25], [56, 1, 22], [1, 208, 5], [28, 3, 13, 63], [42, 41, 1], [128, 32], [15, 20], [67, 1, 6], [156, 77, 29], [152, 24, 25], [344, 92, 22], [24, 183, 30], [128, 13, 63], [57, 1, 20], [70, 182, 6], [67, 41], [34, 29], [27, 268, 25], [24, 1, 22], [57, 77, 30], [90, 1, 331, 5], [67, 13], [28, 3, 41, 85, 206], [56, 205, 292, 20], [24, 70, 154, 6], [15, 177, 25], [45, 3, 38], [75, 375, 38], [3, 20, 38], [75, 53], [3, 13, 53], [49, 13, 53], [34, 53], [75, 59], [3, 59], [42, 59], [49, 59], [3, 68], [49, 68], [42, 68], [3, 69], [49, 69], [42, 69], [3, 64], [49, 64], [42, 64], [21, 38], [19, 38], [3, 21, 53], [19, 53], [21, 59], [19, 68], [21, 69], [19, 64], [75, 3, 23], [10, 23, 38], [10, 23, 53], [10, 23, 59], [10, 23, 68], [10, 23, 69], [10, 23, 64], [15, 65, 38], [15, 65, 53], [15, 65, 59], [15, 65, 68], [15, 65, 69], [15, 65, 64], [24, 15, 38], [24, 15, 53], [24, 15, 59], [24, 15, 68], [24, 15, 69], [24, 15, 64], [3, 95, 53], [3, 117, 53], [3, 120, 53], [3, 95, 59], [3, 117, 59], [3, 120, 59], [3, 95, 68], [3, 117, 68], [3, 120, 68], [3, 95, 69], [3, 117, 69], [3, 120, 69], [3, 95, 64], [3, 117, 64], [3, 120, 64], [75, 3, 13, 63], [3, 13, 63, 21], [34, 13, 63], [49, 13, 63], [42, 13, 63], [5, 13, 63], [27, 13, 63], [295, 13, 63], [67, 13, 63], [75, 52, 23], [3, 52, 23], [21, 3, 52], [34, 52], [49, 52], [42, 52], [18, 52], [27, 52], [295, 52], [67, 52], [75, 32, 23], [3, 32, 23], [21, 32, 23], [19, 32, 23], [34, 32, 23], [49, 32, 23], [42, 32, 23], [27, 32, 23], [295, 32, 23], [67, 32, 23], [75, 20, 23], [3, 20, 23], [21, 20, 23], [19, 20, 23], [34, 20, 23], [49, 20, 23], [42, 20, 23], [18, 20, 23], [27, 20, 23], [295, 20, 23], [67, 20, 23], [45, 119, 29], [45, 119, 25], [45, 119, 22], [45, 119, 30], [45, 119, 5], [45, 119, 13], [45, 119, 41], [45, 119, 32], [45, 119, 20], [45, 119, 6], [10, 118, 29], [10, 118, 25], [10, 118, 22], [10, 118, 30], [10, 118, 5], [10, 118, 13], [10, 118, 41], [10, 118, 32], [10, 118, 20], [10, 118, 6], [58, 40, 29], [58, 40, 25], [58, 40, 22], [58, 40, 30], [58, 40, 5], [58, 40, 13], [58, 40, 41], [58, 40, 32], [58, 40, 20], [58, 40, 6], [39, 132, 29], [39, 132, 25], [39, 132, 22], [39, 132, 30], [39, 132, 5], [39, 132, 13], [39, 132, 41], [39, 132, 32], [39, 132, 20], [39, 132, 6], [39, 133, 29], [39, 133, 25], [39, 133, 22], [39, 133, 30], [39, 133, 5], [39, 133, 13], [39, 133, 41], [39, 133, 32], [39, 133, 20], [39, 133, 6], [39, 73, 29], [39, 73, 25], [39, 73, 22], [39, 73, 30], [39, 73, 5], [39, 73, 13], [39, 73, 41], [39, 73, 32], [39, 73, 20], [39, 73, 6], [45, 111, 29], [45, 111, 25], [45, 111, 22], [45, 111, 30], [45, 111, 5], [45, 111, 13], [45, 111, 41], [45, 111, 32], [45, 111, 20], [45, 111, 6], [10, 110, 29], [10, 110, 25], [10, 110, 22], [10, 110, 30], [10, 110, 5], [10, 110, 13], [10, 110, 41], [10, 110, 32], [10, 110, 20], [10, 110, 6], [45, 3, 1, 38], [3, 1, 38], [75, 1, 38], [138, 36, 38], [3, 374, 38], [3, 13, 38], [3, 52, 38], [3, 375, 38], [3, 1, 38], [19, 375, 38], [21, 3, 20, 38], [21, 3, 13, 38], [21, 3, 52, 38], [21, 3, 374, 38], [21, 3, 1, 38], [75, 3, 13, 53], [19, 3, 13, 53], [49, 81, 53], [42, 77, 53], [5, 193, 53], [128, 13, 53], [67, 13, 53], [75, 3, 59], [28, 3, 59], [42, 77, 59], [49, 59, 153, 266], [67, 59], [19, 3, 59], [75, 3, 68], [28, 3, 68], [49, 81, 68], [42, 77, 68], [5, 68], [67, 68], [19, 3, 68], [75, 3, 69], [28, 3, 69], [49, 81, 69], [42, 77, 69], [5, 69], [67, 69], [19, 3, 69], [75, 3, 64], [28, 3, 64], [49, 81, 64], [42, 77, 64], [5, 64], [67, 64], [19, 3, 64], [24, 70, 29], [24, 70, 25], [24, 70, 22], [24, 70, 30], [24, 70, 5], [24, 70, 13], [24, 70, 41], [24, 70, 32], [24, 70, 20], [321, 77, 29], [321, 77, 25], [321, 77, 22], [75, 3, 23, 38], [21, 375, 38], [84, 374, 38], [1, 92, 38], [3, 13, 262, 53], [3, 13, 1, 53], [3, 13, 1, 53], [1, 150, 53], [34, 59, 230], [34, 59, 1], [42, 1, 59], [1, 59, 372], [1, 68, 435, 69], [3, 68, 95], [61, 39, 68], [5, 1, 69], [45, 3, 69, 120], [3, 64, 95], [45, 3, 64, 120], [1, 69, 1, 64], [45, 119, 38], [10, 118, 38], [10, 40, 38], [39, 132, 38], [39, 133, 38], [39, 73, 38], [45, 111, 38], [10, 110, 38], [24, 15, 53, 23], [24, 15, 59, 23], [24, 15, 68, 23], [24, 15, 69, 23], [24, 15, 64, 23], [21, 3, 13, 63, 38], [75, 3, 13, 91], [3, 13, 63, 101], [3, 13, 63, 60, 100], [49, 81, 91, 53], [49, 81, 1, 53], [42, 59, 91], [49, 59, 91], [42, 64, 91], [49, 64, 91], [67, 154, 53], [210, 1, 1], [210, 1], [210, 1], [210, 1], [210, 1], [210, 296], [1], [1], [1, 130], [1, 376, 1], [1], [1], [1], [1], [1, 73], [1], [1], [1], [1], [1], [1, 102], [1, 103], [1], [1], [1], [1, 73], [1, 102], [1], [1], [1], [1], [1, 376, 202], [1, 376, 1], [1], [1], [1], [1, 1], [297, 1], [1], [1], [1], [1, 1], [1], [1], [1], [1, 1], [1], [1], [1, 1], [1], [1], [1, 376], [1], [1], [1, 130], [1], [1], [1, 130], [1, 269, 91, 102], [1, 91], [1], [297, 1], [1], [1, 130], [1, 1], [1, 1], [1], [1, 166], [1], [1, 130], [1], [1], [134, 1, 130], [134, 1], [210, 1], [1], [377, 166], [1], [1], [491, 237], [1], [1, 73], [1, 91], [1, 130], [1], [1], [1], [1], [1, 130], [1], [1, 130], [238, 203, 261], [238, 145, 366], [238, 1], [238, 1], [238, 113, 1], [238, 202, 1], [1, 130, 1], [68, 1], [1, 1, 1], [8, 1, 99, 1, 1], [8, 114, 1], [8, 114, 166, 1], [8, 1, 298], [8, 1], [8, 1], [8, 167, 166], [8, 1, 1], [8, 1], [8, 1, 1], [8, 299, 378], [8, 299, 168], [8, 299, 298], [8, 299, 1], [8, 299, 1], [8, 1, 1], [8, 1, 378], [8, 1, 168], [8, 1, 168], [8, 1, 50], [8, 1], [8, 134, 1], [8, 1, 1], [8, 239, 1], [8, 239, 1, 378], [8, 239, 1, 168], [8, 239, 1, 298], [8, 97, 50, 378], [8, 97, 50, 168], [8, 97, 50, 298], [8, 97, 50, 1], [8, 97, 50, 1], [8, 97, 50, 1], [8, 97, 50, 1], [8, 97, 50, 1], [8, 97, 50, 1], [8, 97, 50, 1], [8, 97, 50, 1], [8, 97, 50, 1], [8, 97, 50, 1], [8, 97, 50, 1], [8, 97, 50, 1], [8, 1, 1], [8, 134, 395], [8, 1], [8, 1], [8, 1], [8, 1], [8, 475], [8, 474], [8, 1], [8, 1], [8, 1], [8, 1], [8, 1], [8, 1], [8, 1], [8, 1], [8, 1], [8, 1], [8, 1, 296], [8, 1, 296, 168], [8, 1, 296, 298], [8, 1, 239], [8, 1, 1], [8, 8, 1], [8, 1, 1], [8, 1], [8, 1], [8, 1], [8, 1], [8, 296], [8, 1, 261], [8, 1], [8, 1], [8, 1], [8, 1], [8, 1], [8, 1], [8, 1], [8, 1], [8, 1], [8, 1], [8, 1], [8, 1], [8, 1], [8, 1], [8, 1, 1], [8, 135, 50, 1], [8, 135, 50, 1], [8, 135, 50, 1], [8, 135, 50, 1], [8, 135, 50, 1], [8, 135, 50, 1], [8, 135, 50, 1], [8, 135, 50, 1], [8, 135, 50, 1], [8, 135, 50, 1], [8, 135, 50, 1], [1, 169], [1], [1, 40], [1, 40], [1, 40], [1, 40], [169, 1], [430, 40, 1], [1, 40], [1, 40], [1, 40], [1, 40], [1], [1, 40], [1, 1], [1, 40, 32], [1, 40], [6, 1, 1, 113], [6, 1, 1, 1, 113], [6, 1, 1, 1, 1, 235], [6, 1, 1, 145, 122, 104], [6, 379, 1, 1, 211, 82, 102], [6, 1, 1, 144, 146, 103], [6, 1, 1, 288], [6, 1, 1, 1, 202, 122, 147], [6, 1, 1, 1, 163, 122, 147], [6, 1, 1, 1, 203, 122, 98], [6, 1, 1, 1, 1, 82, 103], [6, 1, 1, 159, 146, 98], [6, 379, 1, 1, 168, 1, 380, 146, 102], [6, 1, 1, 1, 124, 98], [6, 1, 1, 1, 1, 124, 102], [6, 1, 1, 1, 124, 104], [6, 379, 1, 1, 168, 1, 1, 148], [6, 1, 1, 290, 170], [6, 1, 1, 1, 1, 136], [6, 1, 1, 1, 136], [6, 1, 1, 1, 136], [6, 1, 1, 168, 1, 1, 240, 240], [6, 1, 1, 1, 1, 114, 86, 104], [6, 1, 1, 1, 1, 114, 86, 104], [6, 1, 1, 211, 82, 102], [6, 1, 1, 1, 1, 124, 147], [6, 1, 1, 1, 381, 171, 148], [6, 1, 1, 1, 1, 171, 148], [6, 1, 1, 1, 1, 1, 1, 124, 104], [6, 1, 1, 1, 136], [6, 1, 1, 1, 1, 1, 82, 147], [6, 1, 1, 1, 124, 103], [6, 1, 1, 382, 382], [6, 1, 1, 383, 122, 104], [6, 1, 1, 1, 122, 147], [6, 1, 1, 1, 1, 122, 147], [6, 1, 1, 1, 122, 98], [6, 1, 1, 1, 82, 86], [6, 1, 1, 1, 1, 1, 82, 147], [6, 1, 1, 384, 82, 86], [6, 1, 1, 1, 82, 86], [6, 379, 1, 1, 1, 170, 103], [6, 1, 1, 1, 1, 170], [6, 1, 1, 1, 1, 1, 122, 104], [6, 1, 1, 1, 367], [6, 1, 1, 1, 1, 1, 367], [6, 1, 1, 1, 1, 367], [6, 1, 1, 1, 1, 1, 1, 124, 147], [6, 1, 1, 1, 1, 1, 136, 98], [5, 1, 1], [5, 113, 206, 1], [5, 1, 1, 1], [5, 1, 1], [5, 1, 1], [5, 281, 1, 1], [5, 1, 1], [5, 1, 1], [5, 1, 1], [5, 1, 1], [5, 203, 1], [5, 1, 1], [5, 1, 1], [5, 1, 1], [5, 1, 1], [5, 1, 1], [5, 1, 1], [5, 1, 1], [5, 1, 1], [5, 1, 1], [5, 163, 1, 1], [5, 163, 1, 1], [5, 297, 1], [5, 494, 1], [5, 1, 1], [5, 1, 1], [5, 1, 1], [5, 1, 1], [5, 1, 1], [5, 1, 1], [5, 288, 1], [5, 1, 1], [5, 1, 1], [5, 1, 1], [5, 1, 1], [5, 145, 1, 1], [5, 145, 1, 1, 1], [5, 1, 1], [5, 1, 1], [5, 1, 1], [5, 383, 269, 1], [5, 1, 1], [5, 1, 1], [5, 1, 1], [5, 1, 1], [5, 144, 1], [5, 1, 1], [5, 1, 1, 1], [5, 1, 1, 1], [5, 134, 1, 1], [5, 1, 1], [5, 1, 1], [5, 1, 1, 1], [5, 1, 1], [5, 1, 1], [5, 134, 1, 1], [5, 1, 1], [5, 1, 1], [5, 1, 1, 1], [5, 1, 1], [5, 159, 1], [5, 1, 1], [5, 1, 1, 1], [5, 1, 1], [5, 1, 1], [5, 1, 1], [5, 1, 1], [5, 1, 1], [5, 377, 1], [5, 1, 1], [1], [1, 1], [1, 1], [1], [1, 166], [1, 1], [1, 1], [1, 85, 1, 146], [1], [1, 1], [1], [1, 1], [1, 166], [1], [1, 1], [1, 239, 261], [1, 1], [144, 166], [1], [1, 1], [1, 1, 85, 114], [1], [1, 1], [1], [1, 1], [1, 1], [1, 1], [1, 1, 1, 1], [1], [1, 1], [1], [1, 1], [1, 50], [1, 166], [1, 1, 1, 52, 426], [462, 166], [1], [1, 1], [167, 1], [167, 163], [167, 381], [167, 1, 495], [167, 1, 203], [167, 1, 380], [167, 240], [167, 1, 211], [1, 1], [1, 1], [1], [18, 356, 1, 113], [18, 1, 113], [18, 1, 1, 113], [18, 1, 113], [18, 1, 1, 113], [18, 1, 163], [18, 1, 202], [18, 1, 288], [18, 1, 1, 145], [18, 1, 1], [18, 1, 1, 235], [18, 1, 235], [18, 1, 203], [18, 1, 203], [18, 1, 495], [18, 1, 1, 1], [18, 377, 1], [18, 297, 297], [18, 1, 1], [18, 1, 1], [18, 1, 163], [18, 1, 163], [18, 1, 288], [18, 1, 1], [18, 1, 494], [18, 1, 269, 202], [18, 1, 1], [18, 1, 1], [18, 1, 1, 1], [18, 1, 1], [18, 1, 1, 145], [18, 1, 1], [18, 1, 1, 1], [18, 1, 1], [18, 1, 383], [18, 1, 1, 1, 145], [18, 1, 1], [18, 1, 366], [18, 1, 1], [18, 1, 1, 1, 1], [18, 1, 145], [18, 52, 1, 1, 82, 147], [18, 1, 1, 114, 86, 98], [18, 1, 365, 114, 86, 98], [18, 198, 1, 82, 102], [18, 1, 211, 82, 102], [18, 1, 211, 82, 102], [18, 1, 285, 144, 146, 103], [18, 1, 1, 144, 146, 103], [18, 1, 144, 146, 103], [26, 377, 1], [26, 1, 240], [26, 1, 383, 122, 104], [26, 1, 235], [26, 1, 365, 114, 86, 98], [26, 1, 365, 114, 86, 98], [26, 1, 381, 171, 148], [26, 1, 1, 1, 134, 1, 171, 148], [26, 134, 1, 1, 1, 171, 148], [26, 380, 1, 269, 380, 146, 102], [26, 1, 1, 124, 98], [26, 1, 1, 124, 102], [26, 1, 1, 124, 104], [26, 1, 1, 124, 104], [26, 1, 1, 124, 103], [26, 1, 1, 82, 102], [26, 382, 382, 82, 103], [26, 290, 290, 170], [26, 1, 1, 170, 103], [26, 1, 1, 136, 98], [26, 1, 1, 136, 98], [26, 1, 1, 136], [26, 1, 1, 136], [26, 1, 1, 136, 98], [26, 1, 1, 136], [26, 1, 1, 171, 148], [26, 1, 1, 1, 171, 148], [26, 1, 1, 113], [26, 491, 237, 113], [26, 1, 1, 114, 86, 104], [26, 1, 1, 114, 86, 104], [26, 1, 1, 114, 86, 104], [26, 1, 1, 114, 86, 104], [26, 384, 384, 82, 86], [26, 1, 1, 170], [26, 1, 1, 170, 103], [26, 384, 1, 82, 86], [26, 1, 171, 1, 146, 98], [26, 1, 170, 86], [26, 1, 170, 86, 98], [26, 134, 1, 113], [26, 134, 1, 145], [26, 1, 144, 146, 103], [26, 134, 1, 163, 122, 147], [26, 211, 211, 82, 102], [26, 1, 1, 235], [26, 1, 1, 381, 171, 148], [26, 1, 1, 82, 103], [26, 487, 1, 240, 240], [26, 1, 1, 148], [38], [1], [1], [1, 169], [1, 169], [1], [1, 169], [1, 1], [1, 1], [1, 169], [1, 169], [1], [1, 169], [1, 169]]\n"
          ]
        }
      ],
      "source": [
        "tokenizer = Tokenizer(num_words = vocab_size , oov_token=oov_tok)\n",
        "tokenizer.fit_on_texts(vocab)\n",
        "word_index  = tokenizer.word_index\n",
        "sequences = tokenizer.texts_to_sequences(vocab)\n",
        "padded_sequences = pad_sequences(sequences, padding=trunc_type,maxlen=max_length)\n",
        "\n",
        "testing_sequences = tokenizer.texts_to_sequences(vocab)\n",
        "testing_padded = pad_sequences(testing_sequences,maxlen=max_length, truncating=trunc_type)\n",
        "\n",
        "print(word_index)\n",
        "print(sequences)\n"
      ]
    },
    {
      "cell_type": "code",
      "source": [
        "padded_sequences"
      ],
      "metadata": {
        "colab": {
          "base_uri": "https://localhost:8080/"
        },
        "id": "7DFDTRr7STMd",
        "outputId": "952cc571-3c97-4156-d866-701a55cdd3ec"
      },
      "execution_count": 51,
      "outputs": [
        {
          "output_type": "execute_result",
          "data": {
            "text/plain": [
              "array([[241,   1,   0, ...,   0,   0,   0],\n",
              "       [241, 242,   0, ...,   0,   0,   0],\n",
              "       [  1, 243,   0, ...,   0,   0,   0],\n",
              "       ...,\n",
              "       [  1,   0,   0, ...,   0,   0,   0],\n",
              "       [  1, 169,   0, ...,   0,   0,   0],\n",
              "       [  1, 169,   0, ...,   0,   0,   0]], dtype=int32)"
            ]
          },
          "metadata": {},
          "execution_count": 51
        }
      ]
    },
    {
      "cell_type": "code",
      "source": [
        "train_data, test_data, train_labels, test_labels = train_test_split(padded_sequences, one_hot_labels, test_size=0.2, random_state=123 ,shuffle=True , stratify=labels)"
      ],
      "metadata": {
        "id": "i0ryyDh-ZB-R"
      },
      "execution_count": 52,
      "outputs": []
    },
    {
      "cell_type": "code",
      "source": [
        "model = Sequential([\n",
        "          tf.keras.layers.Embedding(vocab_size, 32, input_length=max_length),\n",
        "          tf.keras.layers.GlobalAveragePooling1D(),\n",
        "          # tf.keras.layers.Dense(32, activation='relu'),\n",
        "          tf.keras.layers.Dense(15, activation='relu'),\n",
        "          tf.keras.layers.Dense(3, activation='softmax')\n",
        "])\n",
        "\n",
        "# Use categorical crossentropy because this is a multi-class problem\n",
        "model.compile(loss='categorical_crossentropy', optimizer=tf.keras.optimizers.Adam(learning_rate=1e-3), metrics=['accuracy'])"
      ],
      "metadata": {
        "id": "K0FhtlGWSfhQ"
      },
      "execution_count": 53,
      "outputs": []
    },
    {
      "cell_type": "code",
      "source": [
        "num_epochs = 50\n",
        "\n",
        "# Train the model\n",
        "history = model.fit(train_data, train_labels, epochs=num_epochs, validation_data=(test_data, test_labels))"
      ],
      "metadata": {
        "colab": {
          "base_uri": "https://localhost:8080/"
        },
        "id": "cxqNWK3KWHZa",
        "outputId": "f005e944-45e6-4e40-ed82-d4dfd2027bfc"
      },
      "execution_count": 54,
      "outputs": [
        {
          "output_type": "stream",
          "name": "stdout",
          "text": [
            "Epoch 1/50\n",
            "87/87 [==============================] - 1s 5ms/step - loss: 1.0710 - accuracy: 0.5692 - val_loss: 1.0226 - val_accuracy: 0.7810\n",
            "Epoch 2/50\n",
            "87/87 [==============================] - 0s 3ms/step - loss: 0.9214 - accuracy: 0.8183 - val_loss: 0.7796 - val_accuracy: 0.8631\n",
            "Epoch 3/50\n",
            "87/87 [==============================] - 0s 4ms/step - loss: 0.6323 - accuracy: 0.8792 - val_loss: 0.4998 - val_accuracy: 0.8948\n",
            "Epoch 4/50\n",
            "87/87 [==============================] - 0s 3ms/step - loss: 0.4211 - accuracy: 0.8875 - val_loss: 0.3661 - val_accuracy: 0.9049\n",
            "Epoch 5/50\n",
            "87/87 [==============================] - 0s 3ms/step - loss: 0.3231 - accuracy: 0.8926 - val_loss: 0.3038 - val_accuracy: 0.8934\n",
            "Epoch 6/50\n",
            "87/87 [==============================] - 0s 3ms/step - loss: 0.2734 - accuracy: 0.8962 - val_loss: 0.2666 - val_accuracy: 0.8948\n",
            "Epoch 7/50\n",
            "87/87 [==============================] - 1s 9ms/step - loss: 0.2449 - accuracy: 0.8958 - val_loss: 0.2506 - val_accuracy: 0.9078\n",
            "Epoch 8/50\n",
            "87/87 [==============================] - 0s 3ms/step - loss: 0.2268 - accuracy: 0.8983 - val_loss: 0.2471 - val_accuracy: 0.8948\n",
            "Epoch 9/50\n",
            "87/87 [==============================] - 1s 9ms/step - loss: 0.2151 - accuracy: 0.9030 - val_loss: 0.2440 - val_accuracy: 0.8948\n",
            "Epoch 10/50\n",
            "87/87 [==============================] - 0s 3ms/step - loss: 0.2066 - accuracy: 0.9019 - val_loss: 0.2360 - val_accuracy: 0.9063\n",
            "Epoch 11/50\n",
            "87/87 [==============================] - 0s 3ms/step - loss: 0.1983 - accuracy: 0.9099 - val_loss: 0.2385 - val_accuracy: 0.9006\n",
            "Epoch 12/50\n",
            "87/87 [==============================] - 1s 14ms/step - loss: 0.1942 - accuracy: 0.8998 - val_loss: 0.2221 - val_accuracy: 0.9049\n",
            "Epoch 13/50\n",
            "87/87 [==============================] - 0s 5ms/step - loss: 0.1914 - accuracy: 0.9023 - val_loss: 0.2197 - val_accuracy: 0.9049\n",
            "Epoch 14/50\n",
            "87/87 [==============================] - 0s 4ms/step - loss: 0.1890 - accuracy: 0.9030 - val_loss: 0.2219 - val_accuracy: 0.9049\n",
            "Epoch 15/50\n",
            "87/87 [==============================] - 0s 4ms/step - loss: 0.1875 - accuracy: 0.9012 - val_loss: 0.2159 - val_accuracy: 0.9063\n",
            "Epoch 16/50\n",
            "87/87 [==============================] - 0s 5ms/step - loss: 0.1875 - accuracy: 0.9059 - val_loss: 0.2355 - val_accuracy: 0.8977\n",
            "Epoch 17/50\n",
            "87/87 [==============================] - 0s 5ms/step - loss: 0.1843 - accuracy: 0.9066 - val_loss: 0.2199 - val_accuracy: 0.9006\n",
            "Epoch 18/50\n",
            "87/87 [==============================] - 0s 5ms/step - loss: 0.1832 - accuracy: 0.9001 - val_loss: 0.2264 - val_accuracy: 0.8977\n",
            "Epoch 19/50\n",
            "87/87 [==============================] - 0s 5ms/step - loss: 0.1804 - accuracy: 0.9056 - val_loss: 0.2166 - val_accuracy: 0.8991\n",
            "Epoch 20/50\n",
            "87/87 [==============================] - 0s 5ms/step - loss: 0.1795 - accuracy: 0.9066 - val_loss: 0.2279 - val_accuracy: 0.8890\n",
            "Epoch 21/50\n",
            "87/87 [==============================] - 0s 3ms/step - loss: 0.1815 - accuracy: 0.9001 - val_loss: 0.2161 - val_accuracy: 0.9049\n",
            "Epoch 22/50\n",
            "87/87 [==============================] - 0s 3ms/step - loss: 0.1787 - accuracy: 0.9016 - val_loss: 0.2138 - val_accuracy: 0.9049\n",
            "Epoch 23/50\n",
            "87/87 [==============================] - 0s 3ms/step - loss: 0.1789 - accuracy: 0.9059 - val_loss: 0.2137 - val_accuracy: 0.8991\n",
            "Epoch 24/50\n",
            "87/87 [==============================] - 0s 3ms/step - loss: 0.1776 - accuracy: 0.9070 - val_loss: 0.2151 - val_accuracy: 0.9049\n",
            "Epoch 25/50\n",
            "87/87 [==============================] - 0s 3ms/step - loss: 0.1764 - accuracy: 0.9066 - val_loss: 0.2184 - val_accuracy: 0.9049\n",
            "Epoch 26/50\n",
            "87/87 [==============================] - 0s 5ms/step - loss: 0.1773 - accuracy: 0.9019 - val_loss: 0.2155 - val_accuracy: 0.9049\n",
            "Epoch 27/50\n",
            "87/87 [==============================] - 0s 4ms/step - loss: 0.1777 - accuracy: 0.9048 - val_loss: 0.2213 - val_accuracy: 0.9049\n",
            "Epoch 28/50\n",
            "87/87 [==============================] - 0s 4ms/step - loss: 0.1763 - accuracy: 0.9059 - val_loss: 0.2336 - val_accuracy: 0.8876\n",
            "Epoch 29/50\n",
            "87/87 [==============================] - 0s 5ms/step - loss: 0.1775 - accuracy: 0.9027 - val_loss: 0.2199 - val_accuracy: 0.8991\n",
            "Epoch 30/50\n",
            "87/87 [==============================] - 0s 4ms/step - loss: 0.1741 - accuracy: 0.9095 - val_loss: 0.2166 - val_accuracy: 0.9049\n",
            "Epoch 31/50\n",
            "87/87 [==============================] - 1s 6ms/step - loss: 0.1784 - accuracy: 0.9077 - val_loss: 0.2188 - val_accuracy: 0.9049\n",
            "Epoch 32/50\n",
            "87/87 [==============================] - 0s 5ms/step - loss: 0.1764 - accuracy: 0.9037 - val_loss: 0.2148 - val_accuracy: 0.9049\n",
            "Epoch 33/50\n",
            "87/87 [==============================] - 0s 4ms/step - loss: 0.1741 - accuracy: 0.9066 - val_loss: 0.2143 - val_accuracy: 0.9049\n",
            "Epoch 34/50\n",
            "87/87 [==============================] - 0s 4ms/step - loss: 0.1783 - accuracy: 0.9077 - val_loss: 0.2178 - val_accuracy: 0.9049\n",
            "Epoch 35/50\n",
            "87/87 [==============================] - 0s 5ms/step - loss: 0.1743 - accuracy: 0.9074 - val_loss: 0.2138 - val_accuracy: 0.9049\n",
            "Epoch 36/50\n",
            "87/87 [==============================] - 0s 3ms/step - loss: 0.1745 - accuracy: 0.9066 - val_loss: 0.2221 - val_accuracy: 0.8991\n",
            "Epoch 37/50\n",
            "87/87 [==============================] - 0s 3ms/step - loss: 0.1744 - accuracy: 0.9084 - val_loss: 0.2316 - val_accuracy: 0.8977\n",
            "Epoch 38/50\n",
            "87/87 [==============================] - 0s 3ms/step - loss: 0.1765 - accuracy: 0.9066 - val_loss: 0.2346 - val_accuracy: 0.8862\n",
            "Epoch 39/50\n",
            "87/87 [==============================] - 0s 3ms/step - loss: 0.1762 - accuracy: 0.9041 - val_loss: 0.2171 - val_accuracy: 0.9049\n",
            "Epoch 40/50\n",
            "87/87 [==============================] - 0s 3ms/step - loss: 0.1764 - accuracy: 0.9045 - val_loss: 0.2177 - val_accuracy: 0.9049\n",
            "Epoch 41/50\n",
            "87/87 [==============================] - 0s 3ms/step - loss: 0.1813 - accuracy: 0.9081 - val_loss: 0.2168 - val_accuracy: 0.8991\n",
            "Epoch 42/50\n",
            "87/87 [==============================] - 0s 2ms/step - loss: 0.1749 - accuracy: 0.9027 - val_loss: 0.2265 - val_accuracy: 0.8977\n",
            "Epoch 43/50\n",
            "87/87 [==============================] - 0s 3ms/step - loss: 0.1743 - accuracy: 0.9063 - val_loss: 0.2185 - val_accuracy: 0.9049\n",
            "Epoch 44/50\n",
            "87/87 [==============================] - 0s 3ms/step - loss: 0.1807 - accuracy: 0.8983 - val_loss: 0.2200 - val_accuracy: 0.9049\n",
            "Epoch 45/50\n",
            "87/87 [==============================] - 0s 3ms/step - loss: 0.1737 - accuracy: 0.9030 - val_loss: 0.2172 - val_accuracy: 0.8991\n",
            "Epoch 46/50\n",
            "87/87 [==============================] - 0s 3ms/step - loss: 0.1730 - accuracy: 0.9027 - val_loss: 0.2254 - val_accuracy: 0.9035\n",
            "Epoch 47/50\n",
            "87/87 [==============================] - 0s 2ms/step - loss: 0.1755 - accuracy: 0.9048 - val_loss: 0.2154 - val_accuracy: 0.9049\n",
            "Epoch 48/50\n",
            "87/87 [==============================] - 0s 3ms/step - loss: 0.1750 - accuracy: 0.9048 - val_loss: 0.2355 - val_accuracy: 0.8862\n",
            "Epoch 49/50\n",
            "87/87 [==============================] - 0s 3ms/step - loss: 0.1728 - accuracy: 0.9077 - val_loss: 0.2292 - val_accuracy: 0.8977\n",
            "Epoch 50/50\n",
            "87/87 [==============================] - 0s 3ms/step - loss: 0.1731 - accuracy: 0.9077 - val_loss: 0.2235 - val_accuracy: 0.9035\n"
          ]
        }
      ]
    },
    {
      "cell_type": "code",
      "source": [
        "# Mengakses history dari model\n",
        "history = model.history.history\n",
        "\n",
        "# Menyimpan akurasi dari data training dan data validasi\n",
        "accuracy = history['accuracy']\n",
        "val_accuracy = history['val_accuracy']\n",
        "\n",
        "# Mengakses epoch\n",
        "epochs = range(1, len(accuracy) + 1)\n",
        "\n",
        "# Plotting akurasi training dan validation\n",
        "plt.plot(epochs, accuracy, 'b', label='Training Accuracy')\n",
        "plt.plot(epochs, val_accuracy, 'r', label='Validation Accuracy')\n",
        "plt.title('Training and Validation Accuracy')\n",
        "plt.xlabel('Epochs')\n",
        "plt.ylabel('Accuracy')\n",
        "plt.legend()\n",
        "plt.show()"
      ],
      "metadata": {
        "colab": {
          "base_uri": "https://localhost:8080/",
          "height": 472
        },
        "id": "uFhHQZ7Aa809",
        "outputId": "9d4fa7e6-29f7-4c14-d6b1-969a83f38476"
      },
      "execution_count": 55,
      "outputs": [
        {
          "output_type": "display_data",
          "data": {
            "text/plain": [
              "<Figure size 640x480 with 1 Axes>"
            ],
            "image/png": "[encoded data removed]"
          },
          "metadata": {}
        }
      ]
    },
    {
      "cell_type": "code",
      "source": [
        "# Text input\n",
        "text_input = 'kue jakarta'\n",
        "\n",
        "# Ubah teks input menjadi sequence angka menggunakan tokenizer\n",
        "sequence = tokenizer.texts_to_sequences([text_input])\n",
        "\n",
        "# Tambahkan padding pada sequence\n",
        "padded_sequence = pad_sequences(sequence, maxlen=max_length, padding='post')\n",
        "\n",
        "# Lakukan prediksi menggunakan model\n",
        "predictions = model.predict(padded_sequence)\n",
        "\n",
        "# Output prediksi (nilai probabilitas dari lapisan softmax)\n",
        "# print(\"Predicted probabilities:\", predictions[0])\n",
        "\n",
        "treshold = 0.3\n",
        "\n",
        "# Memeriksa apakah probabilitas tertinggi kurang dari treshold\n",
        "if np.max(predictions) < treshold:\n",
        "    predicted_class = \"other\"\n",
        "else:\n",
        "    predicted_class_index = np.argmax(predictions, axis=1)\n",
        "    predicted_class = label_encoder.inverse_transform(predicted_class_index)\n",
        "\n",
        "# Output prediksi kelas\n",
        "print(\"Predicted Class:\", predicted_class)\n",
        "\n",
        "probabilities_rounded = [round(prob, 4) for prob in predictions[0]]\n",
        "print(\"Predicted probabilities:\", probabilities_rounded)"
      ],
      "metadata": {
        "colab": {
          "base_uri": "https://localhost:8080/"
        },
        "id": "Pnk6rKVBaGXx",
        "outputId": "36e3e8c5-0a95-4e20-ea77-12be3e7c9196"
      },
      "execution_count": 57,
      "outputs": [
        {
          "output_type": "stream",
          "name": "stdout",
          "text": [
            "1/1 [==============================] - 0s 73ms/step\n",
            "Predicted Class: ['Food']\n",
            "Predicted probabilities: [1e-04, 0.9875, 0.0125]\n"
          ]
        }
      ]
    },
    {
      "cell_type": "code",
      "source": [],
      "metadata": {
        "id": "22-5hQXJyaJL"
      },
      "execution_count": null,
      "outputs": []
    }
  ],
  "metadata": {
    "colab": {
      "provenance": []
    },
    "kernelspec": {
      "display_name": "Python 3",
      "name": "python3"
    },
    "language_info": {
      "name": "python"
    }
  },
  "nbformat": 4,
  "nbformat_minor": 0
}