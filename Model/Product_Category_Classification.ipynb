{
  "cells": [
    {
      "cell_type": "code",
      "execution_count": 194,
      "metadata": {
        "colab": {
          "base_uri": "https://localhost:8080/"
        },
        "id": "JF8CWRUp9MsE",
        "outputId": "e7ef03e5-69ef-4fed-f789-54c18603fbed"
      },
      "outputs": [
        {
          "output_type": "stream",
          "name": "stdout",
          "text": [
            "Requirement already satisfied: gensim in /usr/local/lib/python3.10/dist-packages (4.3.2)\n",
            "Requirement already satisfied: scikit-learn in /usr/local/lib/python3.10/dist-packages (1.2.2)\n",
            "Requirement already satisfied: numpy>=1.18.5 in /usr/local/lib/python3.10/dist-packages (from gensim) (1.25.2)\n",
            "Requirement already satisfied: scipy>=1.7.0 in /usr/local/lib/python3.10/dist-packages (from gensim) (1.11.4)\n",
            "Requirement already satisfied: smart-open>=1.8.1 in /usr/local/lib/python3.10/dist-packages (from gensim) (6.4.0)\n",
            "Requirement already satisfied: joblib>=1.1.1 in /usr/local/lib/python3.10/dist-packages (from scikit-learn) (1.4.2)\n",
            "Requirement already satisfied: threadpoolctl>=2.0.0 in /usr/local/lib/python3.10/dist-packages (from scikit-learn) (3.5.0)\n"
          ]
        }
      ],
      "source": [
        "!pip install gensim scikit-learn"
      ]
    },
    {
      "cell_type": "code",
      "execution_count": 195,
      "metadata": {
        "id": "2m-hKBwv9eXi"
      },
      "outputs": [],
      "source": [
        "import gensim\n",
        "from gensim.models import Word2Vec\n",
        "import numpy as np\n",
        "import pandas as pd\n",
        "import tensorflow as tf\n",
        "from tensorflow.keras.preprocessing.text import Tokenizer\n",
        "from tensorflow.keras.preprocessing.sequence import pad_sequences\n",
        "from tensorflow.keras.models import Sequential\n",
        "from tensorflow.keras.utils import to_categorical\n",
        "from sklearn.preprocessing import LabelEncoder\n",
        "from sklearn.model_selection import train_test_split"
      ]
    },
    {
      "cell_type": "code",
      "execution_count": 196,
      "metadata": {
        "id": "ZMtnLlTD9jro"
      },
      "outputs": [],
      "source": [
        "file_path = 'Dataset.csv'\n",
        "data = pd.read_csv(file_path)"
      ]
    },
    {
      "cell_type": "code",
      "execution_count": 197,
      "metadata": {
        "colab": {
          "base_uri": "https://localhost:8080/",
          "height": 206
        },
        "id": "PJfPb2ZsKd1n",
        "outputId": "4d048d80-c6d0-4726-c678-544dbdc1b38c"
      },
      "outputs": [
        {
          "output_type": "execute_result",
          "data": {
            "text/plain": [
              "  Nama Product  Categories\n",
              "0  Nasi Goreng        Food\n",
              "1       Es Teh        Food\n",
              "2        Bakso        Food\n",
              "3     Mie Ayam        Food\n",
              "4        Pulsa  Elektronik"
            ],
            "text/html": [
              "\n",
              "  <div id=\"df-37c0f633-548c-41d8-9a14-1b7e28b97138\" class=\"colab-df-container\">\n",
              "    <div>\n",
              "<style scoped>\n",
              "    .dataframe tbody tr th:only-of-type {\n",
              "        vertical-align: middle;\n",
              "    }\n",
              "\n",
              "    .dataframe tbody tr th {\n",
              "        vertical-align: top;\n",
              "    }\n",
              "\n",
              "    .dataframe thead th {\n",
              "        text-align: right;\n",
              "    }\n",
              "</style>\n",
              "<table border=\"1\" class=\"dataframe\">\n",
              "  <thead>\n",
              "    <tr style=\"text-align: right;\">\n",
              "      <th></th>\n",
              "      <th>Nama Product</th>\n",
              "      <th>Categories</th>\n",
              "    </tr>\n",
              "  </thead>\n",
              "  <tbody>\n",
              "    <tr>\n",
              "      <th>0</th>\n",
              "      <td>Nasi Goreng</td>\n",
              "      <td>Food</td>\n",
              "    </tr>\n",
              "    <tr>\n",
              "      <th>1</th>\n",
              "      <td>Es Teh</td>\n",
              "      <td>Food</td>\n",
              "    </tr>\n",
              "    <tr>\n",
              "      <th>2</th>\n",
              "      <td>Bakso</td>\n",
              "      <td>Food</td>\n",
              "    </tr>\n",
              "    <tr>\n",
              "      <th>3</th>\n",
              "      <td>Mie Ayam</td>\n",
              "      <td>Food</td>\n",
              "    </tr>\n",
              "    <tr>\n",
              "      <th>4</th>\n",
              "      <td>Pulsa</td>\n",
              "      <td>Elektronik</td>\n",
              "    </tr>\n",
              "  </tbody>\n",
              "</table>\n",
              "</div>\n",
              "    <div class=\"colab-df-buttons\">\n",
              "\n",
              "  <div class=\"colab-df-container\">\n",
              "    <button class=\"colab-df-convert\" onclick=\"convertToInteractive('df-37c0f633-548c-41d8-9a14-1b7e28b97138')\"\n",
              "            title=\"Convert this dataframe to an interactive table.\"\n",
              "            style=\"display:none;\">\n",
              "\n",
              "  <svg xmlns=\"http://www.w3.org/2000/svg\" height=\"24px\" viewBox=\"0 -960 960 960\">\n",
              "    <path d=\"M120-120v-720h720v720H120Zm60-500h600v-160H180v160Zm220 220h160v-160H400v160Zm0 220h160v-160H400v160ZM180-400h160v-160H180v160Zm440 0h160v-160H620v160ZM180-180h160v-160H180v160Zm440 0h160v-160H620v160Z\"/>\n",
              "  </svg>\n",
              "    </button>\n",
              "\n",
              "  <style>\n",
              "    .colab-df-container {\n",
              "      display:flex;\n",
              "      gap: 12px;\n",
              "    }\n",
              "\n",
              "    .colab-df-convert {\n",
              "      background-color: #E8F0FE;\n",
              "      border: none;\n",
              "      border-radius: 50%;\n",
              "      cursor: pointer;\n",
              "      display: none;\n",
              "      fill: #1967D2;\n",
              "      height: 32px;\n",
              "      padding: 0 0 0 0;\n",
              "      width: 32px;\n",
              "    }\n",
              "\n",
              "    .colab-df-convert:hover {\n",
              "      background-color: #E2EBFA;\n",
              "      box-shadow: 0px 1px 2px rgba(60, 64, 67, 0.3), 0px 1px 3px 1px rgba(60, 64, 67, 0.15);\n",
              "      fill: #174EA6;\n",
              "    }\n",
              "\n",
              "    .colab-df-buttons div {\n",
              "      margin-bottom: 4px;\n",
              "    }\n",
              "\n",
              "    [theme=dark] .colab-df-convert {\n",
              "      background-color: #3B4455;\n",
              "      fill: #D2E3FC;\n",
              "    }\n",
              "\n",
              "    [theme=dark] .colab-df-convert:hover {\n",
              "      background-color: #434B5C;\n",
              "      box-shadow: 0px 1px 3px 1px rgba(0, 0, 0, 0.15);\n",
              "      filter: drop-shadow(0px 1px 2px rgba(0, 0, 0, 0.3));\n",
              "      fill: #FFFFFF;\n",
              "    }\n",
              "  </style>\n",
              "\n",
              "    <script>\n",
              "      const buttonEl =\n",
              "        document.querySelector('#df-37c0f633-548c-41d8-9a14-1b7e28b97138 button.colab-df-convert');\n",
              "      buttonEl.style.display =\n",
              "        google.colab.kernel.accessAllowed ? 'block' : 'none';\n",
              "\n",
              "      async function convertToInteractive(key) {\n",
              "        const element = document.querySelector('#df-37c0f633-548c-41d8-9a14-1b7e28b97138');\n",
              "        const dataTable =\n",
              "          await google.colab.kernel.invokeFunction('convertToInteractive',\n",
              "                                                    [key], {});\n",
              "        if (!dataTable) return;\n",
              "\n",
              "        const docLinkHtml = 'Like what you see? Visit the ' +\n",
              "          '<a target=\"_blank\" href=https://colab.research.google.com/notebooks/data_table.ipynb>data table notebook</a>'\n",
              "          + ' to learn more about interactive tables.';\n",
              "        element.innerHTML = '';\n",
              "        dataTable['output_type'] = 'display_data';\n",
              "        await google.colab.output.renderOutput(dataTable, element);\n",
              "        const docLink = document.createElement('div');\n",
              "        docLink.innerHTML = docLinkHtml;\n",
              "        element.appendChild(docLink);\n",
              "      }\n",
              "    </script>\n",
              "  </div>\n",
              "\n",
              "\n",
              "<div id=\"df-586d0bd1-75ab-4a46-93a6-478940af994b\">\n",
              "  <button class=\"colab-df-quickchart\" onclick=\"quickchart('df-586d0bd1-75ab-4a46-93a6-478940af994b')\"\n",
              "            title=\"Suggest charts\"\n",
              "            style=\"display:none;\">\n",
              "\n",
              "<svg xmlns=\"http://www.w3.org/2000/svg\" height=\"24px\"viewBox=\"0 0 24 24\"\n",
              "     width=\"24px\">\n",
              "    <g>\n",
              "        <path d=\"M19 3H5c-1.1 0-2 .9-2 2v14c0 1.1.9 2 2 2h14c1.1 0 2-.9 2-2V5c0-1.1-.9-2-2-2zM9 17H7v-7h2v7zm4 0h-2V7h2v10zm4 0h-2v-4h2v4z\"/>\n",
              "    </g>\n",
              "</svg>\n",
              "  </button>\n",
              "\n",
              "<style>\n",
              "  .colab-df-quickchart {\n",
              "      --bg-color: #E8F0FE;\n",
              "      --fill-color: #1967D2;\n",
              "      --hover-bg-color: #E2EBFA;\n",
              "      --hover-fill-color: #174EA6;\n",
              "      --disabled-fill-color: #AAA;\n",
              "      --disabled-bg-color: #DDD;\n",
              "  }\n",
              "\n",
              "  [theme=dark] .colab-df-quickchart {\n",
              "      --bg-color: #3B4455;\n",
              "      --fill-color: #D2E3FC;\n",
              "      --hover-bg-color: #434B5C;\n",
              "      --hover-fill-color: #FFFFFF;\n",
              "      --disabled-bg-color: #3B4455;\n",
              "      --disabled-fill-color: #666;\n",
              "  }\n",
              "\n",
              "  .colab-df-quickchart {\n",
              "    background-color: var(--bg-color);\n",
              "    border: none;\n",
              "    border-radius: 50%;\n",
              "    cursor: pointer;\n",
              "    display: none;\n",
              "    fill: var(--fill-color);\n",
              "    height: 32px;\n",
              "    padding: 0;\n",
              "    width: 32px;\n",
              "  }\n",
              "\n",
              "  .colab-df-quickchart:hover {\n",
              "    background-color: var(--hover-bg-color);\n",
              "    box-shadow: 0 1px 2px rgba(60, 64, 67, 0.3), 0 1px 3px 1px rgba(60, 64, 67, 0.15);\n",
              "    fill: var(--button-hover-fill-color);\n",
              "  }\n",
              "\n",
              "  .colab-df-quickchart-complete:disabled,\n",
              "  .colab-df-quickchart-complete:disabled:hover {\n",
              "    background-color: var(--disabled-bg-color);\n",
              "    fill: var(--disabled-fill-color);\n",
              "    box-shadow: none;\n",
              "  }\n",
              "\n",
              "  .colab-df-spinner {\n",
              "    border: 2px solid var(--fill-color);\n",
              "    border-color: transparent;\n",
              "    border-bottom-color: var(--fill-color);\n",
              "    animation:\n",
              "      spin 1s steps(1) infinite;\n",
              "  }\n",
              "\n",
              "  @keyframes spin {\n",
              "    0% {\n",
              "      border-color: transparent;\n",
              "      border-bottom-color: var(--fill-color);\n",
              "      border-left-color: var(--fill-color);\n",
              "    }\n",
              "    20% {\n",
              "      border-color: transparent;\n",
              "      border-left-color: var(--fill-color);\n",
              "      border-top-color: var(--fill-color);\n",
              "    }\n",
              "    30% {\n",
              "      border-color: transparent;\n",
              "      border-left-color: var(--fill-color);\n",
              "      border-top-color: var(--fill-color);\n",
              "      border-right-color: var(--fill-color);\n",
              "    }\n",
              "    40% {\n",
              "      border-color: transparent;\n",
              "      border-right-color: var(--fill-color);\n",
              "      border-top-color: var(--fill-color);\n",
              "    }\n",
              "    60% {\n",
              "      border-color: transparent;\n",
              "      border-right-color: var(--fill-color);\n",
              "    }\n",
              "    80% {\n",
              "      border-color: transparent;\n",
              "      border-right-color: var(--fill-color);\n",
              "      border-bottom-color: var(--fill-color);\n",
              "    }\n",
              "    90% {\n",
              "      border-color: transparent;\n",
              "      border-bottom-color: var(--fill-color);\n",
              "    }\n",
              "  }\n",
              "</style>\n",
              "\n",
              "  <script>\n",
              "    async function quickchart(key) {\n",
              "      const quickchartButtonEl =\n",
              "        document.querySelector('#' + key + ' button');\n",
              "      quickchartButtonEl.disabled = true;  // To prevent multiple clicks.\n",
              "      quickchartButtonEl.classList.add('colab-df-spinner');\n",
              "      try {\n",
              "        const charts = await google.colab.kernel.invokeFunction(\n",
              "            'suggestCharts', [key], {});\n",
              "      } catch (error) {\n",
              "        console.error('Error during call to suggestCharts:', error);\n",
              "      }\n",
              "      quickchartButtonEl.classList.remove('colab-df-spinner');\n",
              "      quickchartButtonEl.classList.add('colab-df-quickchart-complete');\n",
              "    }\n",
              "    (() => {\n",
              "      let quickchartButtonEl =\n",
              "        document.querySelector('#df-586d0bd1-75ab-4a46-93a6-478940af994b button');\n",
              "      quickchartButtonEl.style.display =\n",
              "        google.colab.kernel.accessAllowed ? 'block' : 'none';\n",
              "    })();\n",
              "  </script>\n",
              "</div>\n",
              "    </div>\n",
              "  </div>\n"
            ],
            "application/vnd.google.colaboratory.intrinsic+json": {
              "type": "dataframe",
              "variable_name": "data",
              "summary": "{\n  \"name\": \"data\",\n  \"rows\": 345,\n  \"fields\": [\n    {\n      \"column\": \"Nama Product\",\n      \"properties\": {\n        \"dtype\": \"string\",\n        \"num_unique_values\": 344,\n        \"samples\": [\n          \"Oppo\",\n          \"Seblak Baso\",\n          \"Midea\"\n        ],\n        \"semantic_type\": \"\",\n        \"description\": \"\"\n      }\n    },\n    {\n      \"column\": \"Categories\",\n      \"properties\": {\n        \"dtype\": \"category\",\n        \"num_unique_values\": 3,\n        \"samples\": [\n          \"Food\",\n          \"Elektronik\",\n          \"Fashion\"\n        ],\n        \"semantic_type\": \"\",\n        \"description\": \"\"\n      }\n    }\n  ]\n}"
            }
          },
          "metadata": {},
          "execution_count": 197
        }
      ],
      "source": [
        "data.head()"
      ]
    },
    {
      "cell_type": "code",
      "execution_count": 198,
      "metadata": {
        "id": "3Rc85wHPKf9p"
      },
      "outputs": [],
      "source": [
        "vocab = data['Nama Product']\n",
        "vocab = [text.lower() for text in vocab]"
      ]
    },
    {
      "cell_type": "code",
      "source": [
        "labels = data['Categories']\n",
        "label_encoder = LabelEncoder()\n",
        "integer_encoded = label_encoder.fit_transform(labels)\n",
        "one_hot_labels = to_categorical(integer_encoded, num_classes=3)\n",
        "one_hot_labels"
      ],
      "metadata": {
        "colab": {
          "base_uri": "https://localhost:8080/"
        },
        "id": "ZVvlI5jHYGiL",
        "outputId": "5aa2432b-5ca9-469b-de7b-4fd45bb24c90"
      },
      "execution_count": 199,
      "outputs": [
        {
          "output_type": "execute_result",
          "data": {
            "text/plain": [
              "array([[0., 0., 1.],\n",
              "       [0., 0., 1.],\n",
              "       [0., 0., 1.],\n",
              "       ...,\n",
              "       [1., 0., 0.],\n",
              "       [1., 0., 0.],\n",
              "       [1., 0., 0.]], dtype=float32)"
            ]
          },
          "metadata": {},
          "execution_count": 199
        }
      ]
    },
    {
      "cell_type": "code",
      "source": [
        "vocab_size = 500\n",
        "max_length = 4\n",
        "embedding_dim = 16\n",
        "trunc_type='post'\n",
        "oov_tok = \"<OOV>\""
      ],
      "metadata": {
        "id": "bonumb6GXCnL"
      },
      "execution_count": 200,
      "outputs": []
    },
    {
      "cell_type": "code",
      "execution_count": 201,
      "metadata": {
        "colab": {
          "base_uri": "https://localhost:8080/"
        },
        "id": "e2Mx9IiqLLjs",
        "outputId": "fcb5278c-416b-478c-c548-5b64bf657994"
      },
      "outputs": [
        {
          "output_type": "stream",
          "name": "stdout",
          "text": [
            "{'<OOV>': 1, 'baju': 2, 'es': 3, 'kekinian': 4, 'kaos': 5, 'nasi': 6, 'goreng': 7, 'rice': 8, 'mie': 9, 'kopi': 10, 'batik': 11, 'sepatu': 12, 'martabak': 13, 'kue': 14, 'cheese': 15, 'keripik': 16, 'cake': 17, 'teh': 18, 'bakso': 19, 'ayam': 20, 'susu': 21, 'kopiko': 22, 'angin': 23, 'kulkas': 24, 'toshiba': 25, 'ac': 26, 'panasonic': 27, 'sharp': 28, 'mesin': 29, 'cuci': 30, 'lg': 31, 'oppo': 32, 'laptop': 33, 'asus': 34, 'blender': 35, 'philips': 36, 'kebaya': 37, 'tas': 38, 'celana': 39, 'kemeja': 40, 'sandal': 41, 'tahu': 42, 'gado': 43, 'manis': 44, 'caramel': 45, 'seblak': 46, 'pisang': 47, 'gulung': 48, 'coffee': 49, 'tea': 50, 'krim': 51, 'churros': 52, 'macem': 53, 'klepon': 54, 'tart': 55, 'cookies': 56, 'black': 57, 'apple': 58, 'audio': 59, 'pulsa': 60, 'token': 61, 'listrik': 62, 'jeruk': 63, 'cappucino': 64, 'indomie': 65, 'silverqueen': 66, 'tolak': 67, 'kuku': 68, 'bima': 69, 'jahe': 70, 'wangi': 71, 'permen': 72, 'luwak': 73, 'tisu': 74, 'paseo': 75, 'polytron': 76, 'krisbow': 77, 'gt': 78, 'radial': 79, 'tv': 80, 'handphone': 81, 'kain': 82, 'tenun': 83, 'sarung': 84, 'songket': 85, 'vans': 86, 'ransel': 87, 'koko': 88, 'jeans': 89, 'polos': 90, 'flanel': 91, 'dress': 92, 'hijab': 93, 'topi': 94, 'jepit': 95, 'sweater': 96, 'jaket': 97, 'kulit': 98, 'sneakers': 99, 'gamis': 100, 'panjang': 101, 'kaki': 102, 'dompet': 103, 'jam': 104, 'tangan': 105, 'kalung': 106, 'gelang': 107, 'renang': 108, 'anak': 109, 'muslim': 110, 'tidur': 111, 'uduk': 112, 'babi': 113, 'guling': 114, 'sate': 115, 'rendang': 116, 'soto': 117, 'tempe': 118, 'kerupuk': 119, 'krupuk': 120, 'udang': 121, 'kuning': 122, 'padang': 123, 'smartphone': 124, 'televisi': 125, 'cooker': 126, 'kipas': 127, 'lampu': 128, 'led': 129, 'speaker': 130, 'bluetooth': 131, 'earphone': 132, 'power': 133, 'bank': 134, 'kamera': 135, 'digital': 136, 'printer': 137, 'air': 138, 'conditioner': 139, 't': 140, 'shirt': 141, 'polo': 142, 'jilbab': 143, 'oblong': 144, 'formal': 145, 'olahraga': 146, 'pesta': 147, 'kerja': 148, 'dalam': 149, 'wanita': 150, 'pria': 151, 'bayi': 152, 'hamil': 153, 'couple': 154, 'lebaran': 155, 'pengantin': 156, 'machiato': 157, 'croffle': 158, 'crispy': 159, 'nugget': 160, 'corndog': 161, 'sosis': 162, 'balok': 163, 'lumer': 164, 'dessert': 165, 'box': 166, 'roti': 167, 'bakar': 168, 'toast': 169, 'dalgona': 170, 'thai': 171, 'brown': 172, 'sugar': 173, 'boba': 174, 'chizu': 175, 'drink': 176, 'avocado': 177, 'gula': 178, 'aren': 179, 'kepal': 180, 'milo': 181, 'alpukat': 182, 'kocok': 183, 'takoyaki': 184, 'cilok': 185, 'cimol': 186, 'bakpao': 187, 'telur': 188, 'pizza': 189, 'bowl': 190, 'sushi': 191, 'mentai': 192, 'onigiri': 193, 'ramen': 194, 'kimchi': 195, 'fried': 196, 'tteokbokki': 197, 'korean': 198, 'garlic': 199, 'bread': 200, 'hotteok': 201, 'burger': 202, 'spaghetti': 203, 'aglio': 204, 'olio': 205, 'mac': 206, 'and': 207, 'lasagna': 208, 'dim': 209, 'sum': 210, 'siomay': 211, 'batagor': 212, 'aci': 213, 'baso': 214, 'singkong': 215, 'balado': 216, 'kentang': 217, 'pedas': 218, 'popcorn': 219, 'keju': 220, 'ijo': 221, 'cendol': 222, 'dawet': 223, 'campur': 224, 'oyen': 225, 'mango': 226, 'sticky': 227, 'bolu': 228, 'kukus': 229, 'putu': 230, 'dadar': 231, 'lumpur': 232, 'pancake': 233, 'waffle': 234, 'crepe': 235, 'donat': 236, 'tiramisu': 237, 'puding': 238, 'fruit': 239, 'sus': 240, 'vla': 241, 'nastar': 242, 'putri': 243, 'salju': 244, 'kastengel': 245, 'cornflake': 246, 'chocolate': 247, 'chip': 248, 'red': 249, 'velvet': 250, 'forest': 251, 'samsung': 252, 'xiaomi': 253, 'vivo': 254, 'realme': 255, 'lenovo': 256, 'infinix': 257, 'tecno': 258, 'acer': 259, 'hp': 260, 'dell': 261, 'msi': 262, 'macbook': 263, 'chromebook': 264, 'microsoft': 265, 'surface': 266, 'sony': 267, 'tcl': 268, 'hisense': 269, 'coocaa': 270, 'aqua': 271, 'electrolux': 272, 'sanyo': 273, 'gea': 274, 'modena': 275, 'haier': 276, 'gree': 277, 'daikin': 278, 'aux': 279, 'midea': 280, 'maspion': 281, 'miyako': 282, 'cosmos': 283, 'tropic': 284, 'yong': 285, 'ma': 286, 'national': 287, 'eltra': 288, 'tefal': 289, 'decker': 290, 'dyson': 291, 'deerma': 292, 'honeywell': 293, 'coway': 294, 'airo': 295, 'ariston': 296, 'thermor': 297, 'solahart': 298, 'rinnai': 299, 'stiebel': 300, 'eltron': 301, 'claude': 302, 'trina': 303, 'solar': 304, 'quantum': 305, 'jbl': 306, 'yamaha': 307, 'bose': 308, 'sonos': 309, 'klipsch': 310, 'polk': 311, 'sennheiser': 312, 'beats': 313, 'technica': 314, 'akg': 315, 'razer': 316, 'hyperx': 317, 'logitech': 318, 'harman': 319, 'kardon': 320, 'marshall': 321, 'edifier': 322, 'canon': 323, 'nikon': 324, 'fujifilm': 325, 'olympus': 326, 'gopro': 327, 'dji': 328, 'insta360': 329, 'tamron': 330, 'sigma': 331, 'tokina': 332, 'samyang': 333, 'laowa': 334, 'rokinon': 335, 'zeiss': 336, 'parrot': 337, 'autel': 338, 'robotics': 339, 'hubsan': 340, 'powervision': 341, 'skydio': 342, 'ryze': 343, 'tech': 344, 'fpv': 345, 'racing': 346, 'drones': 347, 'holy': 348, 'stone': 349, 'eachine': 350, 'fitbit': 351, 'garmin': 352, 'amazfit': 353, 'huawei': 354, 'ticwatch': 355, 'fossil': 356, 'skagen': 357, 'michael': 358, 'kors': 359, 'epson': 360, 'benq': 361, 'optoma': 362, 'viewsonic': 363, 'xgimi': 364, 'vankyo': 365, 'kodak': 366, 'creston': 367, 'brother': 368, 'lexmark': 369, 'fuji': 370, 'xerox': 371, 'ricoh': 372, 'kyocera': 373, 'konica': 374, 'minolta': 375, 'fujitsu': 376, 'visioneer': 377, 'plustek': 378, 'doximage': 379, 'posapp': 380, 'pax': 381, 'olivetti': 382, 'casio': 383, 's1000': 384, 'datecs': 385, 'ncr': 386, 'citizen': 387, 'alienware': 388, 'predator': 389, 'intel': 390, 'amd': 391, 'm1': 392, 'qualcomm': 393, 'snapdragon': 394, 'nvidia': 395, 'corsair': 396, 'g': 397, 'skill': 398, 'kingston': 399, 'crucial': 400, 'teamgroup': 401, 'patriot': 402, 'adata': 403, 'gigabyte': 404, 'asrock': 405, 'biostar': 406, 'nzxt': 407, 'evga': 408, 'fractal': 409, 'design': 410, 'thermaltake': 411, 'supermicro': 412}\n",
            "[[6, 7], [3, 18], [19], [9, 20], [60], [61, 62], [10], [21], [3, 63], [64], [9, 7], [5], [65], [66], [22], [67, 23], [68, 69], [70, 71], [72, 22], [10, 73], [74, 75], [11], [76], [77], [78, 79], [24, 25], [26, 27], [80, 28], [29, 30, 31], [81, 32], [33, 34], [35, 36], [11], [37], [82, 83], [84], [85], [12, 86], [38, 87], [2, 88], [39, 89], [5, 90], [40, 91], [92], [93], [94], [41, 95], [96], [97, 98], [12, 99], [2, 100], [39, 101], [5, 102], [103], [104, 105], [106], [107], [2, 108], [2, 109], [2, 110], [2, 111], [6, 112], [20, 7], [113, 114], [115], [116], [117], [13], [118], [42], [119], [120, 121], [43, 43], [6, 122], [6, 123], [3, 18, 44], [124], [33], [125], [24], [29, 30], [35], [8, 126], [127, 23], [128, 129], [130, 131], [132], [133, 134], [135, 136], [137], [26, 138, 139], [2, 140, 141], [41], [2, 37], [40], [38], [2, 11], [5, 142], [143], [5, 144], [12, 145], [2, 146], [2, 147], [2, 148], [2, 149], [2, 150], [2, 151], [2, 152], [2, 153], [2, 5], [2, 154], [2, 155], [2, 156], [45, 157], [158], [42, 159], [46], [47, 160], [161], [162, 48], [14, 163, 164], [165, 166], [167, 168, 4], [169, 4], [170, 49], [171, 50], [172, 173, 174], [15, 50], [175, 176], [177, 49], [10, 21, 178, 179], [3, 51, 7], [3, 180, 181], [3, 51, 182, 183], [52], [184], [185], [186], [187, 4], [13, 44, 4], [13, 188, 4], [189, 9], [8, 190], [191, 192], [193], [194], [195, 196, 8], [197], [198, 199, 200], [201], [202, 4], [203, 204, 205], [206, 207, 15], [208], [209, 210], [211], [212], [19, 213], [46, 214], [16, 215, 216], [16, 217, 218], [16, 53, 53], [219, 45], [52, 220], [47, 221], [222], [3, 223], [3, 224], [3, 225], [226, 227, 8], [228, 229, 4], [14, 230], [54], [231, 48], [14, 232], [233], [234], [235], [236, 4], [54, 17], [237], [238, 4], [239, 55], [15, 55], [240, 241], [242], [243, 244], [245], [246, 56], [247, 248, 56], [249, 250, 17], [57, 251, 17], [252], [58], [253], [32], [254], [255], [34], [256], [257], [258], [259], [260], [261], [262], [263], [264], [265, 266], [31], [267], [268], [28], [27], [25], [269], [270], [271], [272], [273], [274], [275], [276], [277], [278], [279], [280], [281], [282], [283], [284], [285, 286], [36], [287], [288], [289], [57, 290], [291], [292], [293], [294], [295], [296], [297], [298], [299], [300, 301], [302], [303, 304], [305], [306], [307], [308], [309], [310], [311, 59], [312], [313], [59, 314], [315], [316], [317], [318], [319, 320], [321], [322], [323], [324], [325], [326], [327], [328], [329], [330], [331], [332], [333], [334], [335], [336], [337], [338, 339], [340], [341], [342], [343, 344], [345, 346, 347], [348, 349], [350], [351], [352], [353], [354], [355], [356], [357], [358, 359], [360], [361], [362], [363], [364], [365], [366], [367], [368], [369], [370, 371], [372], [373], [374, 375], [376], [377], [378], [379], [380], [381], [382], [383], [384], [385], [386], [387], [388], [389], [390], [391], [58, 392], [393, 394], [395], [396], [397, 398], [399], [400], [401], [402], [403], [404], [405], [406], [407], [408], [409, 410], [411], [412]]\n"
          ]
        }
      ],
      "source": [
        "tokenizer = Tokenizer(num_words = vocab_size , oov_token=oov_tok)\n",
        "tokenizer.fit_on_texts(vocab)\n",
        "word_index  = tokenizer.word_index\n",
        "sequences = tokenizer.texts_to_sequences(vocab)\n",
        "padded_sequences = pad_sequences(sequences, padding=trunc_type,maxlen=max_length)\n",
        "\n",
        "testing_sequences = tokenizer.texts_to_sequences(vocab)\n",
        "testing_padded = pad_sequences(testing_sequences,maxlen=max_length, truncating=trunc_type)\n",
        "\n",
        "print(word_index)\n",
        "print(sequences)\n"
      ]
    },
    {
      "cell_type": "code",
      "source": [
        "padded_sequences"
      ],
      "metadata": {
        "colab": {
          "base_uri": "https://localhost:8080/"
        },
        "id": "7DFDTRr7STMd",
        "outputId": "64eae8d2-3094-4887-d21b-91b3fefef509"
      },
      "execution_count": 202,
      "outputs": [
        {
          "output_type": "execute_result",
          "data": {
            "text/plain": [
              "array([[  6,   7,   0,   0],\n",
              "       [  3,  18,   0,   0],\n",
              "       [ 19,   0,   0,   0],\n",
              "       ...,\n",
              "       [409, 410,   0,   0],\n",
              "       [411,   0,   0,   0],\n",
              "       [412,   0,   0,   0]], dtype=int32)"
            ]
          },
          "metadata": {},
          "execution_count": 202
        }
      ]
    },
    {
      "cell_type": "code",
      "source": [
        "train_data, test_data, train_labels, test_labels = train_test_split(padded_sequences, one_hot_labels, test_size=0.2, random_state=42 ,shuffle=True , stratify=labels)"
      ],
      "metadata": {
        "id": "i0ryyDh-ZB-R"
      },
      "execution_count": 203,
      "outputs": []
    },
    {
      "cell_type": "code",
      "source": [
        "model = Sequential([\n",
        "          tf.keras.layers.Embedding(vocab_size, 32, input_length=max_length),\n",
        "          tf.keras.layers.GlobalAveragePooling1D(),\n",
        "          # tf.keras.layers.Dense(32, activation='relu'),\n",
        "          tf.keras.layers.Dense(15, activation='relu'),\n",
        "          tf.keras.layers.Dense(3, activation='softmax')\n",
        "])\n",
        "\n",
        "# Use categorical crossentropy because this is a multi-class problem\n",
        "model.compile(loss='categorical_crossentropy', optimizer=tf.keras.optimizers.Adam(learning_rate=1e-3), metrics=['accuracy'])"
      ],
      "metadata": {
        "id": "K0FhtlGWSfhQ"
      },
      "execution_count": 204,
      "outputs": []
    },
    {
      "cell_type": "code",
      "source": [
        "num_epochs = 50\n",
        "\n",
        "# Train the model\n",
        "history = model.fit(train_data, train_labels, epochs=num_epochs, validation_data=(test_data, test_labels))"
      ],
      "metadata": {
        "colab": {
          "base_uri": "https://localhost:8080/"
        },
        "id": "cxqNWK3KWHZa",
        "outputId": "87bcdb79-2232-48cf-c4e8-a398cfda9aa0"
      },
      "execution_count": 205,
      "outputs": [
        {
          "output_type": "stream",
          "name": "stdout",
          "text": [
            "Epoch 1/50\n",
            "9/9 [==============================] - 3s 34ms/step - loss: 1.0982 - accuracy: 0.3732 - val_loss: 1.0897 - val_accuracy: 0.5362\n",
            "Epoch 2/50\n",
            "9/9 [==============================] - 0s 9ms/step - loss: 1.0831 - accuracy: 0.5217 - val_loss: 1.0795 - val_accuracy: 0.5362\n",
            "Epoch 3/50\n",
            "9/9 [==============================] - 0s 7ms/step - loss: 1.0708 - accuracy: 0.5217 - val_loss: 1.0677 - val_accuracy: 0.5217\n",
            "Epoch 4/50\n",
            "9/9 [==============================] - 0s 9ms/step - loss: 1.0521 - accuracy: 0.5254 - val_loss: 1.0498 - val_accuracy: 0.5217\n",
            "Epoch 5/50\n",
            "9/9 [==============================] - 0s 12ms/step - loss: 1.0275 - accuracy: 0.5254 - val_loss: 1.0312 - val_accuracy: 0.5217\n",
            "Epoch 6/50\n",
            "9/9 [==============================] - 0s 11ms/step - loss: 1.0027 - accuracy: 0.5254 - val_loss: 1.0108 - val_accuracy: 0.5217\n",
            "Epoch 7/50\n",
            "9/9 [==============================] - 0s 13ms/step - loss: 0.9734 - accuracy: 0.5254 - val_loss: 0.9909 - val_accuracy: 0.5362\n",
            "Epoch 8/50\n",
            "9/9 [==============================] - 0s 14ms/step - loss: 0.9432 - accuracy: 0.5254 - val_loss: 0.9709 - val_accuracy: 0.5362\n",
            "Epoch 9/50\n",
            "9/9 [==============================] - 0s 10ms/step - loss: 0.9113 - accuracy: 0.5435 - val_loss: 0.9513 - val_accuracy: 0.5362\n",
            "Epoch 10/50\n",
            "9/9 [==============================] - 0s 10ms/step - loss: 0.8779 - accuracy: 0.5652 - val_loss: 0.9321 - val_accuracy: 0.5362\n",
            "Epoch 11/50\n",
            "9/9 [==============================] - 0s 8ms/step - loss: 0.8433 - accuracy: 0.5797 - val_loss: 0.9129 - val_accuracy: 0.5507\n",
            "Epoch 12/50\n",
            "9/9 [==============================] - 0s 8ms/step - loss: 0.8073 - accuracy: 0.5906 - val_loss: 0.8933 - val_accuracy: 0.5507\n",
            "Epoch 13/50\n",
            "9/9 [==============================] - 0s 11ms/step - loss: 0.7687 - accuracy: 0.6341 - val_loss: 0.8732 - val_accuracy: 0.5652\n",
            "Epoch 14/50\n",
            "9/9 [==============================] - 0s 8ms/step - loss: 0.7277 - accuracy: 0.6848 - val_loss: 0.8531 - val_accuracy: 0.6232\n",
            "Epoch 15/50\n",
            "9/9 [==============================] - 0s 10ms/step - loss: 0.6853 - accuracy: 0.7210 - val_loss: 0.8300 - val_accuracy: 0.6522\n",
            "Epoch 16/50\n",
            "9/9 [==============================] - 0s 8ms/step - loss: 0.6400 - accuracy: 0.7971 - val_loss: 0.8078 - val_accuracy: 0.6667\n",
            "Epoch 17/50\n",
            "9/9 [==============================] - 0s 11ms/step - loss: 0.5933 - accuracy: 0.7971 - val_loss: 0.7856 - val_accuracy: 0.7536\n",
            "Epoch 18/50\n",
            "9/9 [==============================] - 0s 10ms/step - loss: 0.5465 - accuracy: 0.8152 - val_loss: 0.7643 - val_accuracy: 0.7826\n",
            "Epoch 19/50\n",
            "9/9 [==============================] - 0s 11ms/step - loss: 0.4990 - accuracy: 0.8370 - val_loss: 0.7428 - val_accuracy: 0.7826\n",
            "Epoch 20/50\n",
            "9/9 [==============================] - 0s 8ms/step - loss: 0.4537 - accuracy: 0.8623 - val_loss: 0.7221 - val_accuracy: 0.7681\n",
            "Epoch 21/50\n",
            "9/9 [==============================] - 0s 8ms/step - loss: 0.4107 - accuracy: 0.8913 - val_loss: 0.7019 - val_accuracy: 0.7826\n",
            "Epoch 22/50\n",
            "9/9 [==============================] - 0s 12ms/step - loss: 0.3707 - accuracy: 0.9457 - val_loss: 0.6846 - val_accuracy: 0.7826\n",
            "Epoch 23/50\n",
            "9/9 [==============================] - 0s 12ms/step - loss: 0.3325 - accuracy: 0.9529 - val_loss: 0.6676 - val_accuracy: 0.7681\n",
            "Epoch 24/50\n",
            "9/9 [==============================] - 0s 13ms/step - loss: 0.2980 - accuracy: 0.9529 - val_loss: 0.6523 - val_accuracy: 0.7971\n",
            "Epoch 25/50\n",
            "9/9 [==============================] - 0s 11ms/step - loss: 0.2673 - accuracy: 0.9529 - val_loss: 0.6385 - val_accuracy: 0.7971\n",
            "Epoch 26/50\n",
            "9/9 [==============================] - 0s 12ms/step - loss: 0.2391 - accuracy: 0.9565 - val_loss: 0.6280 - val_accuracy: 0.7826\n",
            "Epoch 27/50\n",
            "9/9 [==============================] - 0s 12ms/step - loss: 0.2141 - accuracy: 0.9565 - val_loss: 0.6138 - val_accuracy: 0.7826\n",
            "Epoch 28/50\n",
            "9/9 [==============================] - 0s 12ms/step - loss: 0.1923 - accuracy: 0.9565 - val_loss: 0.6041 - val_accuracy: 0.7826\n",
            "Epoch 29/50\n",
            "9/9 [==============================] - 0s 12ms/step - loss: 0.1727 - accuracy: 0.9638 - val_loss: 0.5991 - val_accuracy: 0.7826\n",
            "Epoch 30/50\n",
            "9/9 [==============================] - 0s 11ms/step - loss: 0.1551 - accuracy: 0.9674 - val_loss: 0.5889 - val_accuracy: 0.7826\n",
            "Epoch 31/50\n",
            "9/9 [==============================] - 0s 11ms/step - loss: 0.1397 - accuracy: 0.9783 - val_loss: 0.5842 - val_accuracy: 0.7826\n",
            "Epoch 32/50\n",
            "9/9 [==============================] - 0s 13ms/step - loss: 0.1258 - accuracy: 0.9855 - val_loss: 0.5746 - val_accuracy: 0.7826\n",
            "Epoch 33/50\n",
            "9/9 [==============================] - 0s 19ms/step - loss: 0.1138 - accuracy: 0.9964 - val_loss: 0.5737 - val_accuracy: 0.7971\n",
            "Epoch 34/50\n",
            "9/9 [==============================] - 0s 36ms/step - loss: 0.1028 - accuracy: 1.0000 - val_loss: 0.5688 - val_accuracy: 0.7971\n",
            "Epoch 35/50\n",
            "9/9 [==============================] - 0s 20ms/step - loss: 0.0930 - accuracy: 1.0000 - val_loss: 0.5625 - val_accuracy: 0.7971\n",
            "Epoch 36/50\n",
            "9/9 [==============================] - 0s 29ms/step - loss: 0.0846 - accuracy: 1.0000 - val_loss: 0.5571 - val_accuracy: 0.7971\n",
            "Epoch 37/50\n",
            "9/9 [==============================] - 0s 22ms/step - loss: 0.0769 - accuracy: 1.0000 - val_loss: 0.5557 - val_accuracy: 0.7971\n",
            "Epoch 38/50\n",
            "9/9 [==============================] - 0s 17ms/step - loss: 0.0700 - accuracy: 1.0000 - val_loss: 0.5526 - val_accuracy: 0.7971\n",
            "Epoch 39/50\n",
            "9/9 [==============================] - 0s 30ms/step - loss: 0.0642 - accuracy: 1.0000 - val_loss: 0.5519 - val_accuracy: 0.7971\n",
            "Epoch 40/50\n",
            "9/9 [==============================] - 0s 31ms/step - loss: 0.0587 - accuracy: 1.0000 - val_loss: 0.5468 - val_accuracy: 0.7971\n",
            "Epoch 41/50\n",
            "9/9 [==============================] - 0s 28ms/step - loss: 0.0539 - accuracy: 1.0000 - val_loss: 0.5435 - val_accuracy: 0.7971\n",
            "Epoch 42/50\n",
            "9/9 [==============================] - 0s 44ms/step - loss: 0.0496 - accuracy: 1.0000 - val_loss: 0.5445 - val_accuracy: 0.7971\n",
            "Epoch 43/50\n",
            "9/9 [==============================] - 0s 30ms/step - loss: 0.0457 - accuracy: 1.0000 - val_loss: 0.5412 - val_accuracy: 0.7971\n",
            "Epoch 44/50\n",
            "9/9 [==============================] - 0s 35ms/step - loss: 0.0422 - accuracy: 1.0000 - val_loss: 0.5393 - val_accuracy: 0.8116\n",
            "Epoch 45/50\n",
            "9/9 [==============================] - 0s 14ms/step - loss: 0.0392 - accuracy: 1.0000 - val_loss: 0.5386 - val_accuracy: 0.8116\n",
            "Epoch 46/50\n",
            "9/9 [==============================] - 0s 19ms/step - loss: 0.0362 - accuracy: 1.0000 - val_loss: 0.5327 - val_accuracy: 0.8116\n",
            "Epoch 47/50\n",
            "9/9 [==============================] - 0s 16ms/step - loss: 0.0336 - accuracy: 1.0000 - val_loss: 0.5313 - val_accuracy: 0.8116\n",
            "Epoch 48/50\n",
            "9/9 [==============================] - 0s 15ms/step - loss: 0.0315 - accuracy: 1.0000 - val_loss: 0.5327 - val_accuracy: 0.8116\n",
            "Epoch 49/50\n",
            "9/9 [==============================] - 0s 12ms/step - loss: 0.0293 - accuracy: 1.0000 - val_loss: 0.5295 - val_accuracy: 0.8116\n",
            "Epoch 50/50\n",
            "9/9 [==============================] - 0s 16ms/step - loss: 0.0274 - accuracy: 1.0000 - val_loss: 0.5276 - val_accuracy: 0.8116\n"
          ]
        }
      ]
    },
    {
      "cell_type": "code",
      "source": [
        "import matplotlib.pyplot as plt\n",
        "\n",
        "# Mengakses history dari model\n",
        "history = model.history.history\n",
        "\n",
        "# Menyimpan akurasi dari data training dan data validasi\n",
        "accuracy = history['accuracy']\n",
        "val_accuracy = history['val_accuracy']\n",
        "\n",
        "# Mengakses epoch\n",
        "epochs = range(1, len(accuracy) + 1)\n",
        "\n",
        "# Plotting akurasi training dan validation\n",
        "plt.plot(epochs, accuracy, 'b', label='Training Accuracy')\n",
        "plt.plot(epochs, val_accuracy, 'r', label='Validation Accuracy')\n",
        "plt.title('Training and Validation Accuracy')\n",
        "plt.xlabel('Epochs')\n",
        "plt.ylabel('Accuracy')\n",
        "plt.legend()\n",
        "plt.show()"
      ],
      "metadata": {
        "colab": {
          "base_uri": "https://localhost:8080/",
          "height": 472
        },
        "id": "uFhHQZ7Aa809",
        "outputId": "e470a9f2-ffe1-4c36-b486-90d916520295"
      },
      "execution_count": 206,
      "outputs": [
        {
          "output_type": "display_data",
          "data": {
            "text/plain": [
              "<Figure size 640x480 with 1 Axes>"
            ],
            "image/png": "[encoded data removed]"
          },
          "metadata": {}
        }
      ]
    },
    {
      "cell_type": "code",
      "source": [
        "text_input = 'asu'\n",
        "\n",
        "# Ubah teks input menjadi sequence angka menggunakan tokenizer\n",
        "sequence = tokenizer.texts_to_sequences([text_input])\n",
        "\n",
        "# Tambahkan padding pada sequence\n",
        "padded_sequence = pad_sequences(sequence, maxlen=max_length, padding='post')\n",
        "\n",
        "# Lakukan prediksi menggunakan model\n",
        "predictions = model.predict(padded_sequence)\n",
        "\n",
        "predicted_class_index = np.argmax(predictions, axis=1)\n",
        "\n",
        "# Dapatkan label kelas yang sesuai dari indeks tersebut\n",
        "predicted_class = label_encoder.inverse_transform(predicted_class_index)\n",
        "\n",
        "# Output prediksi\n",
        "print(\"Predicted Class:\", predicted_class)"
      ],
      "metadata": {
        "colab": {
          "base_uri": "https://localhost:8080/"
        },
        "id": "Pnk6rKVBaGXx",
        "outputId": "8215a6e0-159a-4833-905e-9c9d78a50d8d"
      },
      "execution_count": 209,
      "outputs": [
        {
          "output_type": "stream",
          "name": "stdout",
          "text": [
            "1/1 [==============================] - 0s 23ms/step\n",
            "Predicted Class: ['Elektronik']\n"
          ]
        }
      ]
    },
    {
      "cell_type": "code",
      "source": [],
      "metadata": {
        "id": "KFmxZ__mdhaW"
      },
      "execution_count": 207,
      "outputs": []
    }
  ],
  "metadata": {
    "colab": {
      "provenance": []
    },
    "kernelspec": {
      "display_name": "Python 3",
      "name": "python3"
    },
    "language_info": {
      "name": "python"
    }
  },
  "nbformat": 4,
  "nbformat_minor": 0
}